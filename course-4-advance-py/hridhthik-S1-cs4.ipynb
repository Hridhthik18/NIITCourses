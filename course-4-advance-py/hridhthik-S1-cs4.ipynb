{
 "cells": [
  {
   "cell_type": "code",
   "execution_count": null,
   "id": "83b762e8-f5b2-4e9d-8f23-21cadc209b73",
   "metadata": {},
   "outputs": [],
   "source": [
    "import numpy as np\n",
    "#task1: create array of id for each dept\n",
    "Hr_id = np.arange(1,4)\n",
    "IT_id = np.arange(4,19)\n",
    "Fin_id = np.arange(19,24)\n",
    "Sales_id = np.arange(24,31)\n",
    "print(Hr_id)\n",
    "print(IT_id)\n",
    "print(Fin_id)\n",
    "print(Sales_id)"
   ]
  },
  {
   "cell_type": "code",
   "execution_count": null,
   "id": "fdb89cd8-507e-4cc5-a9c5-30b97286857e",
   "metadata": {},
   "outputs": [],
   "source": [
    "#task2: array for salary of each dept\n",
    "Hr_sal = np.array([50000,60000,57000])\n",
    "It=[67000]\n",
    "IT_sal = np.array(It*15)\n",
    "Fin_sal = np.array([60000,65000,50000,70000,87000])\n",
    "Sales_sal = np.array([50000,60000,65000,90000,56000,65000,71000])\n",
    "print(Hr_sal)\n",
    "print(IT_sal)\n",
    "print(Fin_sal)\n",
    "print(Sales_sal)\n"
   ]
  },
  {
   "cell_type": "code",
   "execution_count": null,
   "id": "5e18b241-d404-474b-b6ed-a297bd8a3dbb",
   "metadata": {},
   "outputs": [],
   "source": [
    "#task3: department wise average salary & dept with highest average salary\n",
    "avg_hr = round(np.mean(Hr_sal),2)\n",
    "avg_IT = round(np.mean(IT_sal),2)\n",
    "avg_Fin = round(np.mean(Fin_sal),2)\n",
    "avg_sales = round(np.mean(Sales_sal),2)\n",
    "print('The average salary in HR department:',avg_hr)\n",
    "print('The average salary in IT department:',avg_IT)\n",
    "print('The average salary in Finance department:',avg_Fin)\n",
    "print('The average salary in Sales department:',avg_sales)\n",
    "Total_avg=max(avg_hr,avg_IT,avg_Fin,avg_sales)\n",
    "print('The highest average salary is',Total_avg,'for IT department')"
   ]
  },
  {
   "cell_type": "code",
   "execution_count": null,
   "id": "190daa0c-2054-4b93-9c4f-2c7e79d277bd",
   "metadata": {},
   "outputs": [],
   "source": [
    "#task4: highest salary in Hr and Finance dept\n",
    "print('The highest salary in HR:',max(Hr_sal))\n",
    "print('The highest salary in Finance:',max(Fin_sal))"
   ]
  },
  {
   "cell_type": "code",
   "execution_count": null,
   "id": "bfe46b01-5f21-4974-8f9c-1840ca41a2a9",
   "metadata": {},
   "outputs": [],
   "source": [
    "#task5: update bonus of 5% for IT dept\n",
    "IT_sal = IT_sal + IT_sal*0.05\n",
    "print('Updated salary:',IT_sal)"
   ]
  },
  {
   "cell_type": "markdown",
   "id": "264624ae-0b6a-42fb-9a0d-61e6728382cd",
   "metadata": {},
   "source": [
    "University Admission decision"
   ]
  },
  {
   "cell_type": "code",
   "execution_count": null,
   "id": "31d9ef34-da58-4c2e-8796-d540cb7f0968",
   "metadata": {},
   "outputs": [],
   "source": [
    "import numpy as np\n",
    "from numpy import genfromtxt"
   ]
  },
  {
   "cell_type": "code",
   "execution_count": null,
   "id": "0b524888-7207-458f-8dda-11fc40a27045",
   "metadata": {},
   "outputs": [],
   "source": [
    "#task1: import data into 2D file\n",
    "adm_data = genfromtxt('DS1_C4_S1_AdmissionPredict_Data_Practice__1_.csv',delimiter=',',skip_header=1)\n",
    "#print(adm_data)\n",
    "print('The number of rows, columns are:',adm_data.shape)"
   ]
  },
  {
   "cell_type": "code",
   "execution_count": null,
   "id": "bef909e6-b0f0-4778-b644-445fbf01be49",
   "metadata": {},
   "outputs": [],
   "source": [
    "#task2: GRE score of all students\n",
    "print('The GRE score of all students:\\n',adm_data[0:,1:2])"
   ]
  },
  {
   "cell_type": "code",
   "execution_count": null,
   "id": "771d5365-89ea-4f01-8633-b0269d3297c0",
   "metadata": {},
   "outputs": [],
   "source": [
    "#task3: No of students whose GRE score above 320\n",
    "index=np.where(adm_data[0:,1]>320)\n",
    "index\n",
    "gre_score=adm_data[index,1].size\n",
    "print('The number of students who have GRE score above 320 is',gre_score)"
   ]
  },
  {
   "cell_type": "code",
   "execution_count": null,
   "id": "aae626b4-74cc-413a-bafc-a04bc826fee1",
   "metadata": {},
   "outputs": [],
   "source": [
    "#task4: Admission chance of students who have TOEFL above 110\n",
    "index=np.where(adm_data[0:,2]>110)\n",
    "index\n",
    "toefl_score=100*adm_data[index,8]\n",
    "print('The admission chance for students having TOEFL greater than 110 is:\\n',toefl_score)"
   ]
  },
  {
   "cell_type": "code",
   "execution_count": null,
   "id": "0eaede14-33ca-44f2-b9f4-06180b753686",
   "metadata": {},
   "outputs": [],
   "source": [
    "#task5: scholarship of 1000, for students who has Toefl>115 & GRE > 315; Number of such eligible students & their serial number\n",
    "index=np.where((adm_data[0:,1]>315) & (adm_data[0:,2]>115) & (adm_data[0:,7]>0))\n",
    "index\n",
    "scholarship=adm_data[index,0]\n",
    "total_numb=adm_data[index,0].size\n",
    "print('A total of',total_numb,'students are eligible for scholarship')\n",
    "print('Serial number of those students are:\\n',scholarship)"
   ]
  }
 ],
 "metadata": {
  "kernelspec": {
   "display_name": "Python 3 (ipykernel)",
   "language": "python",
   "name": "python3"
  },
  "language_info": {
   "codemirror_mode": {
    "name": "ipython",
    "version": 3
   },
   "file_extension": ".py",
   "mimetype": "text/x-python",
   "name": "python",
   "nbconvert_exporter": "python",
   "pygments_lexer": "ipython3",
   "version": "3.12.4"
  }
 },
 "nbformat": 4,
 "nbformat_minor": 5
}
