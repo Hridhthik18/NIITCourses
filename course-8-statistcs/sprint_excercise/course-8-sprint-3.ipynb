{
 "cells": [
  {
   "cell_type": "code",
   "execution_count": 1,
   "id": "c74a3ebe-4358-4ef8-8df3-ab430491810f",
   "metadata": {},
   "outputs": [],
   "source": [
    "import pandas as pd\n",
    "import statistics as st\n",
    "from scipy.stats import norm"
   ]
  },
  {
   "cell_type": "code",
   "execution_count": null,
   "id": "45cdc7ac-46f7-45f4-a593-3c90f774ed1f",
   "metadata": {},
   "outputs": [],
   "source": [
    "# task1:\n",
    "# a.\n",
    "# step1:\n",
    "H0:\n",
    "H0:The mean price per square foot of industrial space has not changed and is still $33.88.\n",
    "H1:The mean price per square foot of industrial space has changed (either increased or decreased).\n",
    "\n",
    "# step2:\n",
    "H0:p=33.88\n",
    "H1:p!-33.88\n",
    "\n",
    "# step3:\n",
    "Since the alternate hypothesis is looking for any significant change (increase or decrease), this is a two-tailed test."
   ]
  },
  {
   "cell_type": "code",
   "execution_count": 3,
   "id": "d1709ff6-7ba3-4b9b-8bf0-3c27d7c68814",
   "metadata": {},
   "outputs": [
    {
     "name": "stdout",
     "output_type": "stream",
     "text": [
      "critcal_value is : -1.9599639845400545\n"
     ]
    }
   ],
   "source": [
    "# b\n",
    "alpha=0.05\n",
    "z_critical=norm.ppf(alpha/2)\n",
    "print('critcal_value is :',z_critical)"
   ]
  },
  {
   "cell_type": "code",
   "execution_count": 5,
   "id": "9ce66963-2b8e-46e8-8327-4bb9ecc989c1",
   "metadata": {},
   "outputs": [
    {
     "name": "stdout",
     "output_type": "stream",
     "text": [
      "z_statistics: -9.296875000000016\n"
     ]
    }
   ],
   "source": [
    "# c\n",
    "# given data\n",
    "\n",
    "import math\n",
    "\n",
    "p_mean=33.88\n",
    "S=1.28\n",
    "s_mean=32.18\n",
    "n=49\n",
    "z_statistics=(s_mean-p_mean)/(S/math.sqrt(n))\n",
    "print('z_statistics:',z_statistics)"
   ]
  },
  {
   "cell_type": "code",
   "execution_count": 7,
   "id": "fdf3a4e8-7d86-4825-98b8-6bba487e30c0",
   "metadata": {},
   "outputs": [
    {
     "name": "stdout",
     "output_type": "stream",
     "text": [
      "p_value : 1.4463410868771357e-20\n"
     ]
    }
   ],
   "source": [
    "# d\n",
    "p_value=norm.sf(abs(z_statistics))*2\n",
    "print('p_value :',p_value)"
   ]
  },
  {
   "cell_type": "code",
   "execution_count": 11,
   "id": "fbef93c0-1c69-408e-9a89-91524b4423ec",
   "metadata": {},
   "outputs": [
    {
     "name": "stdout",
     "output_type": "stream",
     "text": [
      "z_critical: -1.9599639845400545\n"
     ]
    }
   ],
   "source": [
    "# e\n",
    "z_critical=norm.ppf(alpha/2)\n",
    "print('z_critical:',z_critical)\n",
    "\n",
    "\n"
   ]
  },
  {
   "cell_type": "code",
   "execution_count": null,
   "id": "614b3309-1068-435f-ac3e-4e3ec9b015c3",
   "metadata": {},
   "outputs": [],
   "source": [
    "\n",
    "\n",
    "here p_value is less than alpha and z_critical > z_statistics so null hypothesis is rejected.\n",
    "\n",
    "At the 5% level of significance, there is strong evidence to conclude that the mean price per square foot of industrial spaces has significantly changed from $33.88. \n",
    "Specifically, the observed mean of $32.18 suggests a decrease in prices.\n"
   ]
  },
  {
   "cell_type": "code",
   "execution_count": null,
   "id": "88084674-58f3-42f9-b009-778f5f6bad26",
   "metadata": {},
   "outputs": [],
   "source": [
    "# task2\n",
    "# a\n",
    "H0:The mean throwing distance of Mac's javelin throws has not increased and is still 85 yards.\n",
    "H1:The mean throwing distance of Mac's javelin throws has increased and is now greater than 85 yards.\n",
    "\n",
    "H0:p=85\n",
    "H1:p>85\n",
    "\n",
    "Since the alternate hypothesis states that the distance is greater than 85, this is a one-tailed test (right-tailed test)."
   ]
  },
  {
   "cell_type": "code",
   "execution_count": 25,
   "id": "269e65e0-af80-44ad-97cd-730f20618dbc",
   "metadata": {},
   "outputs": [
    {
     "name": "stdout",
     "output_type": "stream",
     "text": [
      "z_critical_value : 1.6448536269514722\n"
     ]
    }
   ],
   "source": [
    "# b\n",
    "alpha=0.05\n",
    "z_critical=norm.ppf(1-alpha)\n",
    "print('z_critical_value :',z_critical)"
   ]
  },
  {
   "cell_type": "code",
   "execution_count": 29,
   "id": "d96755a4-8c6a-4b77-8dfc-e42aa695cf5b",
   "metadata": {},
   "outputs": [
    {
     "name": "stdout",
     "output_type": "stream",
     "text": [
      "z_statistics: 6.734350297014738\n"
     ]
    }
   ],
   "source": [
    "# c\n",
    "# given_data:\n",
    "p_mean=85\n",
    "s_mean=87.5\n",
    "n=32\n",
    "S=2.1\n",
    "\n",
    "z_statistics=((s_mean-p_mean))/(S/math.sqrt(n))\n",
    "print('z_statistics:',z_statistics)"
   ]
  },
  {
   "cell_type": "code",
   "execution_count": 31,
   "id": "44e4f00e-0154-4d07-9f3a-76ec66b95a9b",
   "metadata": {},
   "outputs": [
    {
     "name": "stdout",
     "output_type": "stream",
     "text": [
      "p_value is: 8.233201952582752e-12\n"
     ]
    }
   ],
   "source": [
    "# d\n",
    "p_value=norm.sf(abs(z_statistics))\n",
    "print('p_value is:',p_value)"
   ]
  },
  {
   "cell_type": "code",
   "execution_count": 33,
   "id": "03eabc77-c812-4c3a-92e8-db7653490bc5",
   "metadata": {},
   "outputs": [
    {
     "name": "stdout",
     "output_type": "stream",
     "text": [
      "z_critical: 1.6448536269514722\n"
     ]
    }
   ],
   "source": [
    "# e\n",
    "z_critical=norm.ppf(1-alpha)\n",
    "print('z_critical:',z_critical)"
   ]
  },
  {
   "cell_type": "code",
   "execution_count": null,
   "id": "25194f17-6555-4b73-80d4-36d1bda738d8",
   "metadata": {},
   "outputs": [],
   "source": [
    "p_value is: 8.233201952582752e-12\n",
    "here pvalue is less than the alpha value so we need to reject null hypothesis"
   ]
  },
  {
   "cell_type": "code",
   "execution_count": null,
   "id": "9f7f318f-c5a3-4b84-8ce6-8d6ff9ba8083",
   "metadata": {},
   "outputs": [],
   "source": [
    "At the 5% level of significance, there is strong evidence to conclude that Mac s mean throwing distance has significantly increased beyond 85 yards.\n",
    "This supports the coach s suggestion that adjusting the grip has helped improve the distance."
   ]
  }
 ],
 "metadata": {
  "kernelspec": {
   "display_name": "Python 3 (ipykernel)",
   "language": "python",
   "name": "python3"
  },
  "language_info": {
   "codemirror_mode": {
    "name": "ipython",
    "version": 3
   },
   "file_extension": ".py",
   "mimetype": "text/x-python",
   "name": "python",
   "nbconvert_exporter": "python",
   "pygments_lexer": "ipython3",
   "version": "3.12.7"
  }
 },
 "nbformat": 4,
 "nbformat_minor": 5
}
