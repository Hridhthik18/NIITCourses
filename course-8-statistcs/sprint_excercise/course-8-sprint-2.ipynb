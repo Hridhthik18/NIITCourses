{
 "cells": [
  {
   "cell_type": "code",
   "execution_count": 1,
   "id": "e8fc8a41-28b9-4a34-ad76-4093310f9bb6",
   "metadata": {},
   "outputs": [],
   "source": [
    "import pandas as pd\n",
    "import statistics as st\n",
    "import scipy.stats as sc\n",
    "import matplotlib.pyplot as plt\n",
    "import seaborn as sns"
   ]
  },
  {
   "cell_type": "code",
   "execution_count": 2,
   "id": "1d2fae66-a7c0-4fc8-a124-b6761ebe79f2",
   "metadata": {},
   "outputs": [
    {
     "data": {
      "text/html": [
       "<div>\n",
       "<style scoped>\n",
       "    .dataframe tbody tr th:only-of-type {\n",
       "        vertical-align: middle;\n",
       "    }\n",
       "\n",
       "    .dataframe tbody tr th {\n",
       "        vertical-align: top;\n",
       "    }\n",
       "\n",
       "    .dataframe thead th {\n",
       "        text-align: right;\n",
       "    }\n",
       "</style>\n",
       "<table border=\"1\" class=\"dataframe\">\n",
       "  <thead>\n",
       "    <tr style=\"text-align: right;\">\n",
       "      <th></th>\n",
       "      <th>Index</th>\n",
       "      <th>key</th>\n",
       "      <th>fare_amount</th>\n",
       "      <th>pickup_datetime</th>\n",
       "      <th>pickup_longitude</th>\n",
       "      <th>pickup_latitude</th>\n",
       "      <th>dropoff_longitude</th>\n",
       "      <th>dropoff_latitude</th>\n",
       "      <th>passenger_count</th>\n",
       "    </tr>\n",
       "  </thead>\n",
       "  <tbody>\n",
       "    <tr>\n",
       "      <th>0</th>\n",
       "      <td>24238194</td>\n",
       "      <td>52:06.0</td>\n",
       "      <td>7.5</td>\n",
       "      <td>2015-05-07 19:52:06 UTC</td>\n",
       "      <td>-73.999817</td>\n",
       "      <td>40.738354</td>\n",
       "      <td>-73.999512</td>\n",
       "      <td>40.723217</td>\n",
       "      <td>1</td>\n",
       "    </tr>\n",
       "    <tr>\n",
       "      <th>1</th>\n",
       "      <td>27835199</td>\n",
       "      <td>04:56.0</td>\n",
       "      <td>7.7</td>\n",
       "      <td>2009-07-17 20:04:56 UTC</td>\n",
       "      <td>-73.994355</td>\n",
       "      <td>40.728225</td>\n",
       "      <td>-73.994710</td>\n",
       "      <td>40.750325</td>\n",
       "      <td>1</td>\n",
       "    </tr>\n",
       "    <tr>\n",
       "      <th>2</th>\n",
       "      <td>44984355</td>\n",
       "      <td>45:00.0</td>\n",
       "      <td>12.9</td>\n",
       "      <td>2009-08-24 21:45:00 UTC</td>\n",
       "      <td>-74.005043</td>\n",
       "      <td>40.740770</td>\n",
       "      <td>-73.962565</td>\n",
       "      <td>40.772647</td>\n",
       "      <td>1</td>\n",
       "    </tr>\n",
       "    <tr>\n",
       "      <th>3</th>\n",
       "      <td>25894730</td>\n",
       "      <td>22:21.0</td>\n",
       "      <td>5.3</td>\n",
       "      <td>2009-06-26 08:22:21 UTC</td>\n",
       "      <td>-73.976124</td>\n",
       "      <td>40.790844</td>\n",
       "      <td>-73.965316</td>\n",
       "      <td>40.803349</td>\n",
       "      <td>3</td>\n",
       "    </tr>\n",
       "    <tr>\n",
       "      <th>4</th>\n",
       "      <td>17610152</td>\n",
       "      <td>47:00.0</td>\n",
       "      <td>16.0</td>\n",
       "      <td>2014-08-28 17:47:00 UTC</td>\n",
       "      <td>-73.925023</td>\n",
       "      <td>40.744085</td>\n",
       "      <td>-73.973082</td>\n",
       "      <td>40.761247</td>\n",
       "      <td>5</td>\n",
       "    </tr>\n",
       "    <tr>\n",
       "      <th>...</th>\n",
       "      <td>...</td>\n",
       "      <td>...</td>\n",
       "      <td>...</td>\n",
       "      <td>...</td>\n",
       "      <td>...</td>\n",
       "      <td>...</td>\n",
       "      <td>...</td>\n",
       "      <td>...</td>\n",
       "      <td>...</td>\n",
       "    </tr>\n",
       "    <tr>\n",
       "      <th>199995</th>\n",
       "      <td>42598914</td>\n",
       "      <td>49:00.0</td>\n",
       "      <td>3.0</td>\n",
       "      <td>2012-10-28 10:49:00 UTC</td>\n",
       "      <td>-73.987042</td>\n",
       "      <td>40.739367</td>\n",
       "      <td>-73.986525</td>\n",
       "      <td>40.740297</td>\n",
       "      <td>1</td>\n",
       "    </tr>\n",
       "    <tr>\n",
       "      <th>199996</th>\n",
       "      <td>16382965</td>\n",
       "      <td>09:00.0</td>\n",
       "      <td>7.5</td>\n",
       "      <td>2014-03-14 01:09:00 UTC</td>\n",
       "      <td>-73.984722</td>\n",
       "      <td>40.736837</td>\n",
       "      <td>-74.006672</td>\n",
       "      <td>40.739620</td>\n",
       "      <td>1</td>\n",
       "    </tr>\n",
       "    <tr>\n",
       "      <th>199997</th>\n",
       "      <td>27804658</td>\n",
       "      <td>42:00.0</td>\n",
       "      <td>30.9</td>\n",
       "      <td>2009-06-29 00:42:00 UTC</td>\n",
       "      <td>-73.986017</td>\n",
       "      <td>40.756487</td>\n",
       "      <td>-73.858957</td>\n",
       "      <td>40.692588</td>\n",
       "      <td>2</td>\n",
       "    </tr>\n",
       "    <tr>\n",
       "      <th>199998</th>\n",
       "      <td>20259894</td>\n",
       "      <td>56:25.0</td>\n",
       "      <td>14.5</td>\n",
       "      <td>2015-05-20 14:56:25 UTC</td>\n",
       "      <td>-73.997124</td>\n",
       "      <td>40.725452</td>\n",
       "      <td>-73.983215</td>\n",
       "      <td>40.695416</td>\n",
       "      <td>1</td>\n",
       "    </tr>\n",
       "    <tr>\n",
       "      <th>199999</th>\n",
       "      <td>11951496</td>\n",
       "      <td>08:00.0</td>\n",
       "      <td>14.1</td>\n",
       "      <td>2010-05-15 04:08:00 UTC</td>\n",
       "      <td>-73.984395</td>\n",
       "      <td>40.720077</td>\n",
       "      <td>-73.985508</td>\n",
       "      <td>40.768793</td>\n",
       "      <td>1</td>\n",
       "    </tr>\n",
       "  </tbody>\n",
       "</table>\n",
       "<p>200000 rows × 9 columns</p>\n",
       "</div>"
      ],
      "text/plain": [
       "           Index      key  fare_amount          pickup_datetime  \\\n",
       "0       24238194  52:06.0          7.5  2015-05-07 19:52:06 UTC   \n",
       "1       27835199  04:56.0          7.7  2009-07-17 20:04:56 UTC   \n",
       "2       44984355  45:00.0         12.9  2009-08-24 21:45:00 UTC   \n",
       "3       25894730  22:21.0          5.3  2009-06-26 08:22:21 UTC   \n",
       "4       17610152  47:00.0         16.0  2014-08-28 17:47:00 UTC   \n",
       "...          ...      ...          ...                      ...   \n",
       "199995  42598914  49:00.0          3.0  2012-10-28 10:49:00 UTC   \n",
       "199996  16382965  09:00.0          7.5  2014-03-14 01:09:00 UTC   \n",
       "199997  27804658  42:00.0         30.9  2009-06-29 00:42:00 UTC   \n",
       "199998  20259894  56:25.0         14.5  2015-05-20 14:56:25 UTC   \n",
       "199999  11951496  08:00.0         14.1  2010-05-15 04:08:00 UTC   \n",
       "\n",
       "        pickup_longitude  pickup_latitude  dropoff_longitude  \\\n",
       "0             -73.999817        40.738354         -73.999512   \n",
       "1             -73.994355        40.728225         -73.994710   \n",
       "2             -74.005043        40.740770         -73.962565   \n",
       "3             -73.976124        40.790844         -73.965316   \n",
       "4             -73.925023        40.744085         -73.973082   \n",
       "...                  ...              ...                ...   \n",
       "199995        -73.987042        40.739367         -73.986525   \n",
       "199996        -73.984722        40.736837         -74.006672   \n",
       "199997        -73.986017        40.756487         -73.858957   \n",
       "199998        -73.997124        40.725452         -73.983215   \n",
       "199999        -73.984395        40.720077         -73.985508   \n",
       "\n",
       "        dropoff_latitude  passenger_count  \n",
       "0              40.723217                1  \n",
       "1              40.750325                1  \n",
       "2              40.772647                1  \n",
       "3              40.803349                3  \n",
       "4              40.761247                5  \n",
       "...                  ...              ...  \n",
       "199995         40.740297                1  \n",
       "199996         40.739620                1  \n",
       "199997         40.692588                2  \n",
       "199998         40.695416                1  \n",
       "199999         40.768793                1  \n",
       "\n",
       "[200000 rows x 9 columns]"
      ]
     },
     "execution_count": 2,
     "metadata": {},
     "output_type": "execute_result"
    }
   ],
   "source": [
    "# task1\n",
    "df=pd.read_csv('DS1_C8_S2_SmartCarRiding_Data_Practice.csv')\n",
    "df"
   ]
  },
  {
   "cell_type": "code",
   "execution_count": 3,
   "id": "6e55acd3-c73e-4f0e-aeff-894fab50bab8",
   "metadata": {},
   "outputs": [
    {
     "name": "stdout",
     "output_type": "stream",
     "text": [
      "Index(['Index', 'key', 'fare_amount', 'pickup_datetime', 'pickup_longitude',\n",
      "       'pickup_latitude', 'dropoff_longitude', 'dropoff_latitude',\n",
      "       'passenger_count'],\n",
      "      dtype='object')\n"
     ]
    },
    {
     "data": {
      "text/html": [
       "<div>\n",
       "<style scoped>\n",
       "    .dataframe tbody tr th:only-of-type {\n",
       "        vertical-align: middle;\n",
       "    }\n",
       "\n",
       "    .dataframe tbody tr th {\n",
       "        vertical-align: top;\n",
       "    }\n",
       "\n",
       "    .dataframe thead th {\n",
       "        text-align: right;\n",
       "    }\n",
       "</style>\n",
       "<table border=\"1\" class=\"dataframe\">\n",
       "  <thead>\n",
       "    <tr style=\"text-align: right;\">\n",
       "      <th></th>\n",
       "      <th>fare_amount</th>\n",
       "    </tr>\n",
       "  </thead>\n",
       "  <tbody>\n",
       "    <tr>\n",
       "      <th>0</th>\n",
       "      <td>7.5</td>\n",
       "    </tr>\n",
       "    <tr>\n",
       "      <th>1</th>\n",
       "      <td>7.7</td>\n",
       "    </tr>\n",
       "    <tr>\n",
       "      <th>2</th>\n",
       "      <td>12.9</td>\n",
       "    </tr>\n",
       "    <tr>\n",
       "      <th>3</th>\n",
       "      <td>5.3</td>\n",
       "    </tr>\n",
       "    <tr>\n",
       "      <th>4</th>\n",
       "      <td>16.0</td>\n",
       "    </tr>\n",
       "    <tr>\n",
       "      <th>...</th>\n",
       "      <td>...</td>\n",
       "    </tr>\n",
       "    <tr>\n",
       "      <th>199995</th>\n",
       "      <td>3.0</td>\n",
       "    </tr>\n",
       "    <tr>\n",
       "      <th>199996</th>\n",
       "      <td>7.5</td>\n",
       "    </tr>\n",
       "    <tr>\n",
       "      <th>199997</th>\n",
       "      <td>30.9</td>\n",
       "    </tr>\n",
       "    <tr>\n",
       "      <th>199998</th>\n",
       "      <td>14.5</td>\n",
       "    </tr>\n",
       "    <tr>\n",
       "      <th>199999</th>\n",
       "      <td>14.1</td>\n",
       "    </tr>\n",
       "  </tbody>\n",
       "</table>\n",
       "<p>200000 rows × 1 columns</p>\n",
       "</div>"
      ],
      "text/plain": [
       "        fare_amount\n",
       "0               7.5\n",
       "1               7.7\n",
       "2              12.9\n",
       "3               5.3\n",
       "4              16.0\n",
       "...             ...\n",
       "199995          3.0\n",
       "199996          7.5\n",
       "199997         30.9\n",
       "199998         14.5\n",
       "199999         14.1\n",
       "\n",
       "[200000 rows x 1 columns]"
      ]
     },
     "execution_count": 3,
     "metadata": {},
     "output_type": "execute_result"
    }
   ],
   "source": [
    "# task1.1\n",
    "print(df.columns)\n",
    "fare_amount=df[['fare_amount']]\n",
    "fare_amount"
   ]
  },
  {
   "cell_type": "code",
   "execution_count": 4,
   "id": "cf7e88f7-198a-422a-b428-43503472f00c",
   "metadata": {},
   "outputs": [],
   "source": [
    "# task2\n",
    "from tabulate import tabulate"
   ]
  },
  {
   "cell_type": "code",
   "execution_count": 5,
   "id": "6d784ae1-1a9b-43e2-b33f-e7f074aadd46",
   "metadata": {},
   "outputs": [
    {
     "name": "stdout",
     "output_type": "stream",
     "text": [
      "Categorical      Numerical\n",
      "---------------  -----------------\n",
      "key              Index\n",
      "pickup_datetime  fare_amount\n",
      "                 pickup_longitude\n",
      "                 pickup_latitude\n",
      "                 dropoff_longitude\n",
      "                 dropoff_latitude\n",
      "                 passenger_count\n"
     ]
    }
   ],
   "source": [
    "numerical_df=df.select_dtypes(exclude='object')\n",
    "categorical_df=df.select_dtypes(include='object')\n",
    "numerical=list(numerical_df)\n",
    "categorical=list(categorical_df)\n",
    "print(tabulate({'Categorical':categorical_df,'Numerical':numerical_df},headers=['Categorical','Numerical']))"
   ]
  },
  {
   "cell_type": "code",
   "execution_count": 6,
   "id": "71db5b6d-8708-417d-975f-ecdfc59bfd92",
   "metadata": {},
   "outputs": [
    {
     "data": {
      "text/plain": [
       "Index                0\n",
       "key                  0\n",
       "fare_amount          0\n",
       "pickup_datetime      0\n",
       "pickup_longitude     0\n",
       "pickup_latitude      0\n",
       "dropoff_longitude    1\n",
       "dropoff_latitude     1\n",
       "passenger_count      0\n",
       "dtype: int64"
      ]
     },
     "execution_count": 6,
     "metadata": {},
     "output_type": "execute_result"
    }
   ],
   "source": [
    "df.isnull().sum()"
   ]
  },
  {
   "cell_type": "code",
   "execution_count": 7,
   "id": "c13d0cd7-916f-42f6-b8a1-c9cd43353c0d",
   "metadata": {},
   "outputs": [],
   "source": [
    "df['dropoff_longitude']=df['dropoff_longitude'].fillna(df['dropoff_longitude'].mean())"
   ]
  },
  {
   "cell_type": "code",
   "execution_count": 8,
   "id": "76b336fe-2dc6-464c-818e-02a46a6dacd1",
   "metadata": {},
   "outputs": [],
   "source": [
    "df['dropoff_latitude']=df['dropoff_latitude'].fillna(df['dropoff_latitude'].mean())"
   ]
  },
  {
   "cell_type": "code",
   "execution_count": 9,
   "id": "99aaa61b-b52e-4a39-b4e5-f091036e1457",
   "metadata": {},
   "outputs": [
    {
     "data": {
      "text/plain": [
       "Index                0\n",
       "key                  0\n",
       "fare_amount          0\n",
       "pickup_datetime      0\n",
       "pickup_longitude     0\n",
       "pickup_latitude      0\n",
       "dropoff_longitude    0\n",
       "dropoff_latitude     0\n",
       "passenger_count      0\n",
       "dtype: int64"
      ]
     },
     "execution_count": 9,
     "metadata": {},
     "output_type": "execute_result"
    }
   ],
   "source": [
    "df.isnull().sum()"
   ]
  },
  {
   "cell_type": "code",
   "execution_count": 10,
   "id": "010fe9b6-6f2f-4412-ba8f-393c4c57036d",
   "metadata": {},
   "outputs": [
    {
     "data": {
      "image/png": "[encoded data removed]",
      "text/plain": [
       "<Figure size 1500x800 with 1 Axes>"
      ]
     },
     "metadata": {},
     "output_type": "display_data"
    }
   ],
   "source": [
    "df.boxplot(column=['Index','fare_amount','pickup_longitude','pickup_latitude','dropoff_longitude','dropoff_latitude','passenger_count'],grid=False,figsize=(15,8))\n",
    "plt.show()"
   ]
  },
  {
   "cell_type": "code",
   "execution_count": 11,
   "id": "5b85c1e7-7a2e-4985-8177-838b3a306be5",
   "metadata": {},
   "outputs": [],
   "source": [
    "def outliers(col):\n",
    "    ser=pd.Series(df[col])\n",
    "    q1=ser.quantile(0.25)\n",
    "    q3=ser.quantile(0.75)\n",
    "    iqr=q3-q1\n",
    "    uf=q3+1.5*iqr\n",
    "    lf=q1-1.5*iqr\n",
    "    for z in ser:\n",
    "        if z>uf or z<lf:\n",
    "            df[col]=df[col].replace([z],df[col].mean())"
   ]
  },
  {
   "cell_type": "code",
   "execution_count": 12,
   "id": "34e1d5c9-9642-4dd7-86ec-3f6bb0438e1c",
   "metadata": {},
   "outputs": [
    {
     "data": {
      "image/png": "[encoded data removed]",
      "text/plain": [
       "<Figure size 640x480 with 1 Axes>"
      ]
     },
     "metadata": {},
     "output_type": "display_data"
    }
   ],
   "source": [
    "plt.boxplot(df['fare_amount'])\n",
    "plt.show()"
   ]
  },
  {
   "cell_type": "code",
   "execution_count": 13,
   "id": "1fe52fa2-b547-43f1-88c7-013a672b134b",
   "metadata": {},
   "outputs": [],
   "source": [
    "outliers('fare_amount')"
   ]
  },
  {
   "cell_type": "code",
   "execution_count": 14,
   "id": "2bc0de30-392e-4d5f-821c-a900b003a387",
   "metadata": {},
   "outputs": [
    {
     "data": {
      "image/png": "[encoded data removed]",
      "text/plain": [
       "<Figure size 640x480 with 1 Axes>"
      ]
     },
     "metadata": {},
     "output_type": "display_data"
    }
   ],
   "source": [
    "plt.boxplot(df['fare_amount'])\n",
    "plt.show()"
   ]
  },
  {
   "cell_type": "code",
   "execution_count": 15,
   "id": "51e54814-8767-448d-93fa-e1e0ecc89a93",
   "metadata": {},
   "outputs": [],
   "source": [
    "outliers('fare_amount')"
   ]
  },
  {
   "cell_type": "code",
   "execution_count": 16,
   "id": "2523babf-b558-460b-afb9-6e1d3a1d99ec",
   "metadata": {},
   "outputs": [
    {
     "data": {
      "image/png": "[encoded data removed]",
      "text/plain": [
       "<Figure size 640x480 with 1 Axes>"
      ]
     },
     "metadata": {},
     "output_type": "display_data"
    }
   ],
   "source": [
    "plt.boxplot(df['fare_amount'])\n",
    "plt.show()"
   ]
  },
  {
   "cell_type": "code",
   "execution_count": 17,
   "id": "b49966e5-acc9-4f71-a332-c41efef93509",
   "metadata": {},
   "outputs": [],
   "source": [
    "outliers('fare_amount')"
   ]
  },
  {
   "cell_type": "code",
   "execution_count": 18,
   "id": "1058de52-cf74-415e-80c3-12afcbb66194",
   "metadata": {},
   "outputs": [
    {
     "data": {
      "image/png": "[encoded data removed]",
      "text/plain": [
       "<Figure size 640x480 with 1 Axes>"
      ]
     },
     "metadata": {},
     "output_type": "display_data"
    }
   ],
   "source": [
    "plt.boxplot(df['fare_amount'])\n",
    "plt.show()"
   ]
  },
  {
   "cell_type": "code",
   "execution_count": 19,
   "id": "75098520-d0e8-4d4b-afce-17fb698738e1",
   "metadata": {},
   "outputs": [],
   "source": [
    "outliers('fare_amount')"
   ]
  },
  {
   "cell_type": "code",
   "execution_count": 20,
   "id": "7fe06865-3da5-4cd1-bbfb-0b8bb180829b",
   "metadata": {},
   "outputs": [
    {
     "data": {
      "image/png": "[encoded data removed]",
      "text/plain": [
       "<Figure size 640x480 with 1 Axes>"
      ]
     },
     "metadata": {},
     "output_type": "display_data"
    }
   ],
   "source": [
    "plt.boxplot(df['fare_amount'])\n",
    "plt.show()"
   ]
  },
  {
   "cell_type": "code",
   "execution_count": 21,
   "id": "a145f962-6ad0-4be7-9c8d-1b1e19fc4aed",
   "metadata": {},
   "outputs": [
    {
     "data": {
      "image/png": "[encoded data removed]",
      "text/plain": [
       "<Figure size 640x480 with 1 Axes>"
      ]
     },
     "metadata": {},
     "output_type": "display_data"
    }
   ],
   "source": [
    "plt.boxplot(df['Index'])\n",
    "plt.show()"
   ]
  },
  {
   "cell_type": "code",
   "execution_count": 52,
   "id": "06acdc53-33d6-4797-9358-d918f95ccb0b",
   "metadata": {},
   "outputs": [],
   "source": [
    "# task3\n",
    "\n",
    "size=[10,15,30,200,1000,5000,10000,50000,100000]\n",
    "data=[]\n",
    "for i in size:\n",
    "    sample_df=df['fare_amount'].sample(n=i,replace=True,random_state=1)\n",
    "    data.append(sample_df)"
   ]
  },
  {
   "cell_type": "code",
   "execution_count": 94,
   "id": "059d7ac0-751e-4486-a1e0-3c33f1ff509b",
   "metadata": {},
   "outputs": [
    {
     "data": {
      "image/png": "[encoded data removed]",
      "text/plain": [
       "<Figure size 1500x800 with 9 Axes>"
      ]
     },
     "metadata": {},
     "output_type": "display_data"
    }
   ],
   "source": [
    "fig,ax=plt.subplots(3,3,figsize=(15,8))\n",
    "fig.tight_layout()\n",
    "fig.set_facecolor('lightgrey')\n",
    "k=0\n",
    "for i in range(0,3):\n",
    "    for j in range(0,3):\n",
    "        ax[i,j].hist(data[k],bins=10,density=True)\n",
    "        \n",
    "        ax[i,j].set_title('sample size='+str(len(data[k])))\n",
    "        k=k+1\n",
    "plt.show()\n",
    "\n",
    "# "
   ]
  },
  {
   "cell_type": "code",
   "execution_count": 66,
   "id": "2b200efb-86ff-4909-b414-18ae20a58b86",
   "metadata": {},
   "outputs": [
    {
     "data": {
      "text/plain": [
       "0      11.25193\n",
       "1      14.00000\n",
       "2      12.90000\n",
       "3       6.00000\n",
       "4       6.10000\n",
       "         ...   \n",
       "195     7.70000\n",
       "196     4.50000\n",
       "197    13.00000\n",
       "198     4.50000\n",
       "199    10.00000\n",
       "Name: fare_amount, Length: 200, dtype: float64"
      ]
     },
     "execution_count": 66,
     "metadata": {},
     "output_type": "execute_result"
    }
   ],
   "source": [
    "# task4\n",
    "sample_200=df['fare_amount'].sample(n=200,replace=True,random_state=1)\n",
    "sample_200=sample_200.reset_index(drop=True)\n",
    "sample_200\n",
    "                                  "
   ]
  },
  {
   "cell_type": "code",
   "execution_count": 68,
   "id": "c48d12a4-ace3-49e0-9de5-86591ea5d675",
   "metadata": {},
   "outputs": [
    {
     "name": "stdout",
     "output_type": "stream",
     "text": [
      "population_mean: 8.507131515482902\n",
      "population_median: 8.5\n",
      "population_std: 3.1592616239346887\n",
      "population_skew: 0.5289349990856437\n",
      "population_kurtosis: -0.2247477639423292\n"
     ]
    }
   ],
   "source": [
    "# task5\n",
    "\n",
    "p_mean=df['fare_amount'].mean()\n",
    "p_median=df['fare_amount'].median()\n",
    "p_std=st.stdev(df['fare_amount'])\n",
    "p_skew=sc.skew(df['fare_amount'],bias=False)\n",
    "p_kurtosis=sc.kurtosis(df['fare_amount'],bias=False)\n",
    "print('population_mean:',p_mean)\n",
    "print('population_median:',p_median)\n",
    "print('population_std:',p_std)\n",
    "print('population_skew:',p_skew)\n",
    "print('population_kurtosis:',p_kurtosis)"
   ]
  },
  {
   "cell_type": "code",
   "execution_count": 70,
   "id": "cc5ea83e-cc52-42c6-aaa0-0db1d3f313b6",
   "metadata": {},
   "outputs": [
    {
     "name": "stdout",
     "output_type": "stream",
     "text": [
      "sample_mean: 8.592899947089352\n",
      "sample_median: 8.5\n",
      "sample_std: 3.174727328294172\n",
      "sample_skew: 0.5419399971647388\n",
      "sample_kurtosid: -0.3784460526900557\n"
     ]
    }
   ],
   "source": [
    "s_mean=st.mean(sample_200)\n",
    "s_median=st.median(sample_200)\n",
    "s_std=st.stdev(sample_200)\n",
    "s_skew=sc.skew(sample_200,bias=False)\n",
    "s_kurtosis=sc.kurtosis(sample_200,bias=False)\n",
    "print('sample_mean:',s_mean)\n",
    "print('sample_median:',s_median)\n",
    "print('sample_std:',s_std)\n",
    "print('sample_skew:',s_skew)\n",
    "print('sample_kurtosid:',s_kurtosis)"
   ]
  },
  {
   "cell_type": "code",
   "execution_count": 72,
   "id": "549ca65a-2c3e-4f38-9e39-872a7502bc14",
   "metadata": {},
   "outputs": [],
   "source": [
    "new_df=pd.DataFrame()\n",
    "for i in range(0,20):\n",
    "    new_df['sample_'+str(i)]=df['fare_amount'].sample(n=200,replace=True).reset_index(drop=True)"
   ]
  },
  {
   "cell_type": "code",
   "execution_count": 74,
   "id": "8b6ebd8f-e5a4-46cb-abc2-9a51f757e3aa",
   "metadata": {},
   "outputs": [
    {
     "data": {
      "text/html": [
       "<div>\n",
       "<style scoped>\n",
       "    .dataframe tbody tr th:only-of-type {\n",
       "        vertical-align: middle;\n",
       "    }\n",
       "\n",
       "    .dataframe tbody tr th {\n",
       "        vertical-align: top;\n",
       "    }\n",
       "\n",
       "    .dataframe thead th {\n",
       "        text-align: right;\n",
       "    }\n",
       "</style>\n",
       "<table border=\"1\" class=\"dataframe\">\n",
       "  <thead>\n",
       "    <tr style=\"text-align: right;\">\n",
       "      <th></th>\n",
       "      <th>sample_0</th>\n",
       "      <th>sample_1</th>\n",
       "      <th>sample_2</th>\n",
       "      <th>sample_3</th>\n",
       "      <th>sample_4</th>\n",
       "      <th>sample_5</th>\n",
       "      <th>sample_6</th>\n",
       "      <th>sample_7</th>\n",
       "      <th>sample_8</th>\n",
       "      <th>sample_9</th>\n",
       "      <th>sample_10</th>\n",
       "      <th>sample_11</th>\n",
       "      <th>sample_12</th>\n",
       "      <th>sample_13</th>\n",
       "      <th>sample_14</th>\n",
       "      <th>sample_15</th>\n",
       "      <th>sample_16</th>\n",
       "      <th>sample_17</th>\n",
       "      <th>sample_18</th>\n",
       "      <th>sample_19</th>\n",
       "    </tr>\n",
       "  </thead>\n",
       "  <tbody>\n",
       "    <tr>\n",
       "      <th>0</th>\n",
       "      <td>9.789406</td>\n",
       "      <td>8.000000</td>\n",
       "      <td>15.700000</td>\n",
       "      <td>10.1</td>\n",
       "      <td>10.100000</td>\n",
       "      <td>9.000000</td>\n",
       "      <td>6.900000</td>\n",
       "      <td>5.300000</td>\n",
       "      <td>6.500000</td>\n",
       "      <td>5.3</td>\n",
       "      <td>4.9</td>\n",
       "      <td>9.190991</td>\n",
       "      <td>10.867687</td>\n",
       "      <td>4.900000</td>\n",
       "      <td>6.100000</td>\n",
       "      <td>16.900000</td>\n",
       "      <td>3.700000</td>\n",
       "      <td>11.700000</td>\n",
       "      <td>12.1</td>\n",
       "      <td>8.500000</td>\n",
       "    </tr>\n",
       "    <tr>\n",
       "      <th>1</th>\n",
       "      <td>7.500000</td>\n",
       "      <td>6.500000</td>\n",
       "      <td>12.900000</td>\n",
       "      <td>6.9</td>\n",
       "      <td>9.300000</td>\n",
       "      <td>11.359955</td>\n",
       "      <td>4.900000</td>\n",
       "      <td>7.500000</td>\n",
       "      <td>9.000000</td>\n",
       "      <td>2.5</td>\n",
       "      <td>4.5</td>\n",
       "      <td>9.500000</td>\n",
       "      <td>3.700000</td>\n",
       "      <td>9.500000</td>\n",
       "      <td>7.300000</td>\n",
       "      <td>6.900000</td>\n",
       "      <td>8.533258</td>\n",
       "      <td>8.670463</td>\n",
       "      <td>12.1</td>\n",
       "      <td>8.610159</td>\n",
       "    </tr>\n",
       "    <tr>\n",
       "      <th>2</th>\n",
       "      <td>14.000000</td>\n",
       "      <td>4.500000</td>\n",
       "      <td>10.624100</td>\n",
       "      <td>14.1</td>\n",
       "      <td>8.900000</td>\n",
       "      <td>8.781581</td>\n",
       "      <td>5.500000</td>\n",
       "      <td>10.111984</td>\n",
       "      <td>9.300000</td>\n",
       "      <td>8.9</td>\n",
       "      <td>10.1</td>\n",
       "      <td>5.000000</td>\n",
       "      <td>4.500000</td>\n",
       "      <td>10.500000</td>\n",
       "      <td>6.900000</td>\n",
       "      <td>12.000000</td>\n",
       "      <td>11.300000</td>\n",
       "      <td>15.500000</td>\n",
       "      <td>4.5</td>\n",
       "      <td>9.000000</td>\n",
       "    </tr>\n",
       "    <tr>\n",
       "      <th>3</th>\n",
       "      <td>7.500000</td>\n",
       "      <td>12.900000</td>\n",
       "      <td>5.700000</td>\n",
       "      <td>8.1</td>\n",
       "      <td>11.001686</td>\n",
       "      <td>8.500000</td>\n",
       "      <td>5.300000</td>\n",
       "      <td>11.500000</td>\n",
       "      <td>11.128949</td>\n",
       "      <td>15.3</td>\n",
       "      <td>9.0</td>\n",
       "      <td>8.900000</td>\n",
       "      <td>6.000000</td>\n",
       "      <td>8.854988</td>\n",
       "      <td>8.500000</td>\n",
       "      <td>9.500000</td>\n",
       "      <td>5.500000</td>\n",
       "      <td>6.100000</td>\n",
       "      <td>13.7</td>\n",
       "      <td>4.900000</td>\n",
       "    </tr>\n",
       "    <tr>\n",
       "      <th>4</th>\n",
       "      <td>10.500000</td>\n",
       "      <td>4.100000</td>\n",
       "      <td>10.500000</td>\n",
       "      <td>15.5</td>\n",
       "      <td>9.500000</td>\n",
       "      <td>12.900000</td>\n",
       "      <td>4.500000</td>\n",
       "      <td>7.000000</td>\n",
       "      <td>14.500000</td>\n",
       "      <td>5.7</td>\n",
       "      <td>13.0</td>\n",
       "      <td>6.100000</td>\n",
       "      <td>9.500000</td>\n",
       "      <td>11.500000</td>\n",
       "      <td>8.500000</td>\n",
       "      <td>12.900000</td>\n",
       "      <td>14.900000</td>\n",
       "      <td>11.001686</td>\n",
       "      <td>6.5</td>\n",
       "      <td>11.700000</td>\n",
       "    </tr>\n",
       "    <tr>\n",
       "      <th>...</th>\n",
       "      <td>...</td>\n",
       "      <td>...</td>\n",
       "      <td>...</td>\n",
       "      <td>...</td>\n",
       "      <td>...</td>\n",
       "      <td>...</td>\n",
       "      <td>...</td>\n",
       "      <td>...</td>\n",
       "      <td>...</td>\n",
       "      <td>...</td>\n",
       "      <td>...</td>\n",
       "      <td>...</td>\n",
       "      <td>...</td>\n",
       "      <td>...</td>\n",
       "      <td>...</td>\n",
       "      <td>...</td>\n",
       "      <td>...</td>\n",
       "      <td>...</td>\n",
       "      <td>...</td>\n",
       "      <td>...</td>\n",
       "    </tr>\n",
       "    <tr>\n",
       "      <th>195</th>\n",
       "      <td>8.500000</td>\n",
       "      <td>12.000000</td>\n",
       "      <td>9.500000</td>\n",
       "      <td>6.1</td>\n",
       "      <td>4.500000</td>\n",
       "      <td>9.300000</td>\n",
       "      <td>8.888105</td>\n",
       "      <td>12.000000</td>\n",
       "      <td>4.500000</td>\n",
       "      <td>8.1</td>\n",
       "      <td>6.1</td>\n",
       "      <td>10.500000</td>\n",
       "      <td>9.000000</td>\n",
       "      <td>11.300000</td>\n",
       "      <td>8.000000</td>\n",
       "      <td>8.705226</td>\n",
       "      <td>3.700000</td>\n",
       "      <td>8.500000</td>\n",
       "      <td>7.3</td>\n",
       "      <td>6.500000</td>\n",
       "    </tr>\n",
       "    <tr>\n",
       "      <th>196</th>\n",
       "      <td>6.500000</td>\n",
       "      <td>11.300000</td>\n",
       "      <td>5.700000</td>\n",
       "      <td>8.9</td>\n",
       "      <td>8.705226</td>\n",
       "      <td>8.937265</td>\n",
       "      <td>6.100000</td>\n",
       "      <td>9.500000</td>\n",
       "      <td>6.900000</td>\n",
       "      <td>4.5</td>\n",
       "      <td>12.0</td>\n",
       "      <td>5.500000</td>\n",
       "      <td>13.300000</td>\n",
       "      <td>8.794036</td>\n",
       "      <td>12.000000</td>\n",
       "      <td>4.000000</td>\n",
       "      <td>4.900000</td>\n",
       "      <td>15.700000</td>\n",
       "      <td>3.3</td>\n",
       "      <td>5.300000</td>\n",
       "    </tr>\n",
       "    <tr>\n",
       "      <th>197</th>\n",
       "      <td>6.500000</td>\n",
       "      <td>16.500000</td>\n",
       "      <td>9.624853</td>\n",
       "      <td>6.9</td>\n",
       "      <td>10.500000</td>\n",
       "      <td>11.300000</td>\n",
       "      <td>7.300000</td>\n",
       "      <td>8.100000</td>\n",
       "      <td>9.700000</td>\n",
       "      <td>15.0</td>\n",
       "      <td>5.3</td>\n",
       "      <td>5.700000</td>\n",
       "      <td>7.300000</td>\n",
       "      <td>4.100000</td>\n",
       "      <td>5.300000</td>\n",
       "      <td>8.610159</td>\n",
       "      <td>10.100000</td>\n",
       "      <td>12.000000</td>\n",
       "      <td>3.5</td>\n",
       "      <td>13.700000</td>\n",
       "    </tr>\n",
       "    <tr>\n",
       "      <th>198</th>\n",
       "      <td>5.500000</td>\n",
       "      <td>10.853233</td>\n",
       "      <td>10.306800</td>\n",
       "      <td>12.9</td>\n",
       "      <td>5.000000</td>\n",
       "      <td>6.500000</td>\n",
       "      <td>9.300000</td>\n",
       "      <td>6.100000</td>\n",
       "      <td>5.500000</td>\n",
       "      <td>4.5</td>\n",
       "      <td>9.7</td>\n",
       "      <td>7.700000</td>\n",
       "      <td>12.100000</td>\n",
       "      <td>4.500000</td>\n",
       "      <td>2.500000</td>\n",
       "      <td>15.700000</td>\n",
       "      <td>9.521758</td>\n",
       "      <td>4.000000</td>\n",
       "      <td>7.0</td>\n",
       "      <td>4.500000</td>\n",
       "    </tr>\n",
       "    <tr>\n",
       "      <th>199</th>\n",
       "      <td>11.000000</td>\n",
       "      <td>4.900000</td>\n",
       "      <td>10.111984</td>\n",
       "      <td>12.5</td>\n",
       "      <td>6.100000</td>\n",
       "      <td>3.000000</td>\n",
       "      <td>5.500000</td>\n",
       "      <td>5.500000</td>\n",
       "      <td>5.500000</td>\n",
       "      <td>8.5</td>\n",
       "      <td>12.5</td>\n",
       "      <td>10.900000</td>\n",
       "      <td>9.300000</td>\n",
       "      <td>3.700000</td>\n",
       "      <td>9.606841</td>\n",
       "      <td>5.700000</td>\n",
       "      <td>14.500000</td>\n",
       "      <td>10.100000</td>\n",
       "      <td>5.3</td>\n",
       "      <td>7.300000</td>\n",
       "    </tr>\n",
       "  </tbody>\n",
       "</table>\n",
       "<p>200 rows × 20 columns</p>\n",
       "</div>"
      ],
      "text/plain": [
       "      sample_0   sample_1   sample_2  sample_3   sample_4   sample_5  \\\n",
       "0     9.789406   8.000000  15.700000      10.1  10.100000   9.000000   \n",
       "1     7.500000   6.500000  12.900000       6.9   9.300000  11.359955   \n",
       "2    14.000000   4.500000  10.624100      14.1   8.900000   8.781581   \n",
       "3     7.500000  12.900000   5.700000       8.1  11.001686   8.500000   \n",
       "4    10.500000   4.100000  10.500000      15.5   9.500000  12.900000   \n",
       "..         ...        ...        ...       ...        ...        ...   \n",
       "195   8.500000  12.000000   9.500000       6.1   4.500000   9.300000   \n",
       "196   6.500000  11.300000   5.700000       8.9   8.705226   8.937265   \n",
       "197   6.500000  16.500000   9.624853       6.9  10.500000  11.300000   \n",
       "198   5.500000  10.853233  10.306800      12.9   5.000000   6.500000   \n",
       "199  11.000000   4.900000  10.111984      12.5   6.100000   3.000000   \n",
       "\n",
       "     sample_6   sample_7   sample_8  sample_9  sample_10  sample_11  \\\n",
       "0    6.900000   5.300000   6.500000       5.3        4.9   9.190991   \n",
       "1    4.900000   7.500000   9.000000       2.5        4.5   9.500000   \n",
       "2    5.500000  10.111984   9.300000       8.9       10.1   5.000000   \n",
       "3    5.300000  11.500000  11.128949      15.3        9.0   8.900000   \n",
       "4    4.500000   7.000000  14.500000       5.7       13.0   6.100000   \n",
       "..        ...        ...        ...       ...        ...        ...   \n",
       "195  8.888105  12.000000   4.500000       8.1        6.1  10.500000   \n",
       "196  6.100000   9.500000   6.900000       4.5       12.0   5.500000   \n",
       "197  7.300000   8.100000   9.700000      15.0        5.3   5.700000   \n",
       "198  9.300000   6.100000   5.500000       4.5        9.7   7.700000   \n",
       "199  5.500000   5.500000   5.500000       8.5       12.5  10.900000   \n",
       "\n",
       "     sample_12  sample_13  sample_14  sample_15  sample_16  sample_17  \\\n",
       "0    10.867687   4.900000   6.100000  16.900000   3.700000  11.700000   \n",
       "1     3.700000   9.500000   7.300000   6.900000   8.533258   8.670463   \n",
       "2     4.500000  10.500000   6.900000  12.000000  11.300000  15.500000   \n",
       "3     6.000000   8.854988   8.500000   9.500000   5.500000   6.100000   \n",
       "4     9.500000  11.500000   8.500000  12.900000  14.900000  11.001686   \n",
       "..         ...        ...        ...        ...        ...        ...   \n",
       "195   9.000000  11.300000   8.000000   8.705226   3.700000   8.500000   \n",
       "196  13.300000   8.794036  12.000000   4.000000   4.900000  15.700000   \n",
       "197   7.300000   4.100000   5.300000   8.610159  10.100000  12.000000   \n",
       "198  12.100000   4.500000   2.500000  15.700000   9.521758   4.000000   \n",
       "199   9.300000   3.700000   9.606841   5.700000  14.500000  10.100000   \n",
       "\n",
       "     sample_18  sample_19  \n",
       "0         12.1   8.500000  \n",
       "1         12.1   8.610159  \n",
       "2          4.5   9.000000  \n",
       "3         13.7   4.900000  \n",
       "4          6.5  11.700000  \n",
       "..         ...        ...  \n",
       "195        7.3   6.500000  \n",
       "196        3.3   5.300000  \n",
       "197        3.5  13.700000  \n",
       "198        7.0   4.500000  \n",
       "199        5.3   7.300000  \n",
       "\n",
       "[200 rows x 20 columns]"
      ]
     },
     "execution_count": 74,
     "metadata": {},
     "output_type": "execute_result"
    }
   ],
   "source": [
    "new_df"
   ]
  },
  {
   "cell_type": "code",
   "execution_count": 76,
   "id": "57a01181-e610-4f1b-bd12-7d22935d369b",
   "metadata": {},
   "outputs": [],
   "source": [
    "sample_name=new_df.columns\n",
    "data_s=[]\n",
    "mean_df=pd.DataFrame()\n",
    "\n",
    "\n",
    "for i in sample_name:\n",
    "    data_s.append(new_df[i].mean())\n",
    "\n",
    "mean_df.insert(0,'sample_name',sample_name)\n",
    "mean_df.insert(1,'mean_values',data_s)"
   ]
  },
  {
   "cell_type": "code",
   "execution_count": 78,
   "id": "4666b4fd-bead-4758-9b2f-9997d77f6ddb",
   "metadata": {
    "scrolled": true
   },
   "outputs": [
    {
     "data": {
      "text/html": [
       "<div>\n",
       "<style scoped>\n",
       "    .dataframe tbody tr th:only-of-type {\n",
       "        vertical-align: middle;\n",
       "    }\n",
       "\n",
       "    .dataframe tbody tr th {\n",
       "        vertical-align: top;\n",
       "    }\n",
       "\n",
       "    .dataframe thead th {\n",
       "        text-align: right;\n",
       "    }\n",
       "</style>\n",
       "<table border=\"1\" class=\"dataframe\">\n",
       "  <thead>\n",
       "    <tr style=\"text-align: right;\">\n",
       "      <th></th>\n",
       "      <th>sample_name</th>\n",
       "      <th>mean_values</th>\n",
       "    </tr>\n",
       "  </thead>\n",
       "  <tbody>\n",
       "    <tr>\n",
       "      <th>0</th>\n",
       "      <td>sample_0</td>\n",
       "      <td>8.523807</td>\n",
       "    </tr>\n",
       "    <tr>\n",
       "      <th>1</th>\n",
       "      <td>sample_1</td>\n",
       "      <td>8.384698</td>\n",
       "    </tr>\n",
       "    <tr>\n",
       "      <th>2</th>\n",
       "      <td>sample_2</td>\n",
       "      <td>8.807357</td>\n",
       "    </tr>\n",
       "    <tr>\n",
       "      <th>3</th>\n",
       "      <td>sample_3</td>\n",
       "      <td>8.650710</td>\n",
       "    </tr>\n",
       "    <tr>\n",
       "      <th>4</th>\n",
       "      <td>sample_4</td>\n",
       "      <td>8.503213</td>\n",
       "    </tr>\n",
       "    <tr>\n",
       "      <th>5</th>\n",
       "      <td>sample_5</td>\n",
       "      <td>9.005411</td>\n",
       "    </tr>\n",
       "    <tr>\n",
       "      <th>6</th>\n",
       "      <td>sample_6</td>\n",
       "      <td>8.837363</td>\n",
       "    </tr>\n",
       "    <tr>\n",
       "      <th>7</th>\n",
       "      <td>sample_7</td>\n",
       "      <td>8.677909</td>\n",
       "    </tr>\n",
       "    <tr>\n",
       "      <th>8</th>\n",
       "      <td>sample_8</td>\n",
       "      <td>8.447586</td>\n",
       "    </tr>\n",
       "    <tr>\n",
       "      <th>9</th>\n",
       "      <td>sample_9</td>\n",
       "      <td>8.590550</td>\n",
       "    </tr>\n",
       "    <tr>\n",
       "      <th>10</th>\n",
       "      <td>sample_10</td>\n",
       "      <td>8.487464</td>\n",
       "    </tr>\n",
       "    <tr>\n",
       "      <th>11</th>\n",
       "      <td>sample_11</td>\n",
       "      <td>8.610563</td>\n",
       "    </tr>\n",
       "    <tr>\n",
       "      <th>12</th>\n",
       "      <td>sample_12</td>\n",
       "      <td>8.705161</td>\n",
       "    </tr>\n",
       "    <tr>\n",
       "      <th>13</th>\n",
       "      <td>sample_13</td>\n",
       "      <td>8.594448</td>\n",
       "    </tr>\n",
       "    <tr>\n",
       "      <th>14</th>\n",
       "      <td>sample_14</td>\n",
       "      <td>8.566652</td>\n",
       "    </tr>\n",
       "    <tr>\n",
       "      <th>15</th>\n",
       "      <td>sample_15</td>\n",
       "      <td>8.373056</td>\n",
       "    </tr>\n",
       "    <tr>\n",
       "      <th>16</th>\n",
       "      <td>sample_16</td>\n",
       "      <td>8.508310</td>\n",
       "    </tr>\n",
       "    <tr>\n",
       "      <th>17</th>\n",
       "      <td>sample_17</td>\n",
       "      <td>8.598623</td>\n",
       "    </tr>\n",
       "    <tr>\n",
       "      <th>18</th>\n",
       "      <td>sample_18</td>\n",
       "      <td>8.577182</td>\n",
       "    </tr>\n",
       "    <tr>\n",
       "      <th>19</th>\n",
       "      <td>sample_19</td>\n",
       "      <td>8.342460</td>\n",
       "    </tr>\n",
       "  </tbody>\n",
       "</table>\n",
       "</div>"
      ],
      "text/plain": [
       "   sample_name  mean_values\n",
       "0     sample_0     8.523807\n",
       "1     sample_1     8.384698\n",
       "2     sample_2     8.807357\n",
       "3     sample_3     8.650710\n",
       "4     sample_4     8.503213\n",
       "5     sample_5     9.005411\n",
       "6     sample_6     8.837363\n",
       "7     sample_7     8.677909\n",
       "8     sample_8     8.447586\n",
       "9     sample_9     8.590550\n",
       "10   sample_10     8.487464\n",
       "11   sample_11     8.610563\n",
       "12   sample_12     8.705161\n",
       "13   sample_13     8.594448\n",
       "14   sample_14     8.566652\n",
       "15   sample_15     8.373056\n",
       "16   sample_16     8.508310\n",
       "17   sample_17     8.598623\n",
       "18   sample_18     8.577182\n",
       "19   sample_19     8.342460"
      ]
     },
     "execution_count": 78,
     "metadata": {},
     "output_type": "execute_result"
    }
   ],
   "source": [
    "mean_df"
   ]
  },
  {
   "cell_type": "code",
   "execution_count": 82,
   "id": "6f39f332-5023-4722-84ad-6da8deb35eac",
   "metadata": {},
   "outputs": [
    {
     "data": {
      "text/plain": [
       "0.1633160044916961"
      ]
     },
     "execution_count": 82,
     "metadata": {},
     "output_type": "execute_result"
    }
   ],
   "source": [
    "standard_deviation=st.stdev(mean_df['mean_values'])\n",
    "standard_deviation"
   ]
  },
  {
   "cell_type": "code",
   "execution_count": 86,
   "id": "b7577647-2644-4179-8580-5cf5b9b53f25",
   "metadata": {},
   "outputs": [
    {
     "data": {
      "text/plain": [
       "0.22339353178266427"
      ]
     },
     "execution_count": 86,
     "metadata": {},
     "output_type": "execute_result"
    }
   ],
   "source": [
    "import math as m\n",
    "calulated_sd=p_std/m.sqrt(200)\n",
    "calulated_sd"
   ]
  },
  {
   "cell_type": "code",
   "execution_count": null,
   "id": "4b450624-3974-4165-b3b3-c3118e8eda57",
   "metadata": {},
   "outputs": [],
   "source": [
    "#interpretation\n",
    "# 1) Mean & median: Mean and median of the population and sample of size 200 are around the same\n",
    "# 2) kurtosis & skewness:\n",
    "# Kurtosis of sample is biased. The sample is positively skewed\n",
    "# kurtosis of the population is ~0.6 implying lighter tail. The population is also posistively skewed\n",
    "# 3) standard deviation of 20 number of sample mean ~ standard deviation of sample from population divided by sqrt of sample size\n",
    "# The population and sample of size of 200 both doesnt represent Gaussian curve and has light tail.\n",
    "# The sample curve somewhat represents the population curve not exactly."
   ]
  }
 ],
 "metadata": {
  "kernelspec": {
   "display_name": "Python 3 (ipykernel)",
   "language": "python",
   "name": "python3"
  },
  "language_info": {
   "codemirror_mode": {
    "name": "ipython",
    "version": 3
   },
   "file_extension": ".py",
   "mimetype": "text/x-python",
   "name": "python",
   "nbconvert_exporter": "python",
   "pygments_lexer": "ipython3",
   "version": "3.12.7"
  }
 },
 "nbformat": 4,
 "nbformat_minor": 5
}
