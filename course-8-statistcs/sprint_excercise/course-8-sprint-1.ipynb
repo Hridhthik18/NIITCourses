{
 "cells": [
  {
   "cell_type": "code",
   "execution_count": 1,
   "id": "8c0968cd-c494-4188-8deb-b8803b3930bb",
   "metadata": {},
   "outputs": [],
   "source": [
    "from itertools import permutations,combinations,combinations_with_replacement,product\n",
    "import math"
   ]
  },
  {
   "cell_type": "code",
   "execution_count": 3,
   "id": "ed044b3c-5bf4-48a7-9ad1-8764d385bbec",
   "metadata": {},
   "outputs": [
    {
     "data": {
      "text/plain": [
       "120"
      ]
     },
     "execution_count": 3,
     "metadata": {},
     "output_type": "execute_result"
    }
   ],
   "source": [
    "# task1\n",
    "# a\n",
    "def fun(n,r):\n",
    "    return len(list(combinations(range(n),r)))\n",
    "\n",
    "men=6\n",
    "women=4\n",
    "\n",
    "men_calc=fun(men,3)\n",
    "women_calc=fun(women,2)\n",
    "\n",
    "final=men_calc*women_calc\n",
    "final\n"
   ]
  },
  {
   "cell_type": "code",
   "execution_count": 4,
   "id": "b39aea0c-91e3-4735-8910-9c21580297ae",
   "metadata": {},
   "outputs": [
    {
     "data": {
      "text/plain": [
       "6"
      ]
     },
     "execution_count": 4,
     "metadata": {},
     "output_type": "execute_result"
    }
   ],
   "source": [
    "# b\n",
    "men_only=fun(men,5)\n",
    "men_only"
   ]
  },
  {
   "cell_type": "code",
   "execution_count": 9,
   "id": "67908f18-e9f8-4162-ad91-47bc543daa5c",
   "metadata": {},
   "outputs": [
    {
     "data": {
      "text/plain": [
       "66"
      ]
     },
     "execution_count": 9,
     "metadata": {},
     "output_type": "execute_result"
    }
   ],
   "source": [
    "# c\n",
    "# possibilty 1\n",
    "maj_women1=fun(women,3)\n",
    "min_maj1=fun(men,2)\n",
    "majority_women1=maj_women1*min_maj1\n",
    "majority_women1\n",
    "# possibility 2\n",
    "maj_women2=fun(women,4)\n",
    "min_men2=fun(men,1)\n",
    "majority_women2=maj_women2*min_men2\n",
    "result=majority_women1+majority_women2\n",
    "result"
   ]
  },
  {
   "cell_type": "code",
   "execution_count": 27,
   "id": "31438d71-c253-4b80-983e-2a5c8f0740a8",
   "metadata": {},
   "outputs": [
    {
     "data": {
      "text/plain": [
       "2598960"
      ]
     },
     "execution_count": 27,
     "metadata": {},
     "output_type": "execute_result"
    }
   ],
   "source": [
    "# task2\n",
    "cards=list(range(52))\n",
    "len(list(combinations(cards,r=5)))"
   ]
  },
  {
   "cell_type": "code",
   "execution_count": 31,
   "id": "e4af7e63-8012-4155-8e92-fcf86a552196",
   "metadata": {},
   "outputs": [
    {
     "data": {
      "text/plain": [
       "336"
      ]
     },
     "execution_count": 31,
     "metadata": {},
     "output_type": "execute_result"
    }
   ],
   "source": [
    "# task3\n",
    "names=['Alice', 'Ava', 'Charlie', 'David', 'Eve', 'Frank', 'George', 'Mia']\n",
    "len(list(permutations(names,r=3)))"
   ]
  },
  {
   "cell_type": "code",
   "execution_count": 25,
   "id": "07bb0eb1-5b3a-404f-8ead-b6467db25b54",
   "metadata": {},
   "outputs": [
    {
     "name": "stdout",
     "output_type": "stream",
     "text": [
      "The number of ways the students can be arranged so Jenny and David are not together is: 1133317785600\n"
     ]
    }
   ],
   "source": [
    "# task4\n",
    "import math\n",
    "\n",
    "# Factorials\n",
    "factorial_14 = math.factorial(14)\n",
    "factorial_15 = math.factorial(15)\n",
    "\n",
    "# Compute arrangements\n",
    "arrangements_not_together = factorial_14 * (15 - 2)\n",
    "\n",
    "# Output the result\n",
    "print(f\"The number of ways the students can be arranged so Jenny and David are not together is: {arrangements_not_together}\")\n"
   ]
  },
  {
   "cell_type": "code",
   "execution_count": 45,
   "id": "6e2ea8b3-78ab-4fb4-a705-8bbccc59f6e0",
   "metadata": {},
   "outputs": [
    {
     "data": {
      "text/plain": [
       "0.1111111111111111"
      ]
     },
     "execution_count": 45,
     "metadata": {},
     "output_type": "execute_result"
    }
   ],
   "source": [
    "# task5\n",
    "total_outcomes=6*6\n",
    "outcomes=4\n",
    "prob=outcomes/total_outcomes\n",
    "prob\n"
   ]
  },
  {
   "cell_type": "code",
   "execution_count": 63,
   "id": "432d5e7b-94dc-4e81-aebe-4c8fd029f571",
   "metadata": {},
   "outputs": [
    {
     "data": {
      "text/plain": [
       "25200"
      ]
     },
     "execution_count": 63,
     "metadata": {},
     "output_type": "execute_result"
    }
   ],
   "source": [
    "# task6\n",
    "def fun(consonent,vowels,con_to_choose,vow_to_use):\n",
    "    con_combinations=math.comb(consnent,con_to_choose)\n",
    "    vol_combinations=math.comb(vowels,vow_to_choose)\n",
    "    permutations=math.factorial(con_to_choose+vow_to_choose)\n",
    "    total_words=con_combinations*vol_combinations*permutations\n",
    "    return total_words\n",
    "\n",
    "\n",
    "consonent=7\n",
    "vowels=4\n",
    "con_to_choose=3\n",
    "vow_to_choose=2\n",
    "fun(7,4,3,2)"
   ]
  },
  {
   "cell_type": "code",
   "execution_count": 19,
   "id": "637934b6-3e87-493c-81e9-fa31ba2bb919",
   "metadata": {},
   "outputs": [
    {
     "data": {
      "text/plain": [
       "0.7"
      ]
     },
     "execution_count": 19,
     "metadata": {},
     "output_type": "execute_result"
    }
   ],
   "source": [
    "70/100"
   ]
  },
  {
   "cell_type": "code",
   "execution_count": 21,
   "id": "426a40c4-df2e-470c-9d45-9fdb17399d48",
   "metadata": {},
   "outputs": [
    {
     "data": {
      "text/plain": [
       "0.8000000000000002"
      ]
     },
     "execution_count": 21,
     "metadata": {},
     "output_type": "execute_result"
    }
   ],
   "source": [
    "0.56/0.7"
   ]
  },
  {
   "cell_type": "code",
   "execution_count": 19,
   "id": "2e051b5e-dd47-430e-8d44-a42e55b3ad71",
   "metadata": {},
   "outputs": [
    {
     "name": "stdout",
     "output_type": "stream",
     "text": [
      "6\n",
      "19\n",
      "\n",
      "24\n",
      "18\n"
     ]
    },
    {
     "data": {
      "text/plain": [
       "0.75"
      ]
     },
     "execution_count": 19,
     "metadata": {},
     "output_type": "execute_result"
    }
   ],
   "source": [
    "# task7\n",
    "total_bulbs=25\n",
    "d=round(25/100*25)\n",
    "n=total_bulbs-d\n",
    "print(d)\n",
    "print(n)\n",
    "print()\n",
    "# one bulb drwan randomly which is defective\n",
    "drwan_total=total_bulbs-1\n",
    "drwan_n=n-1\n",
    "print(drwan_total)\n",
    "print(drwan_n)\n",
    "\n",
    "# if one more bulb drawn what is the probabilty is non_defective\n",
    "probabilty_non_defective=18/24\n",
    "probabilty_non_defective"
   ]
  },
  {
   "cell_type": "code",
   "execution_count": 21,
   "id": "59945ade-ef22-4059-836d-b6b50b4fab59",
   "metadata": {},
   "outputs": [
    {
     "data": {
      "text/plain": [
       "0.6609195402298851"
      ]
     },
     "execution_count": 21,
     "metadata": {},
     "output_type": "execute_result"
    }
   ],
   "source": [
    "# task8\n",
    "\n",
    "f=0.46\n",
    "p_f=0.25\n",
    "p=0.174\n",
    "\n",
    "part_time_female=p_f*f\n",
    "\n",
    "answer=part_time_female/p\n",
    "answer"
   ]
  },
  {
   "cell_type": "code",
   "execution_count": 23,
   "id": "8e1ecdf7-4e9b-4e7f-9da2-097376b3f852",
   "metadata": {},
   "outputs": [
    {
     "data": {
      "text/plain": [
       "0.8000000000000002"
      ]
     },
     "execution_count": 23,
     "metadata": {},
     "output_type": "execute_result"
    }
   ],
   "source": [
    "# task9\n",
    "a=0.70\n",
    "b=0.67\n",
    "a_b=0.56\n",
    "\n",
    "answer=a_b/a\n",
    "answer"
   ]
  },
  {
   "cell_type": "code",
   "execution_count": null,
   "id": "f81f3fbb-aadc-436c-93df-c8de855080cc",
   "metadata": {},
   "outputs": [],
   "source": []
  }
 ],
 "metadata": {
  "kernelspec": {
   "display_name": "Python 3 (ipykernel)",
   "language": "python",
   "name": "python3"
  },
  "language_info": {
   "codemirror_mode": {
    "name": "ipython",
    "version": 3
   },
   "file_extension": ".py",
   "mimetype": "text/x-python",
   "name": "python",
   "nbconvert_exporter": "python",
   "pygments_lexer": "ipython3",
   "version": "3.12.7"
  }
 },
 "nbformat": 4,
 "nbformat_minor": 5
}
