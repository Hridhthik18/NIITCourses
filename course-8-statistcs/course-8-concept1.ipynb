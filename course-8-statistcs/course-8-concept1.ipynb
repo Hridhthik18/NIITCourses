{
 "cells": [
  {
   "cell_type": "markdown",
   "id": "d82b4102-3216-4893-88b9-de8af0b330fd",
   "metadata": {},
   "source": [
    "# demo 8.1.combination"
   ]
  },
  {
   "cell_type": "code",
   "execution_count": 2,
   "id": "d0a38a6a-4232-45b3-990b-0c540e5ebbbf",
   "metadata": {},
   "outputs": [],
   "source": [
    "from itertools import permutations,combinations,combinations_with_replacement,product"
   ]
  },
  {
   "cell_type": "code",
   "execution_count": 3,
   "id": "12eb10bf-beb3-4b6d-80ca-f26c0ea27779",
   "metadata": {},
   "outputs": [],
   "source": [
    "# list of flavours\n",
    "lst=['Banana', 'Chocolate','Orange','Strawberry','Vanilla']"
   ]
  },
  {
   "cell_type": "code",
   "execution_count": 4,
   "id": "f0655024-f9b6-4c9a-b839-9b47ae00961f",
   "metadata": {},
   "outputs": [],
   "source": [
    "# total number of combination without repeatition\n"
   ]
  },
  {
   "cell_type": "code",
   "execution_count": 5,
   "id": "37a7d1a3-1942-444c-bbf5-a06713aa282c",
   "metadata": {},
   "outputs": [
    {
     "data": {
      "text/plain": [
       "[('Banana', 'Chocolate', 'Orange'),\n",
       " ('Banana', 'Chocolate', 'Strawberry'),\n",
       " ('Banana', 'Chocolate', 'Vanilla'),\n",
       " ('Banana', 'Orange', 'Strawberry'),\n",
       " ('Banana', 'Orange', 'Vanilla'),\n",
       " ('Banana', 'Strawberry', 'Vanilla'),\n",
       " ('Chocolate', 'Orange', 'Strawberry'),\n",
       " ('Chocolate', 'Orange', 'Vanilla'),\n",
       " ('Chocolate', 'Strawberry', 'Vanilla'),\n",
       " ('Orange', 'Strawberry', 'Vanilla')]"
      ]
     },
     "execution_count": 5,
     "metadata": {},
     "output_type": "execute_result"
    }
   ],
   "source": [
    "# without repeatition\n",
    "list(combinations(lst,r=3))"
   ]
  },
  {
   "cell_type": "code",
   "execution_count": 6,
   "id": "76c7120d-1bc8-4b0b-af95-569bbd0397e1",
   "metadata": {
    "scrolled": true
   },
   "outputs": [
    {
     "data": {
      "text/plain": [
       "[('Banana', 'Banana', 'Banana'),\n",
       " ('Banana', 'Banana', 'Chocolate'),\n",
       " ('Banana', 'Banana', 'Orange'),\n",
       " ('Banana', 'Banana', 'Strawberry'),\n",
       " ('Banana', 'Banana', 'Vanilla'),\n",
       " ('Banana', 'Chocolate', 'Chocolate'),\n",
       " ('Banana', 'Chocolate', 'Orange'),\n",
       " ('Banana', 'Chocolate', 'Strawberry'),\n",
       " ('Banana', 'Chocolate', 'Vanilla'),\n",
       " ('Banana', 'Orange', 'Orange'),\n",
       " ('Banana', 'Orange', 'Strawberry'),\n",
       " ('Banana', 'Orange', 'Vanilla'),\n",
       " ('Banana', 'Strawberry', 'Strawberry'),\n",
       " ('Banana', 'Strawberry', 'Vanilla'),\n",
       " ('Banana', 'Vanilla', 'Vanilla'),\n",
       " ('Chocolate', 'Chocolate', 'Chocolate'),\n",
       " ('Chocolate', 'Chocolate', 'Orange'),\n",
       " ('Chocolate', 'Chocolate', 'Strawberry'),\n",
       " ('Chocolate', 'Chocolate', 'Vanilla'),\n",
       " ('Chocolate', 'Orange', 'Orange'),\n",
       " ('Chocolate', 'Orange', 'Strawberry'),\n",
       " ('Chocolate', 'Orange', 'Vanilla'),\n",
       " ('Chocolate', 'Strawberry', 'Strawberry'),\n",
       " ('Chocolate', 'Strawberry', 'Vanilla'),\n",
       " ('Chocolate', 'Vanilla', 'Vanilla'),\n",
       " ('Orange', 'Orange', 'Orange'),\n",
       " ('Orange', 'Orange', 'Strawberry'),\n",
       " ('Orange', 'Orange', 'Vanilla'),\n",
       " ('Orange', 'Strawberry', 'Strawberry'),\n",
       " ('Orange', 'Strawberry', 'Vanilla'),\n",
       " ('Orange', 'Vanilla', 'Vanilla'),\n",
       " ('Strawberry', 'Strawberry', 'Strawberry'),\n",
       " ('Strawberry', 'Strawberry', 'Vanilla'),\n",
       " ('Strawberry', 'Vanilla', 'Vanilla'),\n",
       " ('Vanilla', 'Vanilla', 'Vanilla')]"
      ]
     },
     "execution_count": 6,
     "metadata": {},
     "output_type": "execute_result"
    }
   ],
   "source": [
    "list(combinations_with_replacement(lst,r=3))"
   ]
  },
  {
   "cell_type": "markdown",
   "id": "b4f6d052-408f-4324-80d9-67bd2a8bec7e",
   "metadata": {},
   "source": [
    "# demo 8.2 permutations"
   ]
  },
  {
   "cell_type": "code",
   "execution_count": 8,
   "id": "4e75c5fe-c50b-4d17-a668-568db359b12c",
   "metadata": {},
   "outputs": [
    {
     "data": {
      "text/plain": [
       "[0, 1, 2, 3, 4]"
      ]
     },
     "execution_count": 8,
     "metadata": {},
     "output_type": "execute_result"
    }
   ],
   "source": [
    "locker=list(range(0,5))\n",
    "locker"
   ]
  },
  {
   "cell_type": "code",
   "execution_count": 9,
   "id": "553431f4-1f6e-46e8-b72c-23e012660fc3",
   "metadata": {
    "scrolled": true
   },
   "outputs": [
    {
     "data": {
      "text/plain": [
       "[(0, 1, 2),\n",
       " (0, 1, 3),\n",
       " (0, 1, 4),\n",
       " (0, 2, 1),\n",
       " (0, 2, 3),\n",
       " (0, 2, 4),\n",
       " (0, 3, 1),\n",
       " (0, 3, 2),\n",
       " (0, 3, 4),\n",
       " (0, 4, 1),\n",
       " (0, 4, 2),\n",
       " (0, 4, 3),\n",
       " (1, 0, 2),\n",
       " (1, 0, 3),\n",
       " (1, 0, 4),\n",
       " (1, 2, 0),\n",
       " (1, 2, 3),\n",
       " (1, 2, 4),\n",
       " (1, 3, 0),\n",
       " (1, 3, 2),\n",
       " (1, 3, 4),\n",
       " (1, 4, 0),\n",
       " (1, 4, 2),\n",
       " (1, 4, 3),\n",
       " (2, 0, 1),\n",
       " (2, 0, 3),\n",
       " (2, 0, 4),\n",
       " (2, 1, 0),\n",
       " (2, 1, 3),\n",
       " (2, 1, 4),\n",
       " (2, 3, 0),\n",
       " (2, 3, 1),\n",
       " (2, 3, 4),\n",
       " (2, 4, 0),\n",
       " (2, 4, 1),\n",
       " (2, 4, 3),\n",
       " (3, 0, 1),\n",
       " (3, 0, 2),\n",
       " (3, 0, 4),\n",
       " (3, 1, 0),\n",
       " (3, 1, 2),\n",
       " (3, 1, 4),\n",
       " (3, 2, 0),\n",
       " (3, 2, 1),\n",
       " (3, 2, 4),\n",
       " (3, 4, 0),\n",
       " (3, 4, 1),\n",
       " (3, 4, 2),\n",
       " (4, 0, 1),\n",
       " (4, 0, 2),\n",
       " (4, 0, 3),\n",
       " (4, 1, 0),\n",
       " (4, 1, 2),\n",
       " (4, 1, 3),\n",
       " (4, 2, 0),\n",
       " (4, 2, 1),\n",
       " (4, 2, 3),\n",
       " (4, 3, 0),\n",
       " (4, 3, 1),\n",
       " (4, 3, 2)]"
      ]
     },
     "execution_count": 9,
     "metadata": {},
     "output_type": "execute_result"
    }
   ],
   "source": [
    "# without repeatition\n",
    "list(permutations(locker,r=3))"
   ]
  },
  {
   "cell_type": "code",
   "execution_count": 12,
   "id": "9bd315e4-d705-41b1-b391-510f5f63994c",
   "metadata": {
    "scrolled": true
   },
   "outputs": [
    {
     "data": {
      "text/plain": [
       "[(0, 0, 0),\n",
       " (0, 0, 1),\n",
       " (0, 0, 2),\n",
       " (0, 0, 3),\n",
       " (0, 0, 4),\n",
       " (0, 1, 0),\n",
       " (0, 1, 1),\n",
       " (0, 1, 2),\n",
       " (0, 1, 3),\n",
       " (0, 1, 4),\n",
       " (0, 2, 0),\n",
       " (0, 2, 1),\n",
       " (0, 2, 2),\n",
       " (0, 2, 3),\n",
       " (0, 2, 4),\n",
       " (0, 3, 0),\n",
       " (0, 3, 1),\n",
       " (0, 3, 2),\n",
       " (0, 3, 3),\n",
       " (0, 3, 4),\n",
       " (0, 4, 0),\n",
       " (0, 4, 1),\n",
       " (0, 4, 2),\n",
       " (0, 4, 3),\n",
       " (0, 4, 4),\n",
       " (1, 0, 0),\n",
       " (1, 0, 1),\n",
       " (1, 0, 2),\n",
       " (1, 0, 3),\n",
       " (1, 0, 4),\n",
       " (1, 1, 0),\n",
       " (1, 1, 1),\n",
       " (1, 1, 2),\n",
       " (1, 1, 3),\n",
       " (1, 1, 4),\n",
       " (1, 2, 0),\n",
       " (1, 2, 1),\n",
       " (1, 2, 2),\n",
       " (1, 2, 3),\n",
       " (1, 2, 4),\n",
       " (1, 3, 0),\n",
       " (1, 3, 1),\n",
       " (1, 3, 2),\n",
       " (1, 3, 3),\n",
       " (1, 3, 4),\n",
       " (1, 4, 0),\n",
       " (1, 4, 1),\n",
       " (1, 4, 2),\n",
       " (1, 4, 3),\n",
       " (1, 4, 4),\n",
       " (2, 0, 0),\n",
       " (2, 0, 1),\n",
       " (2, 0, 2),\n",
       " (2, 0, 3),\n",
       " (2, 0, 4),\n",
       " (2, 1, 0),\n",
       " (2, 1, 1),\n",
       " (2, 1, 2),\n",
       " (2, 1, 3),\n",
       " (2, 1, 4),\n",
       " (2, 2, 0),\n",
       " (2, 2, 1),\n",
       " (2, 2, 2),\n",
       " (2, 2, 3),\n",
       " (2, 2, 4),\n",
       " (2, 3, 0),\n",
       " (2, 3, 1),\n",
       " (2, 3, 2),\n",
       " (2, 3, 3),\n",
       " (2, 3, 4),\n",
       " (2, 4, 0),\n",
       " (2, 4, 1),\n",
       " (2, 4, 2),\n",
       " (2, 4, 3),\n",
       " (2, 4, 4),\n",
       " (3, 0, 0),\n",
       " (3, 0, 1),\n",
       " (3, 0, 2),\n",
       " (3, 0, 3),\n",
       " (3, 0, 4),\n",
       " (3, 1, 0),\n",
       " (3, 1, 1),\n",
       " (3, 1, 2),\n",
       " (3, 1, 3),\n",
       " (3, 1, 4),\n",
       " (3, 2, 0),\n",
       " (3, 2, 1),\n",
       " (3, 2, 2),\n",
       " (3, 2, 3),\n",
       " (3, 2, 4),\n",
       " (3, 3, 0),\n",
       " (3, 3, 1),\n",
       " (3, 3, 2),\n",
       " (3, 3, 3),\n",
       " (3, 3, 4),\n",
       " (3, 4, 0),\n",
       " (3, 4, 1),\n",
       " (3, 4, 2),\n",
       " (3, 4, 3),\n",
       " (3, 4, 4),\n",
       " (4, 0, 0),\n",
       " (4, 0, 1),\n",
       " (4, 0, 2),\n",
       " (4, 0, 3),\n",
       " (4, 0, 4),\n",
       " (4, 1, 0),\n",
       " (4, 1, 1),\n",
       " (4, 1, 2),\n",
       " (4, 1, 3),\n",
       " (4, 1, 4),\n",
       " (4, 2, 0),\n",
       " (4, 2, 1),\n",
       " (4, 2, 2),\n",
       " (4, 2, 3),\n",
       " (4, 2, 4),\n",
       " (4, 3, 0),\n",
       " (4, 3, 1),\n",
       " (4, 3, 2),\n",
       " (4, 3, 3),\n",
       " (4, 3, 4),\n",
       " (4, 4, 0),\n",
       " (4, 4, 1),\n",
       " (4, 4, 2),\n",
       " (4, 4, 3),\n",
       " (4, 4, 4)]"
      ]
     },
     "execution_count": 12,
     "metadata": {},
     "output_type": "execute_result"
    }
   ],
   "source": [
    "# with repeatition\n",
    "list(product(locker,repeat=3))"
   ]
  },
  {
   "cell_type": "code",
   "execution_count": null,
   "id": "9d2a8f95-63d9-4a51-9600-152c5d2c0971",
   "metadata": {},
   "outputs": [],
   "source": [
    "# factorial\n",
    "import math as m"
   ]
  },
  {
   "cell_type": "code",
   "execution_count": null,
   "id": "6f2c49af-c351-43aa-a74b-e378e3524534",
   "metadata": {},
   "outputs": [],
   "source": [
    "m.factorial(5)"
   ]
  },
  {
   "cell_type": "code",
   "execution_count": null,
   "id": "a7663d73-b002-40c8-bc66-a00c2b6c0e90",
   "metadata": {},
   "outputs": [],
   "source": [
    "a=int(input('enter a number'))\n",
    "m.factorial(a)"
   ]
  },
  {
   "cell_type": "code",
   "execution_count": 36,
   "id": "692a95c7-fe47-49cc-b383-6645915ae59c",
   "metadata": {
    "scrolled": true
   },
   "outputs": [
    {
     "data": {
      "text/plain": [
       "20"
      ]
     },
     "execution_count": 36,
     "metadata": {},
     "output_type": "execute_result"
    }
   ],
   "source": [
    "commity=['M','M','M','M','M','M']\n",
    "len(list(combinations(commity,r=3)))"
   ]
  },
  {
   "cell_type": "code",
   "execution_count": 34,
   "id": "93b46cb4-472f-4db5-9332-e8e8d3f21c58",
   "metadata": {},
   "outputs": [
    {
     "data": {
      "text/plain": [
       "120"
      ]
     },
     "execution_count": 34,
     "metadata": {},
     "output_type": "execute_result"
    }
   ],
   "source": [
    "def commity(n,r):\n",
    "    \n",
    "    return len(list(combinations(range(n),r)))\n",
    "men=6\n",
    "women=4\n",
    "cal_men=commity(men,3)\n",
    "cal_men\n",
    "cal_women=commity(women,2)\n",
    "cal_women\n",
    "final=cal_men*cal_women\n",
    "final\n",
    "        "
   ]
  },
  {
   "cell_type": "code",
   "execution_count": 46,
   "id": "ba4ab6d7-69de-49b3-91e5-7bc3a510a920",
   "metadata": {},
   "outputs": [
    {
     "data": {
      "text/plain": [
       "120"
      ]
     },
     "execution_count": 46,
     "metadata": {},
     "output_type": "execute_result"
    }
   ],
   "source": [
    "men=list(range(6))\n",
    "women=list(range(4))\n",
    "cal_men=len(list(combinations(men,r=3)))\n",
    "cal_women=len(list(combinations(women,r=2)))\n",
    "cal_women\n",
    "final=cal_men*cal_women\n",
    "final\n"
   ]
  },
  {
   "cell_type": "code",
   "execution_count": null,
   "id": "13e2aca8-be42-469c-9e9f-1261c6a4a19d",
   "metadata": {},
   "outputs": [],
   "source": []
  }
 ],
 "metadata": {
  "kernelspec": {
   "display_name": "Python 3 (ipykernel)",
   "language": "python",
   "name": "python3"
  },
  "language_info": {
   "codemirror_mode": {
    "name": "ipython",
    "version": 3
   },
   "file_extension": ".py",
   "mimetype": "text/x-python",
   "name": "python",
   "nbconvert_exporter": "python",
   "pygments_lexer": "ipython3",
   "version": "3.12.7"
  }
 },
 "nbformat": 4,
 "nbformat_minor": 5
}
