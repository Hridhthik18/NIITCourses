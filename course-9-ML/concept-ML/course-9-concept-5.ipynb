{
 "cells": [
  {
   "cell_type": "markdown",
   "metadata": {
    "id": "l9pl0psu6UIF"
   },
   "source": [
    "# Classifying Data using K-Nearest Neighbor"
   ]
  },
  {
   "cell_type": "markdown",
   "metadata": {
    "id": "5eFiMG4G6Wzs"
   },
   "source": [
    "# Concept Session"
   ]
  },
  {
   "cell_type": "markdown",
   "metadata": {
    "id": "VrVs05BJhLWm"
   },
   "source": [
    "### Generate the Data"
   ]
  },
  {
   "cell_type": "code",
   "execution_count": 3,
   "metadata": {
    "id": "gRX8GJkm7WHs"
   },
   "outputs": [],
   "source": [
    "# Import required Python Library\n",
    "import numpy as np\n",
    "import matplotlib.pyplot as plt\n"
   ]
  },
  {
   "cell_type": "code",
   "execution_count": 4,
   "metadata": {
    "id": "dpf7YQHC6Tky"
   },
   "outputs": [
    {
     "data": {
      "text/plain": [
       "array([[10,  9],\n",
       "       [ 1,  4],\n",
       "       [10,  1],\n",
       "       [ 7, 10],\n",
       "       [ 3, 10],\n",
       "       [ 1,  1],\n",
       "       [ 8,  5],\n",
       "       [ 3,  7],\n",
       "       [ 3,  6],\n",
       "       [ 7,  3]])"
      ]
     },
     "execution_count": 4,
     "metadata": {},
     "output_type": "execute_result"
    }
   ],
   "source": [
    "sweet_chrunchy = np.array([[10,9],[1, 4], [10, 1], [7, 10], [3, 10], [1, 1], [8, 5], [3, 7], [3, 6], [7, 3]])\n",
    "sweet_chrunchy"
   ]
  },
  {
   "cell_type": "code",
   "execution_count": 7,
   "metadata": {},
   "outputs": [
    {
     "data": {
      "text/plain": [
       "10"
      ]
     },
     "execution_count": 7,
     "metadata": {},
     "output_type": "execute_result"
    }
   ],
   "source": [
    "len(sweet_chrunchy)"
   ]
  },
  {
   "cell_type": "code",
   "execution_count": 15,
   "metadata": {
    "id": "bwZgKC_s6fwr"
   },
   "outputs": [],
   "source": [
    "ingredients = [\"Apple\", \"Bacon\", \"Banana\", \"Carrot\", \"Celery\", \"Cheese\", \"Grape\", \"Green Bean\", \"Nuts\", \"Orange\"]\n",
    "FoodType=[\"fruit\", \"protein\", \"fruit\", \"vegetable\", \"vegetable\", \"protein\", \"fruit\", \"vegetable\", \"protein\", \"fruit\"]"
   ]
  },
  {
   "cell_type": "code",
   "execution_count": 17,
   "metadata": {
    "id": "4VJCv8Hu7uPz"
   },
   "outputs": [],
   "source": [
    "# tomato data set\n",
    "test =[6, 4]"
   ]
  },
  {
   "cell_type": "markdown",
   "metadata": {
    "id": "Q1ummq4kL9v7"
   },
   "source": [
    "## Demo - 5.1: Euclidean Distance Using Python"
   ]
  },
  {
   "cell_type": "markdown",
   "metadata": {
    "id": "YlCZu_cYHzsW"
   },
   "source": [
    "### Euclidean Distance Using Formula"
   ]
  },
  {
   "cell_type": "code",
   "execution_count": 25,
   "metadata": {
    "colab": {
     "base_uri": "https://localhost:8080/"
    },
    "id": "oY1LDlRo7i3T",
    "outputId": "a41359b0-2ba1-4f29-fb0e-7cddc4b6c5ae"
   },
   "outputs": [
    {
     "name": "stdout",
     "output_type": "stream",
     "text": [
      "test data set [6, 4] and [10  9] ( Apple ) = 6.4031242374328485\n",
      "test data set [6, 4] and [1 4] ( Bacon ) = 5.0\n",
      "test data set [6, 4] and [10  1] ( Banana ) = 5.0\n",
      "test data set [6, 4] and [ 7 10] ( Carrot ) = 6.082762530298219\n",
      "test data set [6, 4] and [ 3 10] ( Celery ) = 6.708203932499369\n",
      "test data set [6, 4] and [1 1] ( Cheese ) = 5.830951894845301\n",
      "test data set [6, 4] and [8 5] ( Grape ) = 2.23606797749979\n",
      "test data set [6, 4] and [3 7] ( Green Bean ) = 4.242640687119285\n",
      "test data set [6, 4] and [3 6] ( Nuts ) = 3.605551275463989\n",
      "test data set [6, 4] and [7 3] ( Orange ) = 1.4142135623730951\n"
     ]
    }
   ],
   "source": [
    "def Euclidean_distance(x,y):\n",
    "    return np.sqrt(np.sum((x-y)**2))\n",
    "\n",
    "for i in range(len(sweet_chrunchy)):\n",
    "    distance=Euclidean_distance(test,sweet_chrunchy[i])\n",
    "    print(\"test data set\",test,\"and\",sweet_chrunchy[i],\"(\",ingredients[i],\") =\",distance)\n",
    "\n"
   ]
  },
  {
   "cell_type": "markdown",
   "metadata": {
    "id": "8dKo_7bHH0WN"
   },
   "source": [
    "### Euclidean Distance Using NumPy Library"
   ]
  },
  {
   "cell_type": "code",
   "execution_count": 13,
   "metadata": {
    "colab": {
     "base_uri": "https://localhost:8080/"
    },
    "id": "gVjo0ngtGspR",
    "outputId": "efa75114-3261-4aa5-c9f0-45ae71b86c88"
   },
   "outputs": [
    {
     "name": "stdout",
     "output_type": "stream",
     "text": [
      "test data set [6, 4] and [10  9] ( Apple ) = 6.4031242374328485\n",
      "test data set [6, 4] and [1 4] ( Bacon ) = 5.0\n",
      "test data set [6, 4] and [10  1] ( Banana ) = 5.0\n",
      "test data set [6, 4] and [ 7 10] ( Carrot ) = 6.082762530298219\n",
      "test data set [6, 4] and [ 3 10] ( Celery ) = 6.708203932499369\n",
      "test data set [6, 4] and [1 1] ( Cheese ) = 5.830951894845301\n",
      "test data set [6, 4] and [8 5] ( Grape ) = 2.23606797749979\n",
      "test data set [6, 4] and [3 7] ( Green Bean ) = 4.242640687119285\n",
      "test data set [6, 4] and [3 6] ( Nuts ) = 3.605551275463989\n",
      "test data set [6, 4] and [7 3] ( Orange ) = 1.4142135623730951\n"
     ]
    }
   ],
   "source": [
    "for i in range(len(sweet_chrunchy)):\n",
    "    distance=np.linalg.norm(test-sweet_chrunchy[i])\n",
    "    print(\"test data set\",test,\"and\",sweet_chrunchy[i],\"(\",ingredients[i],\") =\",distance)\n"
   ]
  },
  {
   "cell_type": "code",
   "execution_count": 14,
   "metadata": {},
   "outputs": [],
   "source": [
    "# linalg is a linear algebra model in numpy library and norm is a vector which calculates the magnitude and direction.\n"
   ]
  },
  {
   "cell_type": "markdown",
   "metadata": {
    "id": "fRjgymNAH0-d"
   },
   "source": [
    "### Euclidean Distance Using Scipy Library"
   ]
  },
  {
   "cell_type": "code",
   "execution_count": 16,
   "metadata": {
    "colab": {
     "base_uri": "https://localhost:8080/"
    },
    "id": "pJJNtwKiHVOv",
    "outputId": "0c7354d2-15de-40e0-b978-b65315fa9c7c"
   },
   "outputs": [
    {
     "name": "stdout",
     "output_type": "stream",
     "text": [
      "test data set [6, 4] and [10  9] ( Apple ) = 6.4031242374328485\n",
      "test data set [6, 4] and [1 4] ( Bacon ) = 5.0\n",
      "test data set [6, 4] and [10  1] ( Banana ) = 5.0\n",
      "test data set [6, 4] and [ 7 10] ( Carrot ) = 6.082762530298219\n",
      "test data set [6, 4] and [ 3 10] ( Celery ) = 6.708203932499369\n",
      "test data set [6, 4] and [1 1] ( Cheese ) = 5.830951894845301\n",
      "test data set [6, 4] and [8 5] ( Grape ) = 2.23606797749979\n",
      "test data set [6, 4] and [3 7] ( Green Bean ) = 4.242640687119285\n",
      "test data set [6, 4] and [3 6] ( Nuts ) = 3.605551275463989\n",
      "test data set [6, 4] and [7 3] ( Orange ) = 1.4142135623730951\n"
     ]
    }
   ],
   "source": [
    "from scipy.spatial import distance\n",
    "for i in range(len(sweet_chrunchy)):\n",
    "    dis=distance.euclidean(test,sweet_chrunchy[i])\n",
    "    print(\"test data set\",test,\"and\",sweet_chrunchy[i],\"(\",ingredients[i],\") =\",dis)"
   ]
  },
  {
   "cell_type": "markdown",
   "metadata": {
    "id": "HlfeHUG-LykM"
   },
   "source": [
    "## Demo - 5.2: Manhattan Distance Using Python"
   ]
  },
  {
   "cell_type": "markdown",
   "metadata": {
    "id": "kbJHEYL4K_Be"
   },
   "source": [
    "### Mahattan Distance Using Formula"
   ]
  },
  {
   "cell_type": "code",
   "execution_count": null,
   "metadata": {
    "colab": {
     "base_uri": "https://localhost:8080/"
    },
    "id": "ngv_-f4ZK_QM",
    "outputId": "85546f19-475d-4b7b-e33a-23bee2c0385d"
   },
   "outputs": [],
   "source": []
  },
  {
   "cell_type": "markdown",
   "metadata": {
    "id": "fPjpjJh_INGl"
   },
   "source": [
    "### Mahattan Distance using scipy library"
   ]
  },
  {
   "cell_type": "code",
   "execution_count": 20,
   "metadata": {
    "colab": {
     "base_uri": "https://localhost:8080/"
    },
    "id": "1FkJ_x43IK5Y",
    "outputId": "2a50a85e-0fd9-447e-d4ca-756eb40795cb"
   },
   "outputs": [
    {
     "name": "stdout",
     "output_type": "stream",
     "text": [
      "test data set [6, 4] and [10  9] ( Apple ) = 9\n",
      "test data set [6, 4] and [1 4] ( Bacon ) = 5\n",
      "test data set [6, 4] and [10  1] ( Banana ) = 7\n",
      "test data set [6, 4] and [ 7 10] ( Carrot ) = 7\n",
      "test data set [6, 4] and [ 3 10] ( Celery ) = 9\n",
      "test data set [6, 4] and [1 1] ( Cheese ) = 8\n",
      "test data set [6, 4] and [8 5] ( Grape ) = 3\n",
      "test data set [6, 4] and [3 7] ( Green Bean ) = 6\n",
      "test data set [6, 4] and [3 6] ( Nuts ) = 5\n",
      "test data set [6, 4] and [7 3] ( Orange ) = 2\n"
     ]
    }
   ],
   "source": [
    "from scipy.spatial.distance import cityblock\n",
    "for i in range(len(sweet_chrunchy)):\n",
    "    distance=cityblock(test,sweet_chrunchy[i])\n",
    "    print(\"test data set\",test,\"and\",sweet_chrunchy[i],\"(\",ingredients[i],\") =\",distance)"
   ]
  },
  {
   "cell_type": "markdown",
   "metadata": {
    "id": "0wcJDyAKYRe9"
   },
   "source": [
    "## Demo - 5.3: Build Model Using KNN Algorithm"
   ]
  },
  {
   "cell_type": "markdown",
   "metadata": {
    "id": "dmPMWZHlgIGy"
   },
   "source": [
    "### Data Preprocessing"
   ]
  },
  {
   "cell_type": "code",
   "execution_count": 23,
   "metadata": {
    "colab": {
     "base_uri": "https://localhost:8080/"
    },
    "id": "BPAcJ_8KSpUh",
    "outputId": "378df008-e6ec-4372-b95a-73cce191abfe"
   },
   "outputs": [
    {
     "name": "stdout",
     "output_type": "stream",
     "text": [
      "[0 1 0 2 2 1 0 2 1 0]\n",
      "['fruit' 'protein' 'vegetable']\n"
     ]
    }
   ],
   "source": [
    "from sklearn import preprocessing\n",
    "label_encoder=preprocessing.LabelEncoder()\n",
    "food_type_encode=label_encoder.fit_transform(FoodType)\n",
    "print(food_type_encode)\n",
    "print(label_encoder.classes_)"
   ]
  },
  {
   "cell_type": "code",
   "execution_count": 24,
   "metadata": {},
   "outputs": [],
   "source": [
    "# since sweatness and chruchyness are measured in the same scale so data scaling is unnecessary"
   ]
  },
  {
   "cell_type": "markdown",
   "metadata": {},
   "source": [
    "### Splitting Data"
   ]
  },
  {
   "cell_type": "code",
   "execution_count": 26,
   "metadata": {},
   "outputs": [
    {
     "data": {
      "text/plain": [
       "array([0, 1], dtype=int64)"
      ]
     },
     "execution_count": 26,
     "metadata": {},
     "output_type": "execute_result"
    }
   ],
   "source": [
    "# Assign data into X and y variables\n",
    "X=sweet_chrunchy\n",
    "y=food_type_encode\n",
    "from sklearn.model_selection import train_test_split\n",
    "\n",
    "X_train,X_test,y_train,y_test=train_test_split(X,y,test_size=0.2,shuffle=True,random_state=0)  #shuffle is to avod biaseness\n",
    "y_test"
   ]
  },
  {
   "cell_type": "code",
   "execution_count": null,
   "metadata": {
    "id": "NxcfXXgmfM9Q"
   },
   "outputs": [],
   "source": []
  },
  {
   "cell_type": "code",
   "execution_count": null,
   "metadata": {},
   "outputs": [],
   "source": []
  },
  {
   "cell_type": "markdown",
   "metadata": {
    "id": "rSX7xDaQgsoe"
   },
   "source": [
    "### Finding Optimum K value"
   ]
  },
  {
   "cell_type": "code",
   "execution_count": 28,
   "metadata": {
    "colab": {
     "base_uri": "https://localhost:8080/",
     "height": 422
    },
    "id": "4VoVYudrfGnB",
    "outputId": "1c6528cf-698b-4b58-be67-2a3ed98310d5"
   },
   "outputs": [
    {
     "data": {
      "image/png": "[encoded data removed]",
      "text/plain": [
       "<Figure size 1000x600 with 1 Axes>"
      ]
     },
     "metadata": {},
     "output_type": "display_data"
    }
   ],
   "source": [
    "from sklearn import neighbors\n",
    "error_rate=[]\n",
    "for i in range(1,5):\n",
    "    cls_food=neighbors.KNeighborsClassifier(n_neighbors =i)\n",
    "    cls_food.fit(X_train,y_train)\n",
    "    pred_i=cls_food.predict(X_test)\n",
    "    error_rate.append(np.mean(pred_i!=y_test))\n",
    "plt.figure(figsize=(10,6))\n",
    "plt.plot(range(1,5),error_rate,color='blue',ls='dashed',marker='o',markerfacecolor='red')\n",
    "plt.title('error rate vs K value')\n",
    "plt.xlabel('k')\n",
    "plt.ylabel('Error_rate')\n",
    "plt.show()\n"
   ]
  },
  {
   "cell_type": "markdown",
   "metadata": {},
   "source": [
    "Interpretation: \n",
    "#optimum k value is derived from the above error rate plot 2 which is minimum"
   ]
  },
  {
   "cell_type": "code",
   "execution_count": 30,
   "metadata": {},
   "outputs": [
    {
     "data": {
      "text/plain": [
       "10"
      ]
     },
     "execution_count": 30,
     "metadata": {},
     "output_type": "execute_result"
    }
   ],
   "source": [
    "len(FoodType)"
   ]
  },
  {
   "cell_type": "code",
   "execution_count": 31,
   "metadata": {},
   "outputs": [
    {
     "data": {
      "text/plain": [
       "3"
      ]
     },
     "execution_count": 31,
     "metadata": {},
     "output_type": "execute_result"
    }
   ],
   "source": [
    "# Find K value using sqrt(n) formula\n",
    "n=10\n",
    "K=round(np.sqrt(10),0).astype(int)\n",
    "K\n"
   ]
  },
  {
   "cell_type": "markdown",
   "metadata": {},
   "source": [
    "### Building Model"
   ]
  },
  {
   "cell_type": "code",
   "execution_count": 33,
   "metadata": {
    "colab": {
     "base_uri": "https://localhost:8080/"
    },
    "id": "PPpwlf9nM0p9",
    "outputId": "74347085-b82e-4a28-eb64-bc8a1abb0ca1"
   },
   "outputs": [
    {
     "name": "stdout",
     "output_type": "stream",
     "text": [
      "[0 1 2]\n",
      "3\n"
     ]
    }
   ],
   "source": [
    "clf=neighbors.KNeighborsClassifier(K)\n",
    "clf.fit(sweet_chrunchy,food_type_encode)\n",
    "\n",
    "\n",
    "print(clf.classes_)\n",
    "print(clf.n_neighbors)"
   ]
  },
  {
   "cell_type": "code",
   "execution_count": 34,
   "metadata": {
    "colab": {
     "base_uri": "https://localhost:8080/"
    },
    "id": "SVQwHbzYX7Jm",
    "outputId": "4b4b36e7-6038-4735-fb03-903be52653dd"
   },
   "outputs": [],
   "source": [
    "# Model Properties\n"
   ]
  },
  {
   "cell_type": "code",
   "execution_count": 35,
   "metadata": {
    "colab": {
     "base_uri": "https://localhost:8080/"
    },
    "id": "jwbTpG10T9Oo",
    "outputId": "0b306d39-1238-472d-f216-ce411ee73c10"
   },
   "outputs": [
    {
     "data": {
      "text/plain": [
       "array([0], dtype=int64)"
      ]
     },
     "execution_count": 35,
     "metadata": {},
     "output_type": "execute_result"
    }
   ],
   "source": [
    "# Predict the test data\n",
    "test=np.reshape(test,(1,-1))\n",
    "predict=clf.predict(test)\n",
    "predict"
   ]
  },
  {
   "cell_type": "markdown",
   "metadata": {},
   "source": [
    "### Interpretation: \n",
    "\n",
    "prdicted encoded test data (tomato) class from the knn model is 0 that is fruit"
   ]
  },
  {
   "cell_type": "code",
   "execution_count": 37,
   "metadata": {},
   "outputs": [
    {
     "data": {
      "image/png": "[encoded data removed]",
      "text/plain": [
       "<Figure size 800x600 with 1 Axes>"
      ]
     },
     "metadata": {},
     "output_type": "display_data"
    }
   ],
   "source": [
    "X=sweet_chrunchy\n",
    "y=food_type_encode\n",
    "# Plot the decision boundary,predict on a mesh\n",
    "h=0.05\n",
    "x_min,x_max=X[:,0].min()-1,X[:,0].max()+1\n",
    "y_min,y_max=X[:,1].min()-1,X[:,1].max()+1\n",
    "xx,yy=np.meshgrid(np.arange(x_min,x_max,h),np.arange(y_min,y_max,h))\n",
    "Z=clf.predict(np.c_[xx.ravel(),yy.ravel()])\n",
    "Z=Z.reshape(xx.shape)\n",
    "# Create a contour plot\n",
    "plt.figure(figsize=(8,6))\n",
    "plt.contourf(xx,yy,Z,alpha=0.2)\n",
    "# plot also the training points\n",
    "plt.scatter(x=X[:,0],y=X[:,1],c=y)\n",
    "plt.xlim(xx.min(),xx.max())\n",
    "plt.ylim(yy.min(),yy.max())\n",
    "plt.title(\"X-3class classification(k=%i)\"%(K))\n",
    "plt.ylabel(\"Sweetness\")\n",
    "plt.xlabel(\"Churnchiness\")\n",
    "plt.scatter(test[:,0],test[:,1],c=\"red\")\n",
    "plt.show()"
   ]
  },
  {
   "cell_type": "markdown",
   "metadata": {},
   "source": [
    "## Demo - 5.4: KNN using IRIS dataset"
   ]
  },
  {
   "cell_type": "code",
   "execution_count": 39,
   "metadata": {},
   "outputs": [],
   "source": [
    "# Import required Python Libraries\n",
    "import numpy as np\n",
    "import pandas as pd \n",
    "from sklearn import datasets, neighbors\n",
    "import matplotlib.pyplot as plt\n",
    "from ipywidgets import interactive\n",
    "import warnings\n",
    "\n",
    "%matplotlib inline\n",
    "warnings.filterwarnings('ignore')"
   ]
  },
  {
   "cell_type": "code",
   "execution_count": 40,
   "metadata": {
    "scrolled": true
   },
   "outputs": [
    {
     "data": {
      "text/plain": [
       "{'data': array([[5.1, 3.5, 1.4, 0.2],\n",
       "        [4.9, 3. , 1.4, 0.2],\n",
       "        [4.7, 3.2, 1.3, 0.2],\n",
       "        [4.6, 3.1, 1.5, 0.2],\n",
       "        [5. , 3.6, 1.4, 0.2],\n",
       "        [5.4, 3.9, 1.7, 0.4],\n",
       "        [4.6, 3.4, 1.4, 0.3],\n",
       "        [5. , 3.4, 1.5, 0.2],\n",
       "        [4.4, 2.9, 1.4, 0.2],\n",
       "        [4.9, 3.1, 1.5, 0.1],\n",
       "        [5.4, 3.7, 1.5, 0.2],\n",
       "        [4.8, 3.4, 1.6, 0.2],\n",
       "        [4.8, 3. , 1.4, 0.1],\n",
       "        [4.3, 3. , 1.1, 0.1],\n",
       "        [5.8, 4. , 1.2, 0.2],\n",
       "        [5.7, 4.4, 1.5, 0.4],\n",
       "        [5.4, 3.9, 1.3, 0.4],\n",
       "        [5.1, 3.5, 1.4, 0.3],\n",
       "        [5.7, 3.8, 1.7, 0.3],\n",
       "        [5.1, 3.8, 1.5, 0.3],\n",
       "        [5.4, 3.4, 1.7, 0.2],\n",
       "        [5.1, 3.7, 1.5, 0.4],\n",
       "        [4.6, 3.6, 1. , 0.2],\n",
       "        [5.1, 3.3, 1.7, 0.5],\n",
       "        [4.8, 3.4, 1.9, 0.2],\n",
       "        [5. , 3. , 1.6, 0.2],\n",
       "        [5. , 3.4, 1.6, 0.4],\n",
       "        [5.2, 3.5, 1.5, 0.2],\n",
       "        [5.2, 3.4, 1.4, 0.2],\n",
       "        [4.7, 3.2, 1.6, 0.2],\n",
       "        [4.8, 3.1, 1.6, 0.2],\n",
       "        [5.4, 3.4, 1.5, 0.4],\n",
       "        [5.2, 4.1, 1.5, 0.1],\n",
       "        [5.5, 4.2, 1.4, 0.2],\n",
       "        [4.9, 3.1, 1.5, 0.2],\n",
       "        [5. , 3.2, 1.2, 0.2],\n",
       "        [5.5, 3.5, 1.3, 0.2],\n",
       "        [4.9, 3.6, 1.4, 0.1],\n",
       "        [4.4, 3. , 1.3, 0.2],\n",
       "        [5.1, 3.4, 1.5, 0.2],\n",
       "        [5. , 3.5, 1.3, 0.3],\n",
       "        [4.5, 2.3, 1.3, 0.3],\n",
       "        [4.4, 3.2, 1.3, 0.2],\n",
       "        [5. , 3.5, 1.6, 0.6],\n",
       "        [5.1, 3.8, 1.9, 0.4],\n",
       "        [4.8, 3. , 1.4, 0.3],\n",
       "        [5.1, 3.8, 1.6, 0.2],\n",
       "        [4.6, 3.2, 1.4, 0.2],\n",
       "        [5.3, 3.7, 1.5, 0.2],\n",
       "        [5. , 3.3, 1.4, 0.2],\n",
       "        [7. , 3.2, 4.7, 1.4],\n",
       "        [6.4, 3.2, 4.5, 1.5],\n",
       "        [6.9, 3.1, 4.9, 1.5],\n",
       "        [5.5, 2.3, 4. , 1.3],\n",
       "        [6.5, 2.8, 4.6, 1.5],\n",
       "        [5.7, 2.8, 4.5, 1.3],\n",
       "        [6.3, 3.3, 4.7, 1.6],\n",
       "        [4.9, 2.4, 3.3, 1. ],\n",
       "        [6.6, 2.9, 4.6, 1.3],\n",
       "        [5.2, 2.7, 3.9, 1.4],\n",
       "        [5. , 2. , 3.5, 1. ],\n",
       "        [5.9, 3. , 4.2, 1.5],\n",
       "        [6. , 2.2, 4. , 1. ],\n",
       "        [6.1, 2.9, 4.7, 1.4],\n",
       "        [5.6, 2.9, 3.6, 1.3],\n",
       "        [6.7, 3.1, 4.4, 1.4],\n",
       "        [5.6, 3. , 4.5, 1.5],\n",
       "        [5.8, 2.7, 4.1, 1. ],\n",
       "        [6.2, 2.2, 4.5, 1.5],\n",
       "        [5.6, 2.5, 3.9, 1.1],\n",
       "        [5.9, 3.2, 4.8, 1.8],\n",
       "        [6.1, 2.8, 4. , 1.3],\n",
       "        [6.3, 2.5, 4.9, 1.5],\n",
       "        [6.1, 2.8, 4.7, 1.2],\n",
       "        [6.4, 2.9, 4.3, 1.3],\n",
       "        [6.6, 3. , 4.4, 1.4],\n",
       "        [6.8, 2.8, 4.8, 1.4],\n",
       "        [6.7, 3. , 5. , 1.7],\n",
       "        [6. , 2.9, 4.5, 1.5],\n",
       "        [5.7, 2.6, 3.5, 1. ],\n",
       "        [5.5, 2.4, 3.8, 1.1],\n",
       "        [5.5, 2.4, 3.7, 1. ],\n",
       "        [5.8, 2.7, 3.9, 1.2],\n",
       "        [6. , 2.7, 5.1, 1.6],\n",
       "        [5.4, 3. , 4.5, 1.5],\n",
       "        [6. , 3.4, 4.5, 1.6],\n",
       "        [6.7, 3.1, 4.7, 1.5],\n",
       "        [6.3, 2.3, 4.4, 1.3],\n",
       "        [5.6, 3. , 4.1, 1.3],\n",
       "        [5.5, 2.5, 4. , 1.3],\n",
       "        [5.5, 2.6, 4.4, 1.2],\n",
       "        [6.1, 3. , 4.6, 1.4],\n",
       "        [5.8, 2.6, 4. , 1.2],\n",
       "        [5. , 2.3, 3.3, 1. ],\n",
       "        [5.6, 2.7, 4.2, 1.3],\n",
       "        [5.7, 3. , 4.2, 1.2],\n",
       "        [5.7, 2.9, 4.2, 1.3],\n",
       "        [6.2, 2.9, 4.3, 1.3],\n",
       "        [5.1, 2.5, 3. , 1.1],\n",
       "        [5.7, 2.8, 4.1, 1.3],\n",
       "        [6.3, 3.3, 6. , 2.5],\n",
       "        [5.8, 2.7, 5.1, 1.9],\n",
       "        [7.1, 3. , 5.9, 2.1],\n",
       "        [6.3, 2.9, 5.6, 1.8],\n",
       "        [6.5, 3. , 5.8, 2.2],\n",
       "        [7.6, 3. , 6.6, 2.1],\n",
       "        [4.9, 2.5, 4.5, 1.7],\n",
       "        [7.3, 2.9, 6.3, 1.8],\n",
       "        [6.7, 2.5, 5.8, 1.8],\n",
       "        [7.2, 3.6, 6.1, 2.5],\n",
       "        [6.5, 3.2, 5.1, 2. ],\n",
       "        [6.4, 2.7, 5.3, 1.9],\n",
       "        [6.8, 3. , 5.5, 2.1],\n",
       "        [5.7, 2.5, 5. , 2. ],\n",
       "        [5.8, 2.8, 5.1, 2.4],\n",
       "        [6.4, 3.2, 5.3, 2.3],\n",
       "        [6.5, 3. , 5.5, 1.8],\n",
       "        [7.7, 3.8, 6.7, 2.2],\n",
       "        [7.7, 2.6, 6.9, 2.3],\n",
       "        [6. , 2.2, 5. , 1.5],\n",
       "        [6.9, 3.2, 5.7, 2.3],\n",
       "        [5.6, 2.8, 4.9, 2. ],\n",
       "        [7.7, 2.8, 6.7, 2. ],\n",
       "        [6.3, 2.7, 4.9, 1.8],\n",
       "        [6.7, 3.3, 5.7, 2.1],\n",
       "        [7.2, 3.2, 6. , 1.8],\n",
       "        [6.2, 2.8, 4.8, 1.8],\n",
       "        [6.1, 3. , 4.9, 1.8],\n",
       "        [6.4, 2.8, 5.6, 2.1],\n",
       "        [7.2, 3. , 5.8, 1.6],\n",
       "        [7.4, 2.8, 6.1, 1.9],\n",
       "        [7.9, 3.8, 6.4, 2. ],\n",
       "        [6.4, 2.8, 5.6, 2.2],\n",
       "        [6.3, 2.8, 5.1, 1.5],\n",
       "        [6.1, 2.6, 5.6, 1.4],\n",
       "        [7.7, 3. , 6.1, 2.3],\n",
       "        [6.3, 3.4, 5.6, 2.4],\n",
       "        [6.4, 3.1, 5.5, 1.8],\n",
       "        [6. , 3. , 4.8, 1.8],\n",
       "        [6.9, 3.1, 5.4, 2.1],\n",
       "        [6.7, 3.1, 5.6, 2.4],\n",
       "        [6.9, 3.1, 5.1, 2.3],\n",
       "        [5.8, 2.7, 5.1, 1.9],\n",
       "        [6.8, 3.2, 5.9, 2.3],\n",
       "        [6.7, 3.3, 5.7, 2.5],\n",
       "        [6.7, 3. , 5.2, 2.3],\n",
       "        [6.3, 2.5, 5. , 1.9],\n",
       "        [6.5, 3. , 5.2, 2. ],\n",
       "        [6.2, 3.4, 5.4, 2.3],\n",
       "        [5.9, 3. , 5.1, 1.8]]),\n",
       " 'target': array([0, 0, 0, 0, 0, 0, 0, 0, 0, 0, 0, 0, 0, 0, 0, 0, 0, 0, 0, 0, 0, 0,\n",
       "        0, 0, 0, 0, 0, 0, 0, 0, 0, 0, 0, 0, 0, 0, 0, 0, 0, 0, 0, 0, 0, 0,\n",
       "        0, 0, 0, 0, 0, 0, 1, 1, 1, 1, 1, 1, 1, 1, 1, 1, 1, 1, 1, 1, 1, 1,\n",
       "        1, 1, 1, 1, 1, 1, 1, 1, 1, 1, 1, 1, 1, 1, 1, 1, 1, 1, 1, 1, 1, 1,\n",
       "        1, 1, 1, 1, 1, 1, 1, 1, 1, 1, 1, 1, 2, 2, 2, 2, 2, 2, 2, 2, 2, 2,\n",
       "        2, 2, 2, 2, 2, 2, 2, 2, 2, 2, 2, 2, 2, 2, 2, 2, 2, 2, 2, 2, 2, 2,\n",
       "        2, 2, 2, 2, 2, 2, 2, 2, 2, 2, 2, 2, 2, 2, 2, 2, 2, 2]),\n",
       " 'frame': None,\n",
       " 'target_names': array(['setosa', 'versicolor', 'virginica'], dtype='<U10'),\n",
       " 'DESCR': '.. _iris_dataset:\\n\\nIris plants dataset\\n--------------------\\n\\n**Data Set Characteristics:**\\n\\n:Number of Instances: 150 (50 in each of three classes)\\n:Number of Attributes: 4 numeric, predictive attributes and the class\\n:Attribute Information:\\n    - sepal length in cm\\n    - sepal width in cm\\n    - petal length in cm\\n    - petal width in cm\\n    - class:\\n            - Iris-Setosa\\n            - Iris-Versicolour\\n            - Iris-Virginica\\n\\n:Summary Statistics:\\n\\n============== ==== ==== ======= ===== ====================\\n                Min  Max   Mean    SD   Class Correlation\\n============== ==== ==== ======= ===== ====================\\nsepal length:   4.3  7.9   5.84   0.83    0.7826\\nsepal width:    2.0  4.4   3.05   0.43   -0.4194\\npetal length:   1.0  6.9   3.76   1.76    0.9490  (high!)\\npetal width:    0.1  2.5   1.20   0.76    0.9565  (high!)\\n============== ==== ==== ======= ===== ====================\\n\\n:Missing Attribute Values: None\\n:Class Distribution: 33.3% for each of 3 classes.\\n:Creator: R.A. Fisher\\n:Donor: Michael Marshall (MARSHALL%PLU@io.arc.nasa.gov)\\n:Date: July, 1988\\n\\nThe famous Iris database, first used by Sir R.A. Fisher. The dataset is taken\\nfrom Fisher\\'s paper. Note that it\\'s the same as in R, but not as in the UCI\\nMachine Learning Repository, which has two wrong data points.\\n\\nThis is perhaps the best known database to be found in the\\npattern recognition literature.  Fisher\\'s paper is a classic in the field and\\nis referenced frequently to this day.  (See Duda & Hart, for example.)  The\\ndata set contains 3 classes of 50 instances each, where each class refers to a\\ntype of iris plant.  One class is linearly separable from the other 2; the\\nlatter are NOT linearly separable from each other.\\n\\n.. dropdown:: References\\n\\n  - Fisher, R.A. \"The use of multiple measurements in taxonomic problems\"\\n    Annual Eugenics, 7, Part II, 179-188 (1936); also in \"Contributions to\\n    Mathematical Statistics\" (John Wiley, NY, 1950).\\n  - Duda, R.O., & Hart, P.E. (1973) Pattern Classification and Scene Analysis.\\n    (Q327.D83) John Wiley & Sons.  ISBN 0-471-22361-1.  See page 218.\\n  - Dasarathy, B.V. (1980) \"Nosing Around the Neighborhood: A New System\\n    Structure and Classification Rule for Recognition in Partially Exposed\\n    Environments\".  IEEE Transactions on Pattern Analysis and Machine\\n    Intelligence, Vol. PAMI-2, No. 1, 67-71.\\n  - Gates, G.W. (1972) \"The Reduced Nearest Neighbor Rule\".  IEEE Transactions\\n    on Information Theory, May 1972, 431-433.\\n  - See also: 1988 MLC Proceedings, 54-64.  Cheeseman et al\"s AUTOCLASS II\\n    conceptual clustering system finds 3 classes in the data.\\n  - Many, many more ...\\n',\n",
       " 'feature_names': ['sepal length (cm)',\n",
       "  'sepal width (cm)',\n",
       "  'petal length (cm)',\n",
       "  'petal width (cm)'],\n",
       " 'filename': 'iris.csv',\n",
       " 'data_module': 'sklearn.datasets.data'}"
      ]
     },
     "execution_count": 40,
     "metadata": {},
     "output_type": "execute_result"
    }
   ],
   "source": [
    "iris=datasets.load_iris()\n",
    "iris"
   ]
  },
  {
   "cell_type": "markdown",
   "metadata": {},
   "source": [
    "### Find optimal value of K"
   ]
  },
  {
   "cell_type": "code",
   "execution_count": 42,
   "metadata": {
    "scrolled": true
   },
   "outputs": [
    {
     "data": {
      "text/plain": [
       "array([[5.1, 3.5],\n",
       "       [4.9, 3. ],\n",
       "       [4.7, 3.2],\n",
       "       [4.6, 3.1],\n",
       "       [5. , 3.6],\n",
       "       [5.4, 3.9],\n",
       "       [4.6, 3.4],\n",
       "       [5. , 3.4],\n",
       "       [4.4, 2.9],\n",
       "       [4.9, 3.1],\n",
       "       [5.4, 3.7],\n",
       "       [4.8, 3.4],\n",
       "       [4.8, 3. ],\n",
       "       [4.3, 3. ],\n",
       "       [5.8, 4. ],\n",
       "       [5.7, 4.4],\n",
       "       [5.4, 3.9],\n",
       "       [5.1, 3.5],\n",
       "       [5.7, 3.8],\n",
       "       [5.1, 3.8],\n",
       "       [5.4, 3.4],\n",
       "       [5.1, 3.7],\n",
       "       [4.6, 3.6],\n",
       "       [5.1, 3.3],\n",
       "       [4.8, 3.4],\n",
       "       [5. , 3. ],\n",
       "       [5. , 3.4],\n",
       "       [5.2, 3.5],\n",
       "       [5.2, 3.4],\n",
       "       [4.7, 3.2],\n",
       "       [4.8, 3.1],\n",
       "       [5.4, 3.4],\n",
       "       [5.2, 4.1],\n",
       "       [5.5, 4.2],\n",
       "       [4.9, 3.1],\n",
       "       [5. , 3.2],\n",
       "       [5.5, 3.5],\n",
       "       [4.9, 3.6],\n",
       "       [4.4, 3. ],\n",
       "       [5.1, 3.4],\n",
       "       [5. , 3.5],\n",
       "       [4.5, 2.3],\n",
       "       [4.4, 3.2],\n",
       "       [5. , 3.5],\n",
       "       [5.1, 3.8],\n",
       "       [4.8, 3. ],\n",
       "       [5.1, 3.8],\n",
       "       [4.6, 3.2],\n",
       "       [5.3, 3.7],\n",
       "       [5. , 3.3],\n",
       "       [7. , 3.2],\n",
       "       [6.4, 3.2],\n",
       "       [6.9, 3.1],\n",
       "       [5.5, 2.3],\n",
       "       [6.5, 2.8],\n",
       "       [5.7, 2.8],\n",
       "       [6.3, 3.3],\n",
       "       [4.9, 2.4],\n",
       "       [6.6, 2.9],\n",
       "       [5.2, 2.7],\n",
       "       [5. , 2. ],\n",
       "       [5.9, 3. ],\n",
       "       [6. , 2.2],\n",
       "       [6.1, 2.9],\n",
       "       [5.6, 2.9],\n",
       "       [6.7, 3.1],\n",
       "       [5.6, 3. ],\n",
       "       [5.8, 2.7],\n",
       "       [6.2, 2.2],\n",
       "       [5.6, 2.5],\n",
       "       [5.9, 3.2],\n",
       "       [6.1, 2.8],\n",
       "       [6.3, 2.5],\n",
       "       [6.1, 2.8],\n",
       "       [6.4, 2.9],\n",
       "       [6.6, 3. ],\n",
       "       [6.8, 2.8],\n",
       "       [6.7, 3. ],\n",
       "       [6. , 2.9],\n",
       "       [5.7, 2.6],\n",
       "       [5.5, 2.4],\n",
       "       [5.5, 2.4],\n",
       "       [5.8, 2.7],\n",
       "       [6. , 2.7],\n",
       "       [5.4, 3. ],\n",
       "       [6. , 3.4],\n",
       "       [6.7, 3.1],\n",
       "       [6.3, 2.3],\n",
       "       [5.6, 3. ],\n",
       "       [5.5, 2.5],\n",
       "       [5.5, 2.6],\n",
       "       [6.1, 3. ],\n",
       "       [5.8, 2.6],\n",
       "       [5. , 2.3],\n",
       "       [5.6, 2.7],\n",
       "       [5.7, 3. ],\n",
       "       [5.7, 2.9],\n",
       "       [6.2, 2.9],\n",
       "       [5.1, 2.5],\n",
       "       [5.7, 2.8],\n",
       "       [6.3, 3.3],\n",
       "       [5.8, 2.7],\n",
       "       [7.1, 3. ],\n",
       "       [6.3, 2.9],\n",
       "       [6.5, 3. ],\n",
       "       [7.6, 3. ],\n",
       "       [4.9, 2.5],\n",
       "       [7.3, 2.9],\n",
       "       [6.7, 2.5],\n",
       "       [7.2, 3.6],\n",
       "       [6.5, 3.2],\n",
       "       [6.4, 2.7],\n",
       "       [6.8, 3. ],\n",
       "       [5.7, 2.5],\n",
       "       [5.8, 2.8],\n",
       "       [6.4, 3.2],\n",
       "       [6.5, 3. ],\n",
       "       [7.7, 3.8],\n",
       "       [7.7, 2.6],\n",
       "       [6. , 2.2],\n",
       "       [6.9, 3.2],\n",
       "       [5.6, 2.8],\n",
       "       [7.7, 2.8],\n",
       "       [6.3, 2.7],\n",
       "       [6.7, 3.3],\n",
       "       [7.2, 3.2],\n",
       "       [6.2, 2.8],\n",
       "       [6.1, 3. ],\n",
       "       [6.4, 2.8],\n",
       "       [7.2, 3. ],\n",
       "       [7.4, 2.8],\n",
       "       [7.9, 3.8],\n",
       "       [6.4, 2.8],\n",
       "       [6.3, 2.8],\n",
       "       [6.1, 2.6],\n",
       "       [7.7, 3. ],\n",
       "       [6.3, 3.4],\n",
       "       [6.4, 3.1],\n",
       "       [6. , 3. ],\n",
       "       [6.9, 3.1],\n",
       "       [6.7, 3.1],\n",
       "       [6.9, 3.1],\n",
       "       [5.8, 2.7],\n",
       "       [6.8, 3.2],\n",
       "       [6.7, 3.3],\n",
       "       [6.7, 3. ],\n",
       "       [6.3, 2.5],\n",
       "       [6.5, 3. ],\n",
       "       [6.2, 3.4],\n",
       "       [5.9, 3. ]])"
      ]
     },
     "execution_count": 42,
     "metadata": {},
     "output_type": "execute_result"
    }
   ],
   "source": [
    "# set range between 1 to 8\n",
    "X_iris=iris.data[:,0:2]\n",
    "X_iris"
   ]
  },
  {
   "cell_type": "code",
   "execution_count": 43,
   "metadata": {},
   "outputs": [
    {
     "data": {
      "text/plain": [
       "array([0, 0, 0, 0, 0, 0, 0, 0, 0, 0, 0, 0, 0, 0, 0, 0, 0, 0, 0, 0, 0, 0,\n",
       "       0, 0, 0, 0, 0, 0, 0, 0, 0, 0, 0, 0, 0, 0, 0, 0, 0, 0, 0, 0, 0, 0,\n",
       "       0, 0, 0, 0, 0, 0, 1, 1, 1, 1, 1, 1, 1, 1, 1, 1, 1, 1, 1, 1, 1, 1,\n",
       "       1, 1, 1, 1, 1, 1, 1, 1, 1, 1, 1, 1, 1, 1, 1, 1, 1, 1, 1, 1, 1, 1,\n",
       "       1, 1, 1, 1, 1, 1, 1, 1, 1, 1, 1, 1, 2, 2, 2, 2, 2, 2, 2, 2, 2, 2,\n",
       "       2, 2, 2, 2, 2, 2, 2, 2, 2, 2, 2, 2, 2, 2, 2, 2, 2, 2, 2, 2, 2, 2,\n",
       "       2, 2, 2, 2, 2, 2, 2, 2, 2, 2, 2, 2, 2, 2, 2, 2, 2, 2])"
      ]
     },
     "execution_count": 43,
     "metadata": {},
     "output_type": "execute_result"
    }
   ],
   "source": [
    "y_iris=iris.target\n",
    "y_iris"
   ]
  },
  {
   "cell_type": "code",
   "execution_count": 44,
   "metadata": {},
   "outputs": [
    {
     "data": {
      "text/plain": [
       "array([0, 1], dtype=int64)"
      ]
     },
     "execution_count": 44,
     "metadata": {},
     "output_type": "execute_result"
    }
   ],
   "source": [
    "X_iris_train,X_iris_test,y_iris_train,y_iris_test=train_test_split(X_iris,y_iris,test_size=0.3,shuffle=True,random_state=0)  #shuffle is to avod biaseness\n",
    "y_test"
   ]
  },
  {
   "cell_type": "code",
   "execution_count": 45,
   "metadata": {},
   "outputs": [
    {
     "name": "stdout",
     "output_type": "stream",
     "text": [
      "Minimum error:- 0.2 at K = 4\n"
     ]
    },
    {
     "data": {
      "image/png": "[encoded data removed]",
      "text/plain": [
       "<Figure size 1000x600 with 1 Axes>"
      ]
     },
     "metadata": {},
     "output_type": "display_data"
    }
   ],
   "source": [
    "# Optimum K value\n",
    "# set range between 1 to 8\n",
    "from sklearn import neighbors\n",
    "error_rate_iris = []\n",
    "for i in range(1,8):\n",
    "    clf_iris = neighbors.KNeighborsClassifier(n_neighbors=i)\n",
    "    clf_iris.fit(X_iris_train,y_iris_train)\n",
    "    y_pred_iris =  clf_iris.predict(X_iris_test)\n",
    "    error_rate_iris.append(np.mean(y_pred_iris != y_iris_test))\n",
    "\n",
    "plt.figure(figsize=(10,6))\n",
    "plt.plot(range(1,8),error_rate_iris,color='blue', linestyle='dashed', marker='o',markerfacecolor='red', markersize=10)\n",
    "plt.title('Error Rate vs. K Value')\n",
    "plt.xlabel('K')\n",
    "plt.ylabel('Error Rate')\n",
    "print(\"Minimum error:-\",min(error_rate_iris),\"at K =\",error_rate_iris.index(min(error_rate_iris))+1)\n",
    "plt.show()"
   ]
  },
  {
   "cell_type": "code",
   "execution_count": 46,
   "metadata": {},
   "outputs": [],
   "source": [
    "k=4"
   ]
  },
  {
   "cell_type": "markdown",
   "metadata": {},
   "source": [
    "### Building Model"
   ]
  },
  {
   "cell_type": "code",
   "execution_count": 48,
   "metadata": {},
   "outputs": [
    {
     "data": {
      "text/html": [
       "<style>#sk-container-id-1 {\n",
       "  /* Definition of color scheme common for light and dark mode */\n",
       "  --sklearn-color-text: black;\n",
       "  --sklearn-color-line: gray;\n",
       "  /* Definition of color scheme for unfitted estimators */\n",
       "  --sklearn-color-unfitted-level-0: #fff5e6;\n",
       "  --sklearn-color-unfitted-level-1: #f6e4d2;\n",
       "  --sklearn-color-unfitted-level-2: #ffe0b3;\n",
       "  --sklearn-color-unfitted-level-3: chocolate;\n",
       "  /* Definition of color scheme for fitted estimators */\n",
       "  --sklearn-color-fitted-level-0: #f0f8ff;\n",
       "  --sklearn-color-fitted-level-1: #d4ebff;\n",
       "  --sklearn-color-fitted-level-2: #b3dbfd;\n",
       "  --sklearn-color-fitted-level-3: cornflowerblue;\n",
       "\n",
       "  /* Specific color for light theme */\n",
       "  --sklearn-color-text-on-default-background: var(--sg-text-color, var(--theme-code-foreground, var(--jp-content-font-color1, black)));\n",
       "  --sklearn-color-background: var(--sg-background-color, var(--theme-background, var(--jp-layout-color0, white)));\n",
       "  --sklearn-color-border-box: var(--sg-text-color, var(--theme-code-foreground, var(--jp-content-font-color1, black)));\n",
       "  --sklearn-color-icon: #696969;\n",
       "\n",
       "  @media (prefers-color-scheme: dark) {\n",
       "    /* Redefinition of color scheme for dark theme */\n",
       "    --sklearn-color-text-on-default-background: var(--sg-text-color, var(--theme-code-foreground, var(--jp-content-font-color1, white)));\n",
       "    --sklearn-color-background: var(--sg-background-color, var(--theme-background, var(--jp-layout-color0, #111)));\n",
       "    --sklearn-color-border-box: var(--sg-text-color, var(--theme-code-foreground, var(--jp-content-font-color1, white)));\n",
       "    --sklearn-color-icon: #878787;\n",
       "  }\n",
       "}\n",
       "\n",
       "#sk-container-id-1 {\n",
       "  color: var(--sklearn-color-text);\n",
       "}\n",
       "\n",
       "#sk-container-id-1 pre {\n",
       "  padding: 0;\n",
       "}\n",
       "\n",
       "#sk-container-id-1 input.sk-hidden--visually {\n",
       "  border: 0;\n",
       "  clip: rect(1px 1px 1px 1px);\n",
       "  clip: rect(1px, 1px, 1px, 1px);\n",
       "  height: 1px;\n",
       "  margin: -1px;\n",
       "  overflow: hidden;\n",
       "  padding: 0;\n",
       "  position: absolute;\n",
       "  width: 1px;\n",
       "}\n",
       "\n",
       "#sk-container-id-1 div.sk-dashed-wrapped {\n",
       "  border: 1px dashed var(--sklearn-color-line);\n",
       "  margin: 0 0.4em 0.5em 0.4em;\n",
       "  box-sizing: border-box;\n",
       "  padding-bottom: 0.4em;\n",
       "  background-color: var(--sklearn-color-background);\n",
       "}\n",
       "\n",
       "#sk-container-id-1 div.sk-container {\n",
       "  /* jupyter's `normalize.less` sets `[hidden] { display: none; }`\n",
       "     but bootstrap.min.css set `[hidden] { display: none !important; }`\n",
       "     so we also need the `!important` here to be able to override the\n",
       "     default hidden behavior on the sphinx rendered scikit-learn.org.\n",
       "     See: https://github.com/scikit-learn/scikit-learn/issues/21755 */\n",
       "  display: inline-block !important;\n",
       "  position: relative;\n",
       "}\n",
       "\n",
       "#sk-container-id-1 div.sk-text-repr-fallback {\n",
       "  display: none;\n",
       "}\n",
       "\n",
       "div.sk-parallel-item,\n",
       "div.sk-serial,\n",
       "div.sk-item {\n",
       "  /* draw centered vertical line to link estimators */\n",
       "  background-image: linear-gradient(var(--sklearn-color-text-on-default-background), var(--sklearn-color-text-on-default-background));\n",
       "  background-size: 2px 100%;\n",
       "  background-repeat: no-repeat;\n",
       "  background-position: center center;\n",
       "}\n",
       "\n",
       "/* Parallel-specific style estimator block */\n",
       "\n",
       "#sk-container-id-1 div.sk-parallel-item::after {\n",
       "  content: \"\";\n",
       "  width: 100%;\n",
       "  border-bottom: 2px solid var(--sklearn-color-text-on-default-background);\n",
       "  flex-grow: 1;\n",
       "}\n",
       "\n",
       "#sk-container-id-1 div.sk-parallel {\n",
       "  display: flex;\n",
       "  align-items: stretch;\n",
       "  justify-content: center;\n",
       "  background-color: var(--sklearn-color-background);\n",
       "  position: relative;\n",
       "}\n",
       "\n",
       "#sk-container-id-1 div.sk-parallel-item {\n",
       "  display: flex;\n",
       "  flex-direction: column;\n",
       "}\n",
       "\n",
       "#sk-container-id-1 div.sk-parallel-item:first-child::after {\n",
       "  align-self: flex-end;\n",
       "  width: 50%;\n",
       "}\n",
       "\n",
       "#sk-container-id-1 div.sk-parallel-item:last-child::after {\n",
       "  align-self: flex-start;\n",
       "  width: 50%;\n",
       "}\n",
       "\n",
       "#sk-container-id-1 div.sk-parallel-item:only-child::after {\n",
       "  width: 0;\n",
       "}\n",
       "\n",
       "/* Serial-specific style estimator block */\n",
       "\n",
       "#sk-container-id-1 div.sk-serial {\n",
       "  display: flex;\n",
       "  flex-direction: column;\n",
       "  align-items: center;\n",
       "  background-color: var(--sklearn-color-background);\n",
       "  padding-right: 1em;\n",
       "  padding-left: 1em;\n",
       "}\n",
       "\n",
       "\n",
       "/* Toggleable style: style used for estimator/Pipeline/ColumnTransformer box that is\n",
       "clickable and can be expanded/collapsed.\n",
       "- Pipeline and ColumnTransformer use this feature and define the default style\n",
       "- Estimators will overwrite some part of the style using the `sk-estimator` class\n",
       "*/\n",
       "\n",
       "/* Pipeline and ColumnTransformer style (default) */\n",
       "\n",
       "#sk-container-id-1 div.sk-toggleable {\n",
       "  /* Default theme specific background. It is overwritten whether we have a\n",
       "  specific estimator or a Pipeline/ColumnTransformer */\n",
       "  background-color: var(--sklearn-color-background);\n",
       "}\n",
       "\n",
       "/* Toggleable label */\n",
       "#sk-container-id-1 label.sk-toggleable__label {\n",
       "  cursor: pointer;\n",
       "  display: block;\n",
       "  width: 100%;\n",
       "  margin-bottom: 0;\n",
       "  padding: 0.5em;\n",
       "  box-sizing: border-box;\n",
       "  text-align: center;\n",
       "}\n",
       "\n",
       "#sk-container-id-1 label.sk-toggleable__label-arrow:before {\n",
       "  /* Arrow on the left of the label */\n",
       "  content: \"▸\";\n",
       "  float: left;\n",
       "  margin-right: 0.25em;\n",
       "  color: var(--sklearn-color-icon);\n",
       "}\n",
       "\n",
       "#sk-container-id-1 label.sk-toggleable__label-arrow:hover:before {\n",
       "  color: var(--sklearn-color-text);\n",
       "}\n",
       "\n",
       "/* Toggleable content - dropdown */\n",
       "\n",
       "#sk-container-id-1 div.sk-toggleable__content {\n",
       "  max-height: 0;\n",
       "  max-width: 0;\n",
       "  overflow: hidden;\n",
       "  text-align: left;\n",
       "  /* unfitted */\n",
       "  background-color: var(--sklearn-color-unfitted-level-0);\n",
       "}\n",
       "\n",
       "#sk-container-id-1 div.sk-toggleable__content.fitted {\n",
       "  /* fitted */\n",
       "  background-color: var(--sklearn-color-fitted-level-0);\n",
       "}\n",
       "\n",
       "#sk-container-id-1 div.sk-toggleable__content pre {\n",
       "  margin: 0.2em;\n",
       "  border-radius: 0.25em;\n",
       "  color: var(--sklearn-color-text);\n",
       "  /* unfitted */\n",
       "  background-color: var(--sklearn-color-unfitted-level-0);\n",
       "}\n",
       "\n",
       "#sk-container-id-1 div.sk-toggleable__content.fitted pre {\n",
       "  /* unfitted */\n",
       "  background-color: var(--sklearn-color-fitted-level-0);\n",
       "}\n",
       "\n",
       "#sk-container-id-1 input.sk-toggleable__control:checked~div.sk-toggleable__content {\n",
       "  /* Expand drop-down */\n",
       "  max-height: 200px;\n",
       "  max-width: 100%;\n",
       "  overflow: auto;\n",
       "}\n",
       "\n",
       "#sk-container-id-1 input.sk-toggleable__control:checked~label.sk-toggleable__label-arrow:before {\n",
       "  content: \"▾\";\n",
       "}\n",
       "\n",
       "/* Pipeline/ColumnTransformer-specific style */\n",
       "\n",
       "#sk-container-id-1 div.sk-label input.sk-toggleable__control:checked~label.sk-toggleable__label {\n",
       "  color: var(--sklearn-color-text);\n",
       "  background-color: var(--sklearn-color-unfitted-level-2);\n",
       "}\n",
       "\n",
       "#sk-container-id-1 div.sk-label.fitted input.sk-toggleable__control:checked~label.sk-toggleable__label {\n",
       "  background-color: var(--sklearn-color-fitted-level-2);\n",
       "}\n",
       "\n",
       "/* Estimator-specific style */\n",
       "\n",
       "/* Colorize estimator box */\n",
       "#sk-container-id-1 div.sk-estimator input.sk-toggleable__control:checked~label.sk-toggleable__label {\n",
       "  /* unfitted */\n",
       "  background-color: var(--sklearn-color-unfitted-level-2);\n",
       "}\n",
       "\n",
       "#sk-container-id-1 div.sk-estimator.fitted input.sk-toggleable__control:checked~label.sk-toggleable__label {\n",
       "  /* fitted */\n",
       "  background-color: var(--sklearn-color-fitted-level-2);\n",
       "}\n",
       "\n",
       "#sk-container-id-1 div.sk-label label.sk-toggleable__label,\n",
       "#sk-container-id-1 div.sk-label label {\n",
       "  /* The background is the default theme color */\n",
       "  color: var(--sklearn-color-text-on-default-background);\n",
       "}\n",
       "\n",
       "/* On hover, darken the color of the background */\n",
       "#sk-container-id-1 div.sk-label:hover label.sk-toggleable__label {\n",
       "  color: var(--sklearn-color-text);\n",
       "  background-color: var(--sklearn-color-unfitted-level-2);\n",
       "}\n",
       "\n",
       "/* Label box, darken color on hover, fitted */\n",
       "#sk-container-id-1 div.sk-label.fitted:hover label.sk-toggleable__label.fitted {\n",
       "  color: var(--sklearn-color-text);\n",
       "  background-color: var(--sklearn-color-fitted-level-2);\n",
       "}\n",
       "\n",
       "/* Estimator label */\n",
       "\n",
       "#sk-container-id-1 div.sk-label label {\n",
       "  font-family: monospace;\n",
       "  font-weight: bold;\n",
       "  display: inline-block;\n",
       "  line-height: 1.2em;\n",
       "}\n",
       "\n",
       "#sk-container-id-1 div.sk-label-container {\n",
       "  text-align: center;\n",
       "}\n",
       "\n",
       "/* Estimator-specific */\n",
       "#sk-container-id-1 div.sk-estimator {\n",
       "  font-family: monospace;\n",
       "  border: 1px dotted var(--sklearn-color-border-box);\n",
       "  border-radius: 0.25em;\n",
       "  box-sizing: border-box;\n",
       "  margin-bottom: 0.5em;\n",
       "  /* unfitted */\n",
       "  background-color: var(--sklearn-color-unfitted-level-0);\n",
       "}\n",
       "\n",
       "#sk-container-id-1 div.sk-estimator.fitted {\n",
       "  /* fitted */\n",
       "  background-color: var(--sklearn-color-fitted-level-0);\n",
       "}\n",
       "\n",
       "/* on hover */\n",
       "#sk-container-id-1 div.sk-estimator:hover {\n",
       "  /* unfitted */\n",
       "  background-color: var(--sklearn-color-unfitted-level-2);\n",
       "}\n",
       "\n",
       "#sk-container-id-1 div.sk-estimator.fitted:hover {\n",
       "  /* fitted */\n",
       "  background-color: var(--sklearn-color-fitted-level-2);\n",
       "}\n",
       "\n",
       "/* Specification for estimator info (e.g. \"i\" and \"?\") */\n",
       "\n",
       "/* Common style for \"i\" and \"?\" */\n",
       "\n",
       ".sk-estimator-doc-link,\n",
       "a:link.sk-estimator-doc-link,\n",
       "a:visited.sk-estimator-doc-link {\n",
       "  float: right;\n",
       "  font-size: smaller;\n",
       "  line-height: 1em;\n",
       "  font-family: monospace;\n",
       "  background-color: var(--sklearn-color-background);\n",
       "  border-radius: 1em;\n",
       "  height: 1em;\n",
       "  width: 1em;\n",
       "  text-decoration: none !important;\n",
       "  margin-left: 1ex;\n",
       "  /* unfitted */\n",
       "  border: var(--sklearn-color-unfitted-level-1) 1pt solid;\n",
       "  color: var(--sklearn-color-unfitted-level-1);\n",
       "}\n",
       "\n",
       ".sk-estimator-doc-link.fitted,\n",
       "a:link.sk-estimator-doc-link.fitted,\n",
       "a:visited.sk-estimator-doc-link.fitted {\n",
       "  /* fitted */\n",
       "  border: var(--sklearn-color-fitted-level-1) 1pt solid;\n",
       "  color: var(--sklearn-color-fitted-level-1);\n",
       "}\n",
       "\n",
       "/* On hover */\n",
       "div.sk-estimator:hover .sk-estimator-doc-link:hover,\n",
       ".sk-estimator-doc-link:hover,\n",
       "div.sk-label-container:hover .sk-estimator-doc-link:hover,\n",
       ".sk-estimator-doc-link:hover {\n",
       "  /* unfitted */\n",
       "  background-color: var(--sklearn-color-unfitted-level-3);\n",
       "  color: var(--sklearn-color-background);\n",
       "  text-decoration: none;\n",
       "}\n",
       "\n",
       "div.sk-estimator.fitted:hover .sk-estimator-doc-link.fitted:hover,\n",
       ".sk-estimator-doc-link.fitted:hover,\n",
       "div.sk-label-container:hover .sk-estimator-doc-link.fitted:hover,\n",
       ".sk-estimator-doc-link.fitted:hover {\n",
       "  /* fitted */\n",
       "  background-color: var(--sklearn-color-fitted-level-3);\n",
       "  color: var(--sklearn-color-background);\n",
       "  text-decoration: none;\n",
       "}\n",
       "\n",
       "/* Span, style for the box shown on hovering the info icon */\n",
       ".sk-estimator-doc-link span {\n",
       "  display: none;\n",
       "  z-index: 9999;\n",
       "  position: relative;\n",
       "  font-weight: normal;\n",
       "  right: .2ex;\n",
       "  padding: .5ex;\n",
       "  margin: .5ex;\n",
       "  width: min-content;\n",
       "  min-width: 20ex;\n",
       "  max-width: 50ex;\n",
       "  color: var(--sklearn-color-text);\n",
       "  box-shadow: 2pt 2pt 4pt #999;\n",
       "  /* unfitted */\n",
       "  background: var(--sklearn-color-unfitted-level-0);\n",
       "  border: .5pt solid var(--sklearn-color-unfitted-level-3);\n",
       "}\n",
       "\n",
       ".sk-estimator-doc-link.fitted span {\n",
       "  /* fitted */\n",
       "  background: var(--sklearn-color-fitted-level-0);\n",
       "  border: var(--sklearn-color-fitted-level-3);\n",
       "}\n",
       "\n",
       ".sk-estimator-doc-link:hover span {\n",
       "  display: block;\n",
       "}\n",
       "\n",
       "/* \"?\"-specific style due to the `<a>` HTML tag */\n",
       "\n",
       "#sk-container-id-1 a.estimator_doc_link {\n",
       "  float: right;\n",
       "  font-size: 1rem;\n",
       "  line-height: 1em;\n",
       "  font-family: monospace;\n",
       "  background-color: var(--sklearn-color-background);\n",
       "  border-radius: 1rem;\n",
       "  height: 1rem;\n",
       "  width: 1rem;\n",
       "  text-decoration: none;\n",
       "  /* unfitted */\n",
       "  color: var(--sklearn-color-unfitted-level-1);\n",
       "  border: var(--sklearn-color-unfitted-level-1) 1pt solid;\n",
       "}\n",
       "\n",
       "#sk-container-id-1 a.estimator_doc_link.fitted {\n",
       "  /* fitted */\n",
       "  border: var(--sklearn-color-fitted-level-1) 1pt solid;\n",
       "  color: var(--sklearn-color-fitted-level-1);\n",
       "}\n",
       "\n",
       "/* On hover */\n",
       "#sk-container-id-1 a.estimator_doc_link:hover {\n",
       "  /* unfitted */\n",
       "  background-color: var(--sklearn-color-unfitted-level-3);\n",
       "  color: var(--sklearn-color-background);\n",
       "  text-decoration: none;\n",
       "}\n",
       "\n",
       "#sk-container-id-1 a.estimator_doc_link.fitted:hover {\n",
       "  /* fitted */\n",
       "  background-color: var(--sklearn-color-fitted-level-3);\n",
       "}\n",
       "</style><div id=\"sk-container-id-1\" class=\"sk-top-container\"><div class=\"sk-text-repr-fallback\"><pre>KNeighborsClassifier(n_neighbors=4)</pre><b>In a Jupyter environment, please rerun this cell to show the HTML representation or trust the notebook. <br />On GitHub, the HTML representation is unable to render, please try loading this page with nbviewer.org.</b></div><div class=\"sk-container\" hidden><div class=\"sk-item\"><div class=\"sk-estimator fitted sk-toggleable\"><input class=\"sk-toggleable__control sk-hidden--visually\" id=\"sk-estimator-id-1\" type=\"checkbox\" checked><label for=\"sk-estimator-id-1\" class=\"sk-toggleable__label fitted sk-toggleable__label-arrow fitted\">&nbsp;&nbsp;KNeighborsClassifier<a class=\"sk-estimator-doc-link fitted\" rel=\"noreferrer\" target=\"_blank\" href=\"https://scikit-learn.org/1.5/modules/generated/sklearn.neighbors.KNeighborsClassifier.html\">?<span>Documentation for KNeighborsClassifier</span></a><span class=\"sk-estimator-doc-link fitted\">i<span>Fitted</span></span></label><div class=\"sk-toggleable__content fitted\"><pre>KNeighborsClassifier(n_neighbors=4)</pre></div> </div></div></div></div>"
      ],
      "text/plain": [
       "KNeighborsClassifier(n_neighbors=4)"
      ]
     },
     "execution_count": 48,
     "metadata": {},
     "output_type": "execute_result"
    }
   ],
   "source": [
    "# learning the classifier\n",
    "clf_iris = neighbors.KNeighborsClassifier(n_neighbors=k)\n",
    "clf_iris.fit(X_iris_train,y_iris_train)"
   ]
  },
  {
   "cell_type": "code",
   "execution_count": 49,
   "metadata": {},
   "outputs": [
    {
     "name": "stdout",
     "output_type": "stream",
     "text": [
      "[0 1 2]\n",
      "4\n"
     ]
    }
   ],
   "source": [
    "# Model Properties\n",
    "print(clf_iris.classes_)\n",
    "print(clf_iris.n_neighbors)"
   ]
  },
  {
   "cell_type": "markdown",
   "metadata": {},
   "source": [
    "### Evaluating Model Performance"
   ]
  },
  {
   "cell_type": "code",
   "execution_count": 51,
   "metadata": {},
   "outputs": [
    {
     "data": {
      "text/plain": [
       "array([1, 1, 0, 2, 0, 2, 0, 1, 1, 2, 2, 2, 2, 1, 2, 0, 2, 1, 0, 0, 1, 1,\n",
       "       0, 0, 2, 0, 0, 1, 1, 0, 2, 1, 0, 2, 2, 1, 0, 1, 1, 1, 1, 0, 1, 0,\n",
       "       0])"
      ]
     },
     "execution_count": 51,
     "metadata": {},
     "output_type": "execute_result"
    }
   ],
   "source": [
    "# Using the trained model to predict the outcome of the X_Test dataset\n",
    "y_pred_iris=clf_iris.predict(X_iris_test)\n",
    "y_pred_iris"
   ]
  },
  {
   "cell_type": "code",
   "execution_count": 52,
   "metadata": {},
   "outputs": [
    {
     "name": "stdout",
     "output_type": "stream",
     "text": [
      "accuracy_score 0.8\n",
      "recall score: 0.8\n",
      "precision_score: 0.8\n",
      "precision_score: 0.8\n"
     ]
    }
   ],
   "source": [
    "# average : string, [None, ‘binary’ (default), ‘micro’, ‘macro’, ‘weighted’]\n",
    "# This parameter is required for multiclass/multilabel targets. If None, the scores for each class are returned.\n",
    "\n",
    "from sklearn.metrics import recall_score\n",
    "from sklearn.metrics import f1_score\n",
    "from sklearn.metrics import accuracy_score\n",
    "from sklearn.metrics import precision_score\n",
    "\n",
    "\n",
    "print(\"accuracy_score\",accuracy_score(y_pred_iris,y_iris_test))\n",
    "print(\"recall score:\",recall_score(y_pred_iris,y_iris_test,average='micro'))\n",
    "print(\"precision_score:\",f1_score(y_pred_iris,y_iris_test,average='micro'))\n",
    "print(\"precision_score:\",precision_score(y_pred_iris,y_iris_test,average='micro'))\n"
   ]
  },
  {
   "cell_type": "code",
   "execution_count": null,
   "metadata": {},
   "outputs": [],
   "source": []
  },
  {
   "cell_type": "code",
   "execution_count": 53,
   "metadata": {},
   "outputs": [
    {
     "data": {
      "text/plain": [
       "0.9019442793952598"
      ]
     },
     "execution_count": 53,
     "metadata": {},
     "output_type": "execute_result"
    }
   ],
   "source": [
    "# ROC Score\n",
    "from sklearn.metrics import roc_auc_score\n",
    "y_pred_iris_prob =  clf_iris.predict_proba(X_iris_test)\n",
    "roc_iris=roc_auc_score(y_iris_test,y_pred_iris_prob,multi_class='ovr',average='macro')\n",
    "roc_iris"
   ]
  },
  {
   "cell_type": "markdown",
   "metadata": {},
   "source": [
    "### Interpretation:\n",
    "\n",
    "* accuracy: \n",
    "* recall:  \n",
    "* f1-score: \n",
    "* precision:  \n",
    "* roc:  \n",
    "\n",
    "Accuracy (): \n",
    "\n",
    "\n",
    "Recall (): \n",
    "\n",
    "\n",
    "Precision (): \n",
    "\n",
    "\n",
    "F1-Score (): \n",
    "\n",
    "\n",
    "ROC (): \n",
    "\n",
    "\n",
    "#### Considering All Scores Together:\n",
    "\n"
   ]
  },
  {
   "cell_type": "code",
   "execution_count": null,
   "metadata": {},
   "outputs": [],
   "source": [
    "all scores(accuracy,recall,precision,f1_score and roc_auc) are relatively high(around 0.80) suggest that the model performnace well in both.identifying the relevant cases(recall) and making accurately postive predictions(precision).this indicates the balannced classification where the model is nither over predicting nor underpredicting the positive class"
   ]
  },
  {
   "cell_type": "code",
   "execution_count": null,
   "metadata": {},
   "outputs": [],
   "source": [
    "a score of 0.80 on a classification model translates the 80% accuracy which indicates good performance and suggest a promising classification model"
   ]
  }
 ],
 "metadata": {
  "colab": {
   "collapsed_sections": [],
   "name": "DS2_C6_S1_KNN_Concept_Solution.ipynb",
   "provenance": []
  },
  "kernelspec": {
   "display_name": "Python 3 (ipykernel)",
   "language": "python",
   "name": "python3"
  },
  "language_info": {
   "codemirror_mode": {
    "name": "ipython",
    "version": 3
   },
   "file_extension": ".py",
   "mimetype": "text/x-python",
   "name": "python",
   "nbconvert_exporter": "python",
   "pygments_lexer": "ipython3",
   "version": "3.12.7"
  },
  "widgets": {
   "application/vnd.jupyter.widget-state+json": {
    "0648315503964216b925250e30126b54": {
     "model_module": "@jupyter-widgets/output",
     "model_module_version": "1.0.0",
     "model_name": "OutputModel",
     "state": {
      "_dom_classes": [],
      "_model_module": "@jupyter-widgets/output",
      "_model_module_version": "1.0.0",
      "_model_name": "OutputModel",
      "_view_count": null,
      "_view_module": "@jupyter-widgets/output",
      "_view_module_version": "1.0.0",
      "_view_name": "OutputView",
      "layout": "IPY_MODEL_e27c2ac248de43d79296f2c973c78d42",
      "msg_id": "",
      "outputs": [
       {
        "data": {
         "image/png": "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\n",
         "text/plain": "<Figure size 576x432 with 1 Axes>"
        },
        "metadata": {
         "needs_background": "light"
        },
        "output_type": "display_data"
       }
      ]
     }
    },
    "30d2958d60a24442b38ed6e63c5994af": {
     "model_module": "@jupyter-widgets/base",
     "model_module_version": "1.2.0",
     "model_name": "LayoutModel",
     "state": {
      "_model_module": "@jupyter-widgets/base",
      "_model_module_version": "1.2.0",
      "_model_name": "LayoutModel",
      "_view_count": null,
      "_view_module": "@jupyter-widgets/base",
      "_view_module_version": "1.2.0",
      "_view_name": "LayoutView",
      "align_content": null,
      "align_items": null,
      "align_self": null,
      "border": null,
      "bottom": null,
      "display": null,
      "flex": null,
      "flex_flow": null,
      "grid_area": null,
      "grid_auto_columns": null,
      "grid_auto_flow": null,
      "grid_auto_rows": null,
      "grid_column": null,
      "grid_gap": null,
      "grid_row": null,
      "grid_template_areas": null,
      "grid_template_columns": null,
      "grid_template_rows": null,
      "height": null,
      "justify_content": null,
      "justify_items": null,
      "left": null,
      "margin": null,
      "max_height": null,
      "max_width": null,
      "min_height": null,
      "min_width": null,
      "object_fit": null,
      "object_position": null,
      "order": null,
      "overflow": null,
      "overflow_x": null,
      "overflow_y": null,
      "padding": null,
      "right": null,
      "top": null,
      "visibility": null,
      "width": null
     }
    },
    "45b0d4a74458428699e698d0f27ab31a": {
     "model_module": "@jupyter-widgets/base",
     "model_module_version": "1.2.0",
     "model_name": "LayoutModel",
     "state": {
      "_model_module": "@jupyter-widgets/base",
      "_model_module_version": "1.2.0",
      "_model_name": "LayoutModel",
      "_view_count": null,
      "_view_module": "@jupyter-widgets/base",
      "_view_module_version": "1.2.0",
      "_view_name": "LayoutView",
      "align_content": null,
      "align_items": null,
      "align_self": null,
      "border": null,
      "bottom": null,
      "display": null,
      "flex": null,
      "flex_flow": null,
      "grid_area": null,
      "grid_auto_columns": null,
      "grid_auto_flow": null,
      "grid_auto_rows": null,
      "grid_column": null,
      "grid_gap": null,
      "grid_row": null,
      "grid_template_areas": null,
      "grid_template_columns": null,
      "grid_template_rows": null,
      "height": null,
      "justify_content": null,
      "justify_items": null,
      "left": null,
      "margin": null,
      "max_height": null,
      "max_width": null,
      "min_height": null,
      "min_width": null,
      "object_fit": null,
      "object_position": null,
      "order": null,
      "overflow": null,
      "overflow_x": null,
      "overflow_y": null,
      "padding": null,
      "right": null,
      "top": null,
      "visibility": null,
      "width": null
     }
    },
    "7fe3a68b166b441fa64cdb5e452d0358": {
     "model_module": "@jupyter-widgets/controls",
     "model_module_version": "1.5.0",
     "model_name": "IntSliderModel",
     "state": {
      "_dom_classes": [],
      "_model_module": "@jupyter-widgets/controls",
      "_model_module_version": "1.5.0",
      "_model_name": "IntSliderModel",
      "_view_count": null,
      "_view_module": "@jupyter-widgets/controls",
      "_view_module_version": "1.5.0",
      "_view_name": "IntSliderView",
      "continuous_update": true,
      "description": "k",
      "description_tooltip": null,
      "disabled": false,
      "layout": "IPY_MODEL_30d2958d60a24442b38ed6e63c5994af",
      "max": 8,
      "min": 1,
      "orientation": "horizontal",
      "readout": true,
      "readout_format": "d",
      "step": 1,
      "style": "IPY_MODEL_bd4ee6c6622646f592394308b2180895",
      "value": 4
     }
    },
    "bd4ee6c6622646f592394308b2180895": {
     "model_module": "@jupyter-widgets/controls",
     "model_module_version": "1.5.0",
     "model_name": "SliderStyleModel",
     "state": {
      "_model_module": "@jupyter-widgets/controls",
      "_model_module_version": "1.5.0",
      "_model_name": "SliderStyleModel",
      "_view_count": null,
      "_view_module": "@jupyter-widgets/base",
      "_view_module_version": "1.2.0",
      "_view_name": "StyleView",
      "description_width": "",
      "handle_color": null
     }
    },
    "e27c2ac248de43d79296f2c973c78d42": {
     "model_module": "@jupyter-widgets/base",
     "model_module_version": "1.2.0",
     "model_name": "LayoutModel",
     "state": {
      "_model_module": "@jupyter-widgets/base",
      "_model_module_version": "1.2.0",
      "_model_name": "LayoutModel",
      "_view_count": null,
      "_view_module": "@jupyter-widgets/base",
      "_view_module_version": "1.2.0",
      "_view_name": "LayoutView",
      "align_content": null,
      "align_items": null,
      "align_self": null,
      "border": null,
      "bottom": null,
      "display": null,
      "flex": null,
      "flex_flow": null,
      "grid_area": null,
      "grid_auto_columns": null,
      "grid_auto_flow": null,
      "grid_auto_rows": null,
      "grid_column": null,
      "grid_gap": null,
      "grid_row": null,
      "grid_template_areas": null,
      "grid_template_columns": null,
      "grid_template_rows": null,
      "height": null,
      "justify_content": null,
      "justify_items": null,
      "left": null,
      "margin": null,
      "max_height": null,
      "max_width": null,
      "min_height": null,
      "min_width": null,
      "object_fit": null,
      "object_position": null,
      "order": null,
      "overflow": null,
      "overflow_x": null,
      "overflow_y": null,
      "padding": null,
      "right": null,
      "top": null,
      "visibility": null,
      "width": null
     }
    },
    "e9ea53e9b73941c6adab92d8af2b04fa": {
     "model_module": "@jupyter-widgets/controls",
     "model_module_version": "1.5.0",
     "model_name": "VBoxModel",
     "state": {
      "_dom_classes": [
       "widget-interact"
      ],
      "_model_module": "@jupyter-widgets/controls",
      "_model_module_version": "1.5.0",
      "_model_name": "VBoxModel",
      "_view_count": null,
      "_view_module": "@jupyter-widgets/controls",
      "_view_module_version": "1.5.0",
      "_view_name": "VBoxView",
      "box_style": "",
      "children": [
       "IPY_MODEL_7fe3a68b166b441fa64cdb5e452d0358",
       "IPY_MODEL_0648315503964216b925250e30126b54"
      ],
      "layout": "IPY_MODEL_45b0d4a74458428699e698d0f27ab31a"
     }
    }
   }
  }
 },
 "nbformat": 4,
 "nbformat_minor": 4
}
