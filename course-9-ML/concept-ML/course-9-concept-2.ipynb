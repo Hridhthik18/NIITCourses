{
 "cells": [
  {
   "cell_type": "markdown",
   "metadata": {},
   "source": [
    "# Linear Regression"
   ]
  },
  {
   "cell_type": "markdown",
   "metadata": {},
   "source": [
    "# Concept Session"
   ]
  },
  {
   "cell_type": "markdown",
   "metadata": {
    "id": "sswfPdYhbyah"
   },
   "source": [
    "## Demo 2.1 : Simple Linear Regression Analysis"
   ]
  },
  {
   "cell_type": "markdown",
   "metadata": {},
   "source": [
    "### Importing the required Python packages"
   ]
  },
  {
   "cell_type": "code",
   "execution_count": 1,
   "metadata": {
    "id": "nkkHawMxUKvU"
   },
   "outputs": [],
   "source": [
    "import numpy as np\n",
    "import pandas as pd\n",
    "import matplotlib.pyplot as plt\n",
    "\n",
    "from sklearn.preprocessing import StandardScaler\n",
    "from sklearn.linear_model import LinearRegression\n",
    "from sklearn.model_selection import train_test_split\n",
    "from sklearn.metrics import mean_squared_error\n",
    "from sklearn.metrics import mean_absolute_error\n",
    "import seaborn as sns\n",
    "\n",
    "import warnings\n",
    "warnings.filterwarnings(\"ignore\")"
   ]
  },
  {
   "cell_type": "markdown",
   "metadata": {},
   "source": [
    "### Reading the data"
   ]
  },
  {
   "cell_type": "code",
   "execution_count": 2,
   "metadata": {
    "colab": {
     "base_uri": "https://localhost:8080/",
     "height": 850
    },
    "id": "8yG57U1hUQni",
    "outputId": "b8b84fdf-aa10-4292-fc01-700c379da3f7"
   },
   "outputs": [
    {
     "data": {
      "text/html": [
       "<div>\n",
       "<style scoped>\n",
       "    .dataframe tbody tr th:only-of-type {\n",
       "        vertical-align: middle;\n",
       "    }\n",
       "\n",
       "    .dataframe tbody tr th {\n",
       "        vertical-align: top;\n",
       "    }\n",
       "\n",
       "    .dataframe thead th {\n",
       "        text-align: right;\n",
       "    }\n",
       "</style>\n",
       "<table border=\"1\" class=\"dataframe\">\n",
       "  <thead>\n",
       "    <tr style=\"text-align: right;\">\n",
       "      <th></th>\n",
       "      <th>DATE</th>\n",
       "      <th>MONTH</th>\n",
       "      <th>cloud_cover</th>\n",
       "      <th>humidity</th>\n",
       "      <th>pressure</th>\n",
       "      <th>global_radiation</th>\n",
       "      <th>precipitation</th>\n",
       "      <th>sunshine</th>\n",
       "      <th>temperature</th>\n",
       "    </tr>\n",
       "  </thead>\n",
       "  <tbody>\n",
       "    <tr>\n",
       "      <th>0</th>\n",
       "      <td>20000101</td>\n",
       "      <td>1</td>\n",
       "      <td>8</td>\n",
       "      <td>0.89</td>\n",
       "      <td>1.0286</td>\n",
       "      <td>0.20</td>\n",
       "      <td>0.03</td>\n",
       "      <td>0.0</td>\n",
       "      <td>2.9</td>\n",
       "    </tr>\n",
       "    <tr>\n",
       "      <th>1</th>\n",
       "      <td>20000102</td>\n",
       "      <td>1</td>\n",
       "      <td>8</td>\n",
       "      <td>0.87</td>\n",
       "      <td>1.0318</td>\n",
       "      <td>0.25</td>\n",
       "      <td>0.00</td>\n",
       "      <td>0.0</td>\n",
       "      <td>3.6</td>\n",
       "    </tr>\n",
       "    <tr>\n",
       "      <th>2</th>\n",
       "      <td>20000103</td>\n",
       "      <td>1</td>\n",
       "      <td>5</td>\n",
       "      <td>0.81</td>\n",
       "      <td>1.0314</td>\n",
       "      <td>0.50</td>\n",
       "      <td>0.00</td>\n",
       "      <td>3.7</td>\n",
       "      <td>2.2</td>\n",
       "    </tr>\n",
       "    <tr>\n",
       "      <th>3</th>\n",
       "      <td>20000104</td>\n",
       "      <td>1</td>\n",
       "      <td>7</td>\n",
       "      <td>0.79</td>\n",
       "      <td>1.0262</td>\n",
       "      <td>0.63</td>\n",
       "      <td>0.35</td>\n",
       "      <td>6.9</td>\n",
       "      <td>3.9</td>\n",
       "    </tr>\n",
       "    <tr>\n",
       "      <th>4</th>\n",
       "      <td>20000105</td>\n",
       "      <td>1</td>\n",
       "      <td>5</td>\n",
       "      <td>0.90</td>\n",
       "      <td>1.0246</td>\n",
       "      <td>0.51</td>\n",
       "      <td>0.07</td>\n",
       "      <td>3.7</td>\n",
       "      <td>6.0</td>\n",
       "    </tr>\n",
       "    <tr>\n",
       "      <th>...</th>\n",
       "      <td>...</td>\n",
       "      <td>...</td>\n",
       "      <td>...</td>\n",
       "      <td>...</td>\n",
       "      <td>...</td>\n",
       "      <td>...</td>\n",
       "      <td>...</td>\n",
       "      <td>...</td>\n",
       "      <td>...</td>\n",
       "    </tr>\n",
       "    <tr>\n",
       "      <th>3649</th>\n",
       "      <td>20091228</td>\n",
       "      <td>12</td>\n",
       "      <td>7</td>\n",
       "      <td>0.82</td>\n",
       "      <td>1.0084</td>\n",
       "      <td>0.28</td>\n",
       "      <td>0.42</td>\n",
       "      <td>0.3</td>\n",
       "      <td>3.2</td>\n",
       "    </tr>\n",
       "    <tr>\n",
       "      <th>3650</th>\n",
       "      <td>20091229</td>\n",
       "      <td>12</td>\n",
       "      <td>7</td>\n",
       "      <td>0.92</td>\n",
       "      <td>1.0028</td>\n",
       "      <td>0.22</td>\n",
       "      <td>1.68</td>\n",
       "      <td>0.2</td>\n",
       "      <td>4.5</td>\n",
       "    </tr>\n",
       "    <tr>\n",
       "      <th>3651</th>\n",
       "      <td>20091230</td>\n",
       "      <td>12</td>\n",
       "      <td>8</td>\n",
       "      <td>0.92</td>\n",
       "      <td>0.9979</td>\n",
       "      <td>0.07</td>\n",
       "      <td>1.54</td>\n",
       "      <td>0.0</td>\n",
       "      <td>8.5</td>\n",
       "    </tr>\n",
       "    <tr>\n",
       "      <th>3652</th>\n",
       "      <td>20091231</td>\n",
       "      <td>12</td>\n",
       "      <td>7</td>\n",
       "      <td>0.93</td>\n",
       "      <td>0.9958</td>\n",
       "      <td>0.17</td>\n",
       "      <td>0.57</td>\n",
       "      <td>0.1</td>\n",
       "      <td>6.6</td>\n",
       "    </tr>\n",
       "    <tr>\n",
       "      <th>3653</th>\n",
       "      <td>20100101</td>\n",
       "      <td>1</td>\n",
       "      <td>8</td>\n",
       "      <td>0.93</td>\n",
       "      <td>0.9965</td>\n",
       "      <td>0.08</td>\n",
       "      <td>0.56</td>\n",
       "      <td>0.0</td>\n",
       "      <td>2.9</td>\n",
       "    </tr>\n",
       "  </tbody>\n",
       "</table>\n",
       "<p>3654 rows × 9 columns</p>\n",
       "</div>"
      ],
      "text/plain": [
       "          DATE  MONTH  cloud_cover  humidity  pressure  global_radiation  \\\n",
       "0     20000101      1            8      0.89    1.0286              0.20   \n",
       "1     20000102      1            8      0.87    1.0318              0.25   \n",
       "2     20000103      1            5      0.81    1.0314              0.50   \n",
       "3     20000104      1            7      0.79    1.0262              0.63   \n",
       "4     20000105      1            5      0.90    1.0246              0.51   \n",
       "...        ...    ...          ...       ...       ...               ...   \n",
       "3649  20091228     12            7      0.82    1.0084              0.28   \n",
       "3650  20091229     12            7      0.92    1.0028              0.22   \n",
       "3651  20091230     12            8      0.92    0.9979              0.07   \n",
       "3652  20091231     12            7      0.93    0.9958              0.17   \n",
       "3653  20100101      1            8      0.93    0.9965              0.08   \n",
       "\n",
       "      precipitation  sunshine  temperature  \n",
       "0              0.03       0.0          2.9  \n",
       "1              0.00       0.0          3.6  \n",
       "2              0.00       3.7          2.2  \n",
       "3              0.35       6.9          3.9  \n",
       "4              0.07       3.7          6.0  \n",
       "...             ...       ...          ...  \n",
       "3649           0.42       0.3          3.2  \n",
       "3650           1.68       0.2          4.5  \n",
       "3651           1.54       0.0          8.5  \n",
       "3652           0.57       0.1          6.6  \n",
       "3653           0.56       0.0          2.9  \n",
       "\n",
       "[3654 rows x 9 columns]"
      ]
     },
     "execution_count": 2,
     "metadata": {},
     "output_type": "execute_result"
    }
   ],
   "source": [
    "weather_df=pd.read_csv('DS1_C9_S2_Concept_BASEL_Weather_Data.csv')\n",
    "weather_df"
   ]
  },
  {
   "cell_type": "markdown",
   "metadata": {},
   "source": [
    "### Understanding Data"
   ]
  },
  {
   "cell_type": "code",
   "execution_count": 5,
   "metadata": {},
   "outputs": [
    {
     "name": "stdout",
     "output_type": "stream",
     "text": [
      "<class 'pandas.core.frame.DataFrame'>\n",
      "RangeIndex: 3654 entries, 0 to 3653\n",
      "Data columns (total 9 columns):\n",
      " #   Column            Non-Null Count  Dtype  \n",
      "---  ------            --------------  -----  \n",
      " 0   DATE              3654 non-null   int64  \n",
      " 1   MONTH             3654 non-null   int64  \n",
      " 2   cloud_cover       3654 non-null   int64  \n",
      " 3   humidity          3654 non-null   float64\n",
      " 4   pressure          3654 non-null   float64\n",
      " 5   global_radiation  3654 non-null   float64\n",
      " 6   precipitation     3654 non-null   float64\n",
      " 7   sunshine          3654 non-null   float64\n",
      " 8   temperature       3654 non-null   float64\n",
      "dtypes: float64(6), int64(3)\n",
      "memory usage: 257.1 KB\n"
     ]
    }
   ],
   "source": [
    "weather_df.info()"
   ]
  },
  {
   "cell_type": "markdown",
   "metadata": {},
   "source": [
    "### Variables"
   ]
  },
  {
   "cell_type": "markdown",
   "metadata": {},
   "source": [
    "Dependent Variable: temperature\n",
    "\n",
    "Independent Variables: humidity, pressure, cloud_cover, global_radiation, precipitation, sunshine "
   ]
  },
  {
   "cell_type": "markdown",
   "metadata": {},
   "source": [
    "## Performing data preparation \n",
    "### 1. Missing value treatment"
   ]
  },
  {
   "cell_type": "code",
   "execution_count": 7,
   "metadata": {},
   "outputs": [
    {
     "data": {
      "text/plain": [
       "DATE                0\n",
       "MONTH               0\n",
       "cloud_cover         0\n",
       "humidity            0\n",
       "pressure            0\n",
       "global_radiation    0\n",
       "precipitation       0\n",
       "sunshine            0\n",
       "temperature         0\n",
       "dtype: int64"
      ]
     },
     "execution_count": 7,
     "metadata": {},
     "output_type": "execute_result"
    }
   ],
   "source": [
    "weather_df.isnull().sum()"
   ]
  },
  {
   "cell_type": "markdown",
   "metadata": {},
   "source": [
    "This data does not consist any missing value."
   ]
  },
  {
   "cell_type": "markdown",
   "metadata": {},
   "source": [
    "### 2. Outlier Treatment"
   ]
  },
  {
   "cell_type": "code",
   "execution_count": 9,
   "metadata": {},
   "outputs": [],
   "source": [
    "# removing first two columns from the data\n",
    "\n",
    "weather_df_c=weather_df"
   ]
  },
  {
   "cell_type": "code",
   "execution_count": 11,
   "metadata": {},
   "outputs": [
    {
     "data": {
      "text/html": [
       "<div>\n",
       "<style scoped>\n",
       "    .dataframe tbody tr th:only-of-type {\n",
       "        vertical-align: middle;\n",
       "    }\n",
       "\n",
       "    .dataframe tbody tr th {\n",
       "        vertical-align: top;\n",
       "    }\n",
       "\n",
       "    .dataframe thead th {\n",
       "        text-align: right;\n",
       "    }\n",
       "</style>\n",
       "<table border=\"1\" class=\"dataframe\">\n",
       "  <thead>\n",
       "    <tr style=\"text-align: right;\">\n",
       "      <th></th>\n",
       "      <th>cloud_cover</th>\n",
       "      <th>humidity</th>\n",
       "      <th>pressure</th>\n",
       "      <th>global_radiation</th>\n",
       "      <th>precipitation</th>\n",
       "      <th>sunshine</th>\n",
       "      <th>temperature</th>\n",
       "    </tr>\n",
       "  </thead>\n",
       "  <tbody>\n",
       "    <tr>\n",
       "      <th>0</th>\n",
       "      <td>8</td>\n",
       "      <td>0.89</td>\n",
       "      <td>1.0286</td>\n",
       "      <td>0.20</td>\n",
       "      <td>0.03</td>\n",
       "      <td>0.0</td>\n",
       "      <td>2.9</td>\n",
       "    </tr>\n",
       "    <tr>\n",
       "      <th>1</th>\n",
       "      <td>8</td>\n",
       "      <td>0.87</td>\n",
       "      <td>1.0318</td>\n",
       "      <td>0.25</td>\n",
       "      <td>0.00</td>\n",
       "      <td>0.0</td>\n",
       "      <td>3.6</td>\n",
       "    </tr>\n",
       "    <tr>\n",
       "      <th>2</th>\n",
       "      <td>5</td>\n",
       "      <td>0.81</td>\n",
       "      <td>1.0314</td>\n",
       "      <td>0.50</td>\n",
       "      <td>0.00</td>\n",
       "      <td>3.7</td>\n",
       "      <td>2.2</td>\n",
       "    </tr>\n",
       "    <tr>\n",
       "      <th>3</th>\n",
       "      <td>7</td>\n",
       "      <td>0.79</td>\n",
       "      <td>1.0262</td>\n",
       "      <td>0.63</td>\n",
       "      <td>0.35</td>\n",
       "      <td>6.9</td>\n",
       "      <td>3.9</td>\n",
       "    </tr>\n",
       "    <tr>\n",
       "      <th>4</th>\n",
       "      <td>5</td>\n",
       "      <td>0.90</td>\n",
       "      <td>1.0246</td>\n",
       "      <td>0.51</td>\n",
       "      <td>0.07</td>\n",
       "      <td>3.7</td>\n",
       "      <td>6.0</td>\n",
       "    </tr>\n",
       "    <tr>\n",
       "      <th>...</th>\n",
       "      <td>...</td>\n",
       "      <td>...</td>\n",
       "      <td>...</td>\n",
       "      <td>...</td>\n",
       "      <td>...</td>\n",
       "      <td>...</td>\n",
       "      <td>...</td>\n",
       "    </tr>\n",
       "    <tr>\n",
       "      <th>3649</th>\n",
       "      <td>7</td>\n",
       "      <td>0.82</td>\n",
       "      <td>1.0084</td>\n",
       "      <td>0.28</td>\n",
       "      <td>0.42</td>\n",
       "      <td>0.3</td>\n",
       "      <td>3.2</td>\n",
       "    </tr>\n",
       "    <tr>\n",
       "      <th>3650</th>\n",
       "      <td>7</td>\n",
       "      <td>0.92</td>\n",
       "      <td>1.0028</td>\n",
       "      <td>0.22</td>\n",
       "      <td>1.68</td>\n",
       "      <td>0.2</td>\n",
       "      <td>4.5</td>\n",
       "    </tr>\n",
       "    <tr>\n",
       "      <th>3651</th>\n",
       "      <td>8</td>\n",
       "      <td>0.92</td>\n",
       "      <td>0.9979</td>\n",
       "      <td>0.07</td>\n",
       "      <td>1.54</td>\n",
       "      <td>0.0</td>\n",
       "      <td>8.5</td>\n",
       "    </tr>\n",
       "    <tr>\n",
       "      <th>3652</th>\n",
       "      <td>7</td>\n",
       "      <td>0.93</td>\n",
       "      <td>0.9958</td>\n",
       "      <td>0.17</td>\n",
       "      <td>0.57</td>\n",
       "      <td>0.1</td>\n",
       "      <td>6.6</td>\n",
       "    </tr>\n",
       "    <tr>\n",
       "      <th>3653</th>\n",
       "      <td>8</td>\n",
       "      <td>0.93</td>\n",
       "      <td>0.9965</td>\n",
       "      <td>0.08</td>\n",
       "      <td>0.56</td>\n",
       "      <td>0.0</td>\n",
       "      <td>2.9</td>\n",
       "    </tr>\n",
       "  </tbody>\n",
       "</table>\n",
       "<p>3654 rows × 7 columns</p>\n",
       "</div>"
      ],
      "text/plain": [
       "      cloud_cover  humidity  pressure  global_radiation  precipitation  \\\n",
       "0               8      0.89    1.0286              0.20           0.03   \n",
       "1               8      0.87    1.0318              0.25           0.00   \n",
       "2               5      0.81    1.0314              0.50           0.00   \n",
       "3               7      0.79    1.0262              0.63           0.35   \n",
       "4               5      0.90    1.0246              0.51           0.07   \n",
       "...           ...       ...       ...               ...            ...   \n",
       "3649            7      0.82    1.0084              0.28           0.42   \n",
       "3650            7      0.92    1.0028              0.22           1.68   \n",
       "3651            8      0.92    0.9979              0.07           1.54   \n",
       "3652            7      0.93    0.9958              0.17           0.57   \n",
       "3653            8      0.93    0.9965              0.08           0.56   \n",
       "\n",
       "      sunshine  temperature  \n",
       "0          0.0          2.9  \n",
       "1          0.0          3.6  \n",
       "2          3.7          2.2  \n",
       "3          6.9          3.9  \n",
       "4          3.7          6.0  \n",
       "...        ...          ...  \n",
       "3649       0.3          3.2  \n",
       "3650       0.2          4.5  \n",
       "3651       0.0          8.5  \n",
       "3652       0.1          6.6  \n",
       "3653       0.0          2.9  \n",
       "\n",
       "[3654 rows x 7 columns]"
      ]
     },
     "execution_count": 11,
     "metadata": {},
     "output_type": "execute_result"
    }
   ],
   "source": [
    "columns_to_drop=[\"DATE\",\"MONTH\"]\n",
    "weather_df_c=weather_df_c.drop(columns_to_drop,axis=1)\n",
    "weather_df_c"
   ]
  },
  {
   "cell_type": "code",
   "execution_count": 13,
   "metadata": {},
   "outputs": [
    {
     "data": {
      "image/png": "[encoded data removed]",
      "text/plain": [
       "<Figure size 640x480 with 1 Axes>"
      ]
     },
     "metadata": {},
     "output_type": "display_data"
    }
   ],
   "source": [
    "# Outlier Treatment\n",
    "plt.boxplot(weather_df_c)\n",
    "plt.show()"
   ]
  },
  {
   "cell_type": "code",
   "execution_count": 15,
   "metadata": {},
   "outputs": [
    {
     "data": {
      "text/html": [
       "<div>\n",
       "<style scoped>\n",
       "    .dataframe tbody tr th:only-of-type {\n",
       "        vertical-align: middle;\n",
       "    }\n",
       "\n",
       "    .dataframe tbody tr th {\n",
       "        vertical-align: top;\n",
       "    }\n",
       "\n",
       "    .dataframe thead th {\n",
       "        text-align: right;\n",
       "    }\n",
       "</style>\n",
       "<table border=\"1\" class=\"dataframe\">\n",
       "  <thead>\n",
       "    <tr style=\"text-align: right;\">\n",
       "      <th></th>\n",
       "      <th>Columns</th>\n",
       "      <th>Max</th>\n",
       "      <th>Min</th>\n",
       "      <th>Range</th>\n",
       "      <th>Q1</th>\n",
       "      <th>Q3</th>\n",
       "      <th>IQR</th>\n",
       "      <th>UF</th>\n",
       "      <th>LF</th>\n",
       "      <th>Outliers</th>\n",
       "    </tr>\n",
       "  </thead>\n",
       "  <tbody>\n",
       "    <tr>\n",
       "      <th>0</th>\n",
       "      <td>cloud_cover</td>\n",
       "      <td>8.0000</td>\n",
       "      <td>0.0000</td>\n",
       "      <td>8.0000</td>\n",
       "      <td>4.0000</td>\n",
       "      <td>7.0000</td>\n",
       "      <td>3.0000</td>\n",
       "      <td>11.5000</td>\n",
       "      <td>-0.5000</td>\n",
       "      <td>[[], []]</td>\n",
       "    </tr>\n",
       "    <tr>\n",
       "      <th>1</th>\n",
       "      <td>humidity</td>\n",
       "      <td>0.9800</td>\n",
       "      <td>0.3800</td>\n",
       "      <td>0.6000</td>\n",
       "      <td>0.6700</td>\n",
       "      <td>0.8300</td>\n",
       "      <td>0.1600</td>\n",
       "      <td>1.0700</td>\n",
       "      <td>0.4300</td>\n",
       "      <td>[[], [0.38, 0.42, 0.4, 0.42, 0.42, 0.42, 0.43,...</td>\n",
       "    </tr>\n",
       "    <tr>\n",
       "      <th>2</th>\n",
       "      <td>pressure</td>\n",
       "      <td>1.0408</td>\n",
       "      <td>0.9856</td>\n",
       "      <td>0.0552</td>\n",
       "      <td>1.0133</td>\n",
       "      <td>1.0227</td>\n",
       "      <td>0.0094</td>\n",
       "      <td>1.0368</td>\n",
       "      <td>0.9992</td>\n",
       "      <td>[[1.0373, 1.0391, 1.0391, 1.0368, 1.0387, 1.03...</td>\n",
       "    </tr>\n",
       "    <tr>\n",
       "      <th>3</th>\n",
       "      <td>global_radiation</td>\n",
       "      <td>3.5500</td>\n",
       "      <td>0.0500</td>\n",
       "      <td>3.5000</td>\n",
       "      <td>0.5300</td>\n",
       "      <td>2.0600</td>\n",
       "      <td>1.5300</td>\n",
       "      <td>4.3550</td>\n",
       "      <td>-1.7650</td>\n",
       "      <td>[[], []]</td>\n",
       "    </tr>\n",
       "    <tr>\n",
       "      <th>4</th>\n",
       "      <td>precipitation</td>\n",
       "      <td>7.5700</td>\n",
       "      <td>0.0000</td>\n",
       "      <td>7.5700</td>\n",
       "      <td>0.0000</td>\n",
       "      <td>0.2100</td>\n",
       "      <td>0.2100</td>\n",
       "      <td>0.5250</td>\n",
       "      <td>-0.3150</td>\n",
       "      <td>[[0.65, 0.99, 1.27, 1.22, 0.9, 0.53, 0.56, 0.5...</td>\n",
       "    </tr>\n",
       "    <tr>\n",
       "      <th>5</th>\n",
       "      <td>sunshine</td>\n",
       "      <td>15.3000</td>\n",
       "      <td>0.0000</td>\n",
       "      <td>15.3000</td>\n",
       "      <td>0.5000</td>\n",
       "      <td>8.0000</td>\n",
       "      <td>7.5000</td>\n",
       "      <td>19.2500</td>\n",
       "      <td>-10.7500</td>\n",
       "      <td>[[], []]</td>\n",
       "    </tr>\n",
       "    <tr>\n",
       "      <th>6</th>\n",
       "      <td>temperature</td>\n",
       "      <td>29.0000</td>\n",
       "      <td>-9.3000</td>\n",
       "      <td>38.3000</td>\n",
       "      <td>5.3000</td>\n",
       "      <td>16.9000</td>\n",
       "      <td>11.6000</td>\n",
       "      <td>34.3000</td>\n",
       "      <td>-12.1000</td>\n",
       "      <td>[[], []]</td>\n",
       "    </tr>\n",
       "  </tbody>\n",
       "</table>\n",
       "</div>"
      ],
      "text/plain": [
       "            Columns      Max     Min    Range      Q1       Q3      IQR  \\\n",
       "0       cloud_cover   8.0000  0.0000   8.0000  4.0000   7.0000   3.0000   \n",
       "1          humidity   0.9800  0.3800   0.6000  0.6700   0.8300   0.1600   \n",
       "2          pressure   1.0408  0.9856   0.0552  1.0133   1.0227   0.0094   \n",
       "3  global_radiation   3.5500  0.0500   3.5000  0.5300   2.0600   1.5300   \n",
       "4     precipitation   7.5700  0.0000   7.5700  0.0000   0.2100   0.2100   \n",
       "5          sunshine  15.3000  0.0000  15.3000  0.5000   8.0000   7.5000   \n",
       "6       temperature  29.0000 -9.3000  38.3000  5.3000  16.9000  11.6000   \n",
       "\n",
       "        UF       LF                                           Outliers  \n",
       "0  11.5000  -0.5000                                           [[], []]  \n",
       "1   1.0700   0.4300  [[], [0.38, 0.42, 0.4, 0.42, 0.42, 0.42, 0.43,...  \n",
       "2   1.0368   0.9992  [[1.0373, 1.0391, 1.0391, 1.0368, 1.0387, 1.03...  \n",
       "3   4.3550  -1.7650                                           [[], []]  \n",
       "4   0.5250  -0.3150  [[0.65, 0.99, 1.27, 1.22, 0.9, 0.53, 0.56, 0.5...  \n",
       "5  19.2500 -10.7500                                           [[], []]  \n",
       "6  34.3000 -12.1000                                           [[], []]  "
      ]
     },
     "execution_count": 15,
     "metadata": {},
     "output_type": "execute_result"
    }
   ],
   "source": [
    "# Outlier Treatment\n",
    "data=[]\n",
    "for col in weather_df_c:\n",
    "    lo=[]\n",
    "    uo=[]\n",
    "    column_df=pd.Series(weather_df_c[col])\n",
    "    Max=max(column_df)\n",
    "    Min=min(column_df)\n",
    "    Range=Max-Min\n",
    "    Q1=column_df.quantile(0.25)\n",
    "    Q3=column_df.quantile(0.75)\n",
    "    IQR=Q3-Q1\n",
    "    UF=Q3+1.5*IQR\n",
    "    LF=Q1-1.5*IQR\n",
    "    for z in weather_df_c[col]:\n",
    "        if z>UF:\n",
    "            uo.append(z)\n",
    "        elif z<LF:\n",
    "            lo.append(z)\n",
    "    data.append((col,Max,Min,Range,Q1,Q3,IQR,UF,LF,[uo,lo]))\n",
    "columns_names=[\"Columns\",\"Max\",\"Min\",\"Range\",\"Q1\",\"Q3\",\"IQR\",\"UF\",\"LF\",\"Outliers\"]\n",
    "datas=pd.DataFrame(data,columns=columns_names)\n",
    "datas"
   ]
  },
  {
   "cell_type": "code",
   "execution_count": 17,
   "metadata": {},
   "outputs": [],
   "source": [
    "def outliers(col):\n",
    "    ser=pd.Series(weather_df_c[col])\n",
    "    q1=ser.quantile(0.25)\n",
    "    q3=ser.quantile(0.75)\n",
    "    iqr=q3-q1\n",
    "    lf=q1-1.5*iqr\n",
    "    uf=q3+1.5*iqr\n",
    "    for z in ser:\n",
    "        if z>uf or z<lf:\n",
    "            weather_df_c[col]=weather_df_c[col].replace([z],weather_df_c[col].mean())"
   ]
  },
  {
   "cell_type": "code",
   "execution_count": 19,
   "metadata": {},
   "outputs": [],
   "source": [
    "outliers('precipitation')\n",
    "    "
   ]
  },
  {
   "cell_type": "code",
   "execution_count": 21,
   "metadata": {},
   "outputs": [
    {
     "data": {
      "image/png": "[encoded data removed]",
      "text/plain": [
       "<Figure size 640x480 with 1 Axes>"
      ]
     },
     "metadata": {},
     "output_type": "display_data"
    }
   ],
   "source": [
    "plt.boxplot(weather_df_c['precipitation'])\n",
    "plt.show()"
   ]
  },
  {
   "cell_type": "code",
   "execution_count": 23,
   "metadata": {},
   "outputs": [],
   "source": [
    "lst=[]\n",
    "ser=pd.Series(weather_df_c['precipitation'])\n",
    "q1=ser.quantile(0.25)\n",
    "q3=ser.quantile(0.75)\n",
    "iqr=q3-q1\n",
    "lf=q1-1.5*iqr\n",
    "uf=q3+1.5*iqr\n",
    "for z in ser:\n",
    "    if z>uf or z<lf:\n",
    "            lst.append(z)"
   ]
  },
  {
   "cell_type": "code",
   "execution_count": 25,
   "metadata": {},
   "outputs": [
    {
     "name": "stdout",
     "output_type": "stream",
     "text": [
      "[0.42, 0.44, 0.48, 0.39, 0.45, 0.42, 0.47, 0.37, 0.5, 0.52, 0.37, 0.38, 0.38, 0.45, 0.46, 0.5, 0.52, 0.44, 0.37, 0.48, 0.52, 0.43, 0.43, 0.4, 0.46, 0.47, 0.46, 0.45, 0.45, 0.45, 0.39, 0.42, 0.38, 0.48, 0.49, 0.46, 0.37, 0.49, 0.5, 0.46, 0.5, 0.45, 0.38, 0.42, 0.45, 0.38, 0.49, 0.43, 0.38, 0.44, 0.41, 0.46, 0.38, 0.47, 0.48, 0.46, 0.5, 0.44, 0.47, 0.48, 0.45, 0.44, 0.39, 0.44, 0.52, 0.37, 0.44, 0.51, 0.47, 0.38, 0.4, 0.44, 0.43, 0.51, 0.37, 0.42, 0.41, 0.39, 0.49, 0.4, 0.47, 0.4, 0.48, 0.5, 0.5, 0.46, 0.42, 0.47, 0.43, 0.44, 0.48, 0.41, 0.38, 0.5, 0.41, 0.39, 0.42, 0.41, 0.51, 0.48, 0.47, 0.48, 0.43, 0.43, 0.51, 0.51, 0.47, 0.37, 0.42, 0.41, 0.38, 0.38, 0.45, 0.52, 0.39, 0.48, 0.49, 0.39, 0.41, 0.44, 0.4, 0.41, 0.38, 0.39, 0.37, 0.48, 0.39, 0.49, 0.5, 0.46, 0.51, 0.41, 0.52, 0.47, 0.37, 0.51, 0.41, 0.48, 0.39, 0.4, 0.43, 0.4, 0.44, 0.38, 0.46, 0.47, 0.46, 0.5, 0.52, 0.37, 0.47, 0.5, 0.38, 0.46, 0.4, 0.37, 0.38, 0.48, 0.52, 0.43, 0.37, 0.42, 0.51, 0.4, 0.38, 0.49, 0.38, 0.42]\n"
     ]
    },
    {
     "data": {
      "text/plain": [
       "168"
      ]
     },
     "execution_count": 25,
     "metadata": {},
     "output_type": "execute_result"
    }
   ],
   "source": [
    "print(lst)\n",
    "len(lst)"
   ]
  },
  {
   "cell_type": "code",
   "execution_count": 45,
   "metadata": {},
   "outputs": [
    {
     "data": {
      "text/html": [
       "<div>\n",
       "<style scoped>\n",
       "    .dataframe tbody tr th:only-of-type {\n",
       "        vertical-align: middle;\n",
       "    }\n",
       "\n",
       "    .dataframe tbody tr th {\n",
       "        vertical-align: top;\n",
       "    }\n",
       "\n",
       "    .dataframe thead th {\n",
       "        text-align: right;\n",
       "    }\n",
       "</style>\n",
       "<table border=\"1\" class=\"dataframe\">\n",
       "  <thead>\n",
       "    <tr style=\"text-align: right;\">\n",
       "      <th></th>\n",
       "      <th>Columns</th>\n",
       "      <th>Max</th>\n",
       "      <th>Min</th>\n",
       "      <th>Range</th>\n",
       "      <th>Q1</th>\n",
       "      <th>Q3</th>\n",
       "      <th>IQR</th>\n",
       "      <th>UF</th>\n",
       "      <th>LF</th>\n",
       "      <th>Outliers</th>\n",
       "    </tr>\n",
       "  </thead>\n",
       "  <tbody>\n",
       "    <tr>\n",
       "      <th>0</th>\n",
       "      <td>cloud_cover</td>\n",
       "      <td>8.0000</td>\n",
       "      <td>0.0000</td>\n",
       "      <td>8.0000</td>\n",
       "      <td>4.0000</td>\n",
       "      <td>7.0000</td>\n",
       "      <td>3.0000</td>\n",
       "      <td>11.5000</td>\n",
       "      <td>-0.5000</td>\n",
       "      <td>[[], []]</td>\n",
       "    </tr>\n",
       "    <tr>\n",
       "      <th>1</th>\n",
       "      <td>humidity</td>\n",
       "      <td>0.9800</td>\n",
       "      <td>0.3800</td>\n",
       "      <td>0.6000</td>\n",
       "      <td>0.6700</td>\n",
       "      <td>0.8300</td>\n",
       "      <td>0.1600</td>\n",
       "      <td>1.0700</td>\n",
       "      <td>0.4300</td>\n",
       "      <td>[[], [0.38, 0.42, 0.4, 0.42, 0.42, 0.42, 0.43,...</td>\n",
       "    </tr>\n",
       "    <tr>\n",
       "      <th>2</th>\n",
       "      <td>pressure</td>\n",
       "      <td>1.0408</td>\n",
       "      <td>0.9856</td>\n",
       "      <td>0.0552</td>\n",
       "      <td>1.0133</td>\n",
       "      <td>1.0227</td>\n",
       "      <td>0.0094</td>\n",
       "      <td>1.0368</td>\n",
       "      <td>0.9992</td>\n",
       "      <td>[[1.0373, 1.0391, 1.0391, 1.0368, 1.0387, 1.03...</td>\n",
       "    </tr>\n",
       "    <tr>\n",
       "      <th>3</th>\n",
       "      <td>global_radiation</td>\n",
       "      <td>3.5500</td>\n",
       "      <td>0.0500</td>\n",
       "      <td>3.5000</td>\n",
       "      <td>0.5300</td>\n",
       "      <td>2.0600</td>\n",
       "      <td>1.5300</td>\n",
       "      <td>4.3550</td>\n",
       "      <td>-1.7650</td>\n",
       "      <td>[[], []]</td>\n",
       "    </tr>\n",
       "    <tr>\n",
       "      <th>4</th>\n",
       "      <td>precipitation</td>\n",
       "      <td>0.2900</td>\n",
       "      <td>0.0000</td>\n",
       "      <td>0.2900</td>\n",
       "      <td>0.0000</td>\n",
       "      <td>0.1000</td>\n",
       "      <td>0.1000</td>\n",
       "      <td>0.2500</td>\n",
       "      <td>-0.1500</td>\n",
       "      <td>[[0.29, 0.28, 0.26, 0.28, 0.28, 0.27, 0.26, 0....</td>\n",
       "    </tr>\n",
       "    <tr>\n",
       "      <th>5</th>\n",
       "      <td>sunshine</td>\n",
       "      <td>15.3000</td>\n",
       "      <td>0.0000</td>\n",
       "      <td>15.3000</td>\n",
       "      <td>0.5000</td>\n",
       "      <td>8.0000</td>\n",
       "      <td>7.5000</td>\n",
       "      <td>19.2500</td>\n",
       "      <td>-10.7500</td>\n",
       "      <td>[[], []]</td>\n",
       "    </tr>\n",
       "    <tr>\n",
       "      <th>6</th>\n",
       "      <td>temperature</td>\n",
       "      <td>29.0000</td>\n",
       "      <td>-9.3000</td>\n",
       "      <td>38.3000</td>\n",
       "      <td>5.3000</td>\n",
       "      <td>16.9000</td>\n",
       "      <td>11.6000</td>\n",
       "      <td>34.3000</td>\n",
       "      <td>-12.1000</td>\n",
       "      <td>[[], []]</td>\n",
       "    </tr>\n",
       "  </tbody>\n",
       "</table>\n",
       "</div>"
      ],
      "text/plain": [
       "            Columns      Max     Min    Range      Q1       Q3      IQR  \\\n",
       "0       cloud_cover   8.0000  0.0000   8.0000  4.0000   7.0000   3.0000   \n",
       "1          humidity   0.9800  0.3800   0.6000  0.6700   0.8300   0.1600   \n",
       "2          pressure   1.0408  0.9856   0.0552  1.0133   1.0227   0.0094   \n",
       "3  global_radiation   3.5500  0.0500   3.5000  0.5300   2.0600   1.5300   \n",
       "4     precipitation   0.2900  0.0000   0.2900  0.0000   0.1000   0.1000   \n",
       "5          sunshine  15.3000  0.0000  15.3000  0.5000   8.0000   7.5000   \n",
       "6       temperature  29.0000 -9.3000  38.3000  5.3000  16.9000  11.6000   \n",
       "\n",
       "        UF       LF                                           Outliers  \n",
       "0  11.5000  -0.5000                                           [[], []]  \n",
       "1   1.0700   0.4300  [[], [0.38, 0.42, 0.4, 0.42, 0.42, 0.42, 0.43,...  \n",
       "2   1.0368   0.9992  [[1.0373, 1.0391, 1.0391, 1.0368, 1.0387, 1.03...  \n",
       "3   4.3550  -1.7650                                           [[], []]  \n",
       "4   0.2500  -0.1500  [[0.29, 0.28, 0.26, 0.28, 0.28, 0.27, 0.26, 0....  \n",
       "5  19.2500 -10.7500                                           [[], []]  \n",
       "6  34.3000 -12.1000                                           [[], []]  "
      ]
     },
     "execution_count": 45,
     "metadata": {},
     "output_type": "execute_result"
    }
   ],
   "source": [
    "# Outlier Treatment\n",
    "data=[]\n",
    "for col in weather_df_c:\n",
    "    lo=[]\n",
    "    uo=[]\n",
    "    column_df=pd.Series(weather_df_c[col])\n",
    "    Max=max(column_df)\n",
    "    Min=min(column_df)\n",
    "    Range=Max-Min\n",
    "    Q1=column_df.quantile(0.25)\n",
    "    Q3=column_df.quantile(0.75)\n",
    "    IQR=Q3-Q1\n",
    "    UF=Q3+1.5*IQR\n",
    "    LF=Q1-1.5*IQR\n",
    "    for z in weather_df_c[col]:\n",
    "        if z>UF:\n",
    "            uo.append(z)\n",
    "        elif z<LF:\n",
    "            lo.append(z)\n",
    "    data.append((col,Max,Min,Range,Q1,Q3,IQR,UF,LF,[uo,lo]))\n",
    "columns_names=[\"Columns\",\"Max\",\"Min\",\"Range\",\"Q1\",\"Q3\",\"IQR\",\"UF\",\"LF\",\"Outliers\"]\n",
    "datas=pd.DataFrame(data,columns=columns_names)\n",
    "datas"
   ]
  },
  {
   "cell_type": "markdown",
   "metadata": {},
   "source": [
    "### 3. Data Scaling"
   ]
  },
  {
   "cell_type": "markdown",
   "metadata": {},
   "source": [
    "### Scale the data using Standard Scaler"
   ]
  },
  {
   "cell_type": "code",
   "execution_count": 36,
   "metadata": {},
   "outputs": [
    {
     "data": {
      "text/html": [
       "<div>\n",
       "<style scoped>\n",
       "    .dataframe tbody tr th:only-of-type {\n",
       "        vertical-align: middle;\n",
       "    }\n",
       "\n",
       "    .dataframe tbody tr th {\n",
       "        vertical-align: top;\n",
       "    }\n",
       "\n",
       "    .dataframe thead th {\n",
       "        text-align: right;\n",
       "    }\n",
       "</style>\n",
       "<table border=\"1\" class=\"dataframe\">\n",
       "  <thead>\n",
       "    <tr style=\"text-align: right;\">\n",
       "      <th></th>\n",
       "      <th>DATE</th>\n",
       "      <th>MONTH</th>\n",
       "      <th>cloud_cover</th>\n",
       "      <th>humidity</th>\n",
       "      <th>pressure</th>\n",
       "      <th>global_radiation</th>\n",
       "      <th>precipitation</th>\n",
       "      <th>sunshine</th>\n",
       "      <th>temperature</th>\n",
       "    </tr>\n",
       "  </thead>\n",
       "  <tbody>\n",
       "    <tr>\n",
       "      <th>0</th>\n",
       "      <td>20240426</td>\n",
       "      <td>4</td>\n",
       "      <td>9</td>\n",
       "      <td>0.77</td>\n",
       "      <td>1.007</td>\n",
       "      <td>0.1</td>\n",
       "      <td>0.08</td>\n",
       "      <td>4.2</td>\n",
       "      <td>9</td>\n",
       "    </tr>\n",
       "  </tbody>\n",
       "</table>\n",
       "</div>"
      ],
      "text/plain": [
       "       DATE  MONTH  cloud_cover  humidity  pressure  global_radiation  \\\n",
       "0  20240426      4            9      0.77     1.007               0.1   \n",
       "\n",
       "   precipitation  sunshine  temperature  \n",
       "0           0.08       4.2            9  "
      ]
     },
     "execution_count": 36,
     "metadata": {},
     "output_type": "execute_result"
    }
   ],
   "source": [
    "# Read new data to predict using model\n",
    "new_data=pd.read_csv('DS1_C9_S2_Concept_New_Data.csv')\n",
    "new_data"
   ]
  },
  {
   "cell_type": "code",
   "execution_count": 38,
   "metadata": {},
   "outputs": [
    {
     "data": {
      "text/html": [
       "<div>\n",
       "<style scoped>\n",
       "    .dataframe tbody tr th:only-of-type {\n",
       "        vertical-align: middle;\n",
       "    }\n",
       "\n",
       "    .dataframe tbody tr th {\n",
       "        vertical-align: top;\n",
       "    }\n",
       "\n",
       "    .dataframe thead th {\n",
       "        text-align: right;\n",
       "    }\n",
       "</style>\n",
       "<table border=\"1\" class=\"dataframe\">\n",
       "  <thead>\n",
       "    <tr style=\"text-align: right;\">\n",
       "      <th></th>\n",
       "      <th>cloud_cover</th>\n",
       "      <th>humidity</th>\n",
       "      <th>pressure</th>\n",
       "      <th>global_radiation</th>\n",
       "      <th>precipitation</th>\n",
       "      <th>sunshine</th>\n",
       "      <th>temperature</th>\n",
       "    </tr>\n",
       "  </thead>\n",
       "  <tbody>\n",
       "    <tr>\n",
       "      <th>0</th>\n",
       "      <td>9</td>\n",
       "      <td>0.77</td>\n",
       "      <td>1.007</td>\n",
       "      <td>0.1</td>\n",
       "      <td>0.08</td>\n",
       "      <td>4.2</td>\n",
       "      <td>9</td>\n",
       "    </tr>\n",
       "  </tbody>\n",
       "</table>\n",
       "</div>"
      ],
      "text/plain": [
       "   cloud_cover  humidity  pressure  global_radiation  precipitation  sunshine  \\\n",
       "0            9      0.77     1.007               0.1           0.08       4.2   \n",
       "\n",
       "   temperature  \n",
       "0            9  "
      ]
     },
     "execution_count": 38,
     "metadata": {},
     "output_type": "execute_result"
    }
   ],
   "source": [
    "new_data=new_data.drop(['DATE','MONTH'],axis=1)\n",
    "new_data"
   ]
  },
  {
   "cell_type": "code",
   "execution_count": 47,
   "metadata": {},
   "outputs": [
    {
     "ename": "TypeError",
     "evalue": "cannot concatenate object of type '<class 'bool'>'; only Series and DataFrame objs are valid",
     "output_type": "error",
     "traceback": [
      "\u001b[1;31m---------------------------------------------------------------------------\u001b[0m",
      "\u001b[1;31mTypeError\u001b[0m                                 Traceback (most recent call last)",
      "Cell \u001b[1;32mIn[47], line 1\u001b[0m\n\u001b[1;32m----> 1\u001b[0m new_data \u001b[38;5;241m=\u001b[39m pd\u001b[38;5;241m.\u001b[39mconcat([weather_df_c, new_data])\u001b[38;5;241m.\u001b[39mreset_index(drop\u001b[38;5;241m=\u001b[39m\u001b[38;5;28;01mTrue\u001b[39;00m)\n\u001b[0;32m      2\u001b[0m new_data\n",
      "File \u001b[1;32m~\\hridhthik-python\\Lib\\site-packages\\pandas\\core\\reshape\\concat.py:382\u001b[0m, in \u001b[0;36mconcat\u001b[1;34m(objs, axis, join, ignore_index, keys, levels, names, verify_integrity, sort, copy)\u001b[0m\n\u001b[0;32m    379\u001b[0m \u001b[38;5;28;01melif\u001b[39;00m copy \u001b[38;5;129;01mand\u001b[39;00m using_copy_on_write():\n\u001b[0;32m    380\u001b[0m     copy \u001b[38;5;241m=\u001b[39m \u001b[38;5;28;01mFalse\u001b[39;00m\n\u001b[1;32m--> 382\u001b[0m op \u001b[38;5;241m=\u001b[39m _Concatenator(\n\u001b[0;32m    383\u001b[0m     objs,\n\u001b[0;32m    384\u001b[0m     axis\u001b[38;5;241m=\u001b[39maxis,\n\u001b[0;32m    385\u001b[0m     ignore_index\u001b[38;5;241m=\u001b[39mignore_index,\n\u001b[0;32m    386\u001b[0m     join\u001b[38;5;241m=\u001b[39mjoin,\n\u001b[0;32m    387\u001b[0m     keys\u001b[38;5;241m=\u001b[39mkeys,\n\u001b[0;32m    388\u001b[0m     levels\u001b[38;5;241m=\u001b[39mlevels,\n\u001b[0;32m    389\u001b[0m     names\u001b[38;5;241m=\u001b[39mnames,\n\u001b[0;32m    390\u001b[0m     verify_integrity\u001b[38;5;241m=\u001b[39mverify_integrity,\n\u001b[0;32m    391\u001b[0m     copy\u001b[38;5;241m=\u001b[39mcopy,\n\u001b[0;32m    392\u001b[0m     sort\u001b[38;5;241m=\u001b[39msort,\n\u001b[0;32m    393\u001b[0m )\n\u001b[0;32m    395\u001b[0m \u001b[38;5;28;01mreturn\u001b[39;00m op\u001b[38;5;241m.\u001b[39mget_result()\n",
      "File \u001b[1;32m~\\hridhthik-python\\Lib\\site-packages\\pandas\\core\\reshape\\concat.py:448\u001b[0m, in \u001b[0;36m_Concatenator.__init__\u001b[1;34m(self, objs, axis, join, keys, levels, names, ignore_index, verify_integrity, copy, sort)\u001b[0m\n\u001b[0;32m    445\u001b[0m objs, keys \u001b[38;5;241m=\u001b[39m \u001b[38;5;28mself\u001b[39m\u001b[38;5;241m.\u001b[39m_clean_keys_and_objs(objs, keys)\n\u001b[0;32m    447\u001b[0m \u001b[38;5;66;03m# figure out what our result ndim is going to be\u001b[39;00m\n\u001b[1;32m--> 448\u001b[0m ndims \u001b[38;5;241m=\u001b[39m \u001b[38;5;28mself\u001b[39m\u001b[38;5;241m.\u001b[39m_get_ndims(objs)\n\u001b[0;32m    449\u001b[0m sample, objs \u001b[38;5;241m=\u001b[39m \u001b[38;5;28mself\u001b[39m\u001b[38;5;241m.\u001b[39m_get_sample_object(objs, ndims, keys, names, levels)\n\u001b[0;32m    451\u001b[0m \u001b[38;5;66;03m# Standardize axis parameter to int\u001b[39;00m\n",
      "File \u001b[1;32m~\\hridhthik-python\\Lib\\site-packages\\pandas\\core\\reshape\\concat.py:489\u001b[0m, in \u001b[0;36m_Concatenator._get_ndims\u001b[1;34m(self, objs)\u001b[0m\n\u001b[0;32m    484\u001b[0m     \u001b[38;5;28;01mif\u001b[39;00m \u001b[38;5;129;01mnot\u001b[39;00m \u001b[38;5;28misinstance\u001b[39m(obj, (ABCSeries, ABCDataFrame)):\n\u001b[0;32m    485\u001b[0m         msg \u001b[38;5;241m=\u001b[39m (\n\u001b[0;32m    486\u001b[0m             \u001b[38;5;124mf\u001b[39m\u001b[38;5;124m\"\u001b[39m\u001b[38;5;124mcannot concatenate object of type \u001b[39m\u001b[38;5;124m'\u001b[39m\u001b[38;5;132;01m{\u001b[39;00m\u001b[38;5;28mtype\u001b[39m(obj)\u001b[38;5;132;01m}\u001b[39;00m\u001b[38;5;124m'\u001b[39m\u001b[38;5;124m; \u001b[39m\u001b[38;5;124m\"\u001b[39m\n\u001b[0;32m    487\u001b[0m             \u001b[38;5;124m\"\u001b[39m\u001b[38;5;124monly Series and DataFrame objs are valid\u001b[39m\u001b[38;5;124m\"\u001b[39m\n\u001b[0;32m    488\u001b[0m         )\n\u001b[1;32m--> 489\u001b[0m         \u001b[38;5;28;01mraise\u001b[39;00m \u001b[38;5;167;01mTypeError\u001b[39;00m(msg)\n\u001b[0;32m    491\u001b[0m     ndims\u001b[38;5;241m.\u001b[39madd(obj\u001b[38;5;241m.\u001b[39mndim)\n\u001b[0;32m    492\u001b[0m \u001b[38;5;28;01mreturn\u001b[39;00m ndims\n",
      "\u001b[1;31mTypeError\u001b[0m: cannot concatenate object of type '<class 'bool'>'; only Series and DataFrame objs are valid"
     ]
    }
   ],
   "source": [
    "new_data = pd.concat([weather_df_c, new_data],ignore_index=True)\n",
    "new_data\n"
   ]
  },
  {
   "cell_type": "code",
   "execution_count": 26,
   "metadata": {},
   "outputs": [],
   "source": [
    "# Append the new row to the original DataFrame\n",
    "\n"
   ]
  },
  {
   "cell_type": "code",
   "execution_count": 27,
   "metadata": {},
   "outputs": [],
   "source": [
    "# Standardizing data together\n"
   ]
  },
  {
   "cell_type": "markdown",
   "metadata": {},
   "source": [
    "### Extract out the new data from the origial data after scalling, which will be used for prediction"
   ]
  },
  {
   "cell_type": "code",
   "execution_count": 29,
   "metadata": {},
   "outputs": [],
   "source": [
    "# Extract the last row index\n",
    "\n",
    "\n",
    "# Extract the last row using iloc and store in a new DataFrame\n",
    "\n",
    "\n",
    "# Reshape the extracted Series into a DataFrame (optional)\n"
   ]
  },
  {
   "cell_type": "code",
   "execution_count": 30,
   "metadata": {},
   "outputs": [],
   "source": [
    "# Retrieve original data by excluding new data\n"
   ]
  },
  {
   "cell_type": "markdown",
   "metadata": {},
   "source": [
    "### 4. Feature Selection\n",
    "### Pearson correlation coefficient: To find the correlation between different variables in data\n",
    "#### Positive Correlation: If variable A increases, then variable B also increases and vice-versa.\n",
    "#### Negative Correlation: If variable A increases, then variable B decreases and vice-versa.\n",
    "#### Zero value means no correlation. \n"
   ]
  },
  {
   "cell_type": "code",
   "execution_count": 32,
   "metadata": {},
   "outputs": [],
   "source": [
    "# Plotting heatmap\n",
    "\n"
   ]
  },
  {
   "cell_type": "code",
   "execution_count": 33,
   "metadata": {},
   "outputs": [],
   "source": [
    "# To show the correlation values from most negatively correlated to the most positively correlated.\n"
   ]
  },
  {
   "cell_type": "markdown",
   "metadata": {},
   "source": [
    "### Decision:\n",
    "### The value of Pearson correlation coefficient can vary from -1 to 1.   "
   ]
  },
  {
   "cell_type": "code",
   "execution_count": null,
   "metadata": {},
   "outputs": [],
   "source": []
  },
  {
   "cell_type": "code",
   "execution_count": 35,
   "metadata": {},
   "outputs": [],
   "source": [
    "# Feature selection based on correlation\n",
    "\n"
   ]
  },
  {
   "cell_type": "markdown",
   "metadata": {},
   "source": [
    "## Temperature Prediction (one single feature at one time in case of simple linear regression)"
   ]
  },
  {
   "cell_type": "markdown",
   "metadata": {},
   "source": [
    "### 1. Temperature Prediction using 'global_radiation'"
   ]
  },
  {
   "cell_type": "markdown",
   "metadata": {},
   "source": [
    "#### Visualization of Data"
   ]
  },
  {
   "cell_type": "code",
   "execution_count": null,
   "metadata": {
    "colab": {
     "base_uri": "https://localhost:8080/",
     "height": 282
    },
    "id": "14-1DLQXURW_",
    "outputId": "8e095e35-6239-49dd-cdcc-5201a51c38b1"
   },
   "outputs": [],
   "source": []
  },
  {
   "cell_type": "markdown",
   "metadata": {},
   "source": [
    "#### Splitting data"
   ]
  },
  {
   "cell_type": "code",
   "execution_count": null,
   "metadata": {
    "id": "3-UG-UO9V9Fp"
   },
   "outputs": [],
   "source": []
  },
  {
   "cell_type": "markdown",
   "metadata": {},
   "source": [
    "##### Calculation of a and b for full data"
   ]
  },
  {
   "cell_type": "code",
   "execution_count": 41,
   "metadata": {
    "id": "CmHy54BJUU1A"
   },
   "outputs": [],
   "source": [
    "# Build model and fit with data\n"
   ]
  },
  {
   "cell_type": "code",
   "execution_count": 42,
   "metadata": {
    "colab": {
     "base_uri": "https://localhost:8080/"
    },
    "id": "2K2Si0A-UXKQ",
    "outputId": "5ed1abcc-2fae-4ecf-bdbf-3b2f3e9dfba7"
   },
   "outputs": [],
   "source": [
    "# print intercept and slope of the model\n"
   ]
  },
  {
   "cell_type": "markdown",
   "metadata": {},
   "source": [
    "### Predict the model"
   ]
  },
  {
   "cell_type": "code",
   "execution_count": 44,
   "metadata": {
    "colab": {
     "base_uri": "https://localhost:8080/"
    },
    "id": "PbJqBHHqUaaY",
    "outputId": "3ec29e23-c9b8-425b-81b4-0c49cae8b13b"
   },
   "outputs": [],
   "source": [
    "# Predict the model using test data\n"
   ]
  },
  {
   "cell_type": "markdown",
   "metadata": {},
   "source": [
    "## Evaluating the model performance"
   ]
  },
  {
   "cell_type": "code",
   "execution_count": 46,
   "metadata": {
    "colab": {
     "base_uri": "https://localhost:8080/"
    },
    "id": "44LL6AZ9UdiZ",
    "outputId": "c3859867-c508-43f0-8c8d-75c239e4b2a3"
   },
   "outputs": [],
   "source": [
    "# Evaluate MSE, MAE, RMSE\n"
   ]
  },
  {
   "cell_type": "code",
   "execution_count": 47,
   "metadata": {},
   "outputs": [],
   "source": [
    "# Evaluate R2 Score\n"
   ]
  },
  {
   "cell_type": "markdown",
   "metadata": {},
   "source": [
    "### Predicting new data "
   ]
  },
  {
   "cell_type": "code",
   "execution_count": 49,
   "metadata": {},
   "outputs": [],
   "source": [
    "# Reshape the new data into a 2D array for prediction\n"
   ]
  },
  {
   "cell_type": "code",
   "execution_count": 50,
   "metadata": {},
   "outputs": [],
   "source": [
    "# Predict the target value for the new data\n",
    "\n",
    "\n",
    "# Print the predicted value\n"
   ]
  },
  {
   "cell_type": "code",
   "execution_count": 51,
   "metadata": {},
   "outputs": [],
   "source": [
    "# Original value of the new data to compare\n"
   ]
  },
  {
   "cell_type": "markdown",
   "metadata": {},
   "source": [
    "## Model Assumptions"
   ]
  },
  {
   "cell_type": "markdown",
   "metadata": {},
   "source": [
    "### Checking for Linear Relationship"
   ]
  },
  {
   "cell_type": "markdown",
   "metadata": {},
   "source": [
    "Linearity: Assumes that there is a linear relationship between the predictors and\n",
    "               the response variable. If not, either a quadratic term or another\n",
    "               algorithm should be used."
   ]
  },
  {
   "cell_type": "code",
   "execution_count": 55,
   "metadata": {},
   "outputs": [],
   "source": [
    "def calculate_residuals(model, features, label):\n",
    "    \"\"\"\n",
    "    Creates predictions on the features with the model and calculates residuals\n",
    "    \"\"\"\n",
    "    pass\n",
    "\n",
    "def linear_assumption(model, features, label):\n",
    "    pass\n",
    "    \n"
   ]
  },
  {
   "cell_type": "code",
   "execution_count": 56,
   "metadata": {},
   "outputs": [],
   "source": [
    "# call the function\n"
   ]
  },
  {
   "cell_type": "markdown",
   "metadata": {},
   "source": [
    "Interpretation: \n",
    "    "
   ]
  },
  {
   "cell_type": "markdown",
   "metadata": {},
   "source": [
    "###  Checking Homoscedasticity: Plot the residuals of linear regression\n",
    "Homoscedasticity: Residuals have equal or almost equal variance across the regression line. There should not be any pattern in the error terms. It can be checked by plotting the error terms with predicted terms."
   ]
  },
  {
   "cell_type": "code",
   "execution_count": 59,
   "metadata": {},
   "outputs": [],
   "source": [
    "def homoscedasticity_assumption(model, features, label):\n",
    "    \"\"\"\n",
    "    Homoscedasticity: Assumes that the errors exhibit constant variance\n",
    "    \"\"\"\n",
    "    pass"
   ]
  },
  {
   "cell_type": "code",
   "execution_count": 60,
   "metadata": {},
   "outputs": [],
   "source": [
    "# call the function\n"
   ]
  },
  {
   "cell_type": "markdown",
   "metadata": {},
   "source": [
    "Interpretation: \n"
   ]
  },
  {
   "cell_type": "markdown",
   "metadata": {},
   "source": [
    "### Error Normality curve"
   ]
  },
  {
   "cell_type": "code",
   "execution_count": null,
   "metadata": {},
   "outputs": [],
   "source": []
  },
  {
   "cell_type": "markdown",
   "metadata": {},
   "source": [
    "Interpretation:"
   ]
  },
  {
   "cell_type": "markdown",
   "metadata": {},
   "source": [
    "### Plot for data with Regression Line"
   ]
  },
  {
   "cell_type": "code",
   "execution_count": null,
   "metadata": {
    "colab": {
     "base_uri": "https://localhost:8080/",
     "height": 286
    },
    "id": "3yXZlYqLUnnQ",
    "outputId": "20778adf-cc1d-4eae-8a77-bf79ee602ab6"
   },
   "outputs": [],
   "source": []
  },
  {
   "cell_type": "markdown",
   "metadata": {},
   "source": [
    "## Overall Interpretation\n"
   ]
  },
  {
   "cell_type": "markdown",
   "metadata": {},
   "source": [
    "\n"
   ]
  }
 ],
 "metadata": {
  "colab": {
   "collapsed_sections": [],
   "name": "DS2_C05_S2_Linear_Regression_Concept_Solution.ipynb",
   "provenance": []
  },
  "kernelspec": {
   "display_name": "Python 3 (ipykernel)",
   "language": "python",
   "name": "python3"
  },
  "language_info": {
   "codemirror_mode": {
    "name": "ipython",
    "version": 3
   },
   "file_extension": ".py",
   "mimetype": "text/x-python",
   "name": "python",
   "nbconvert_exporter": "python",
   "pygments_lexer": "ipython3",
   "version": "3.12.7"
  }
 },
 "nbformat": 4,
 "nbformat_minor": 4
}
