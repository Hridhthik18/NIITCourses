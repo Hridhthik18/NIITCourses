{
 "cells": [
  {
   "cell_type": "markdown",
   "metadata": {},
   "source": [
    "# Prediction Using Multiple Linear Regression"
   ]
  },
  {
   "cell_type": "markdown",
   "metadata": {},
   "source": [
    "# Concept Session"
   ]
  },
  {
   "cell_type": "markdown",
   "metadata": {
    "id": "sswfPdYhbyah"
   },
   "source": [
    "## Demo 3.1 : Multiple Linear Regression "
   ]
  },
  {
   "cell_type": "markdown",
   "metadata": {},
   "source": [
    "### Importing the required Python packages"
   ]
  },
  {
   "cell_type": "code",
   "execution_count": 5,
   "metadata": {
    "id": "nkkHawMxUKvU"
   },
   "outputs": [],
   "source": [
    "import numpy as np\n",
    "import pandas as pd\n",
    "import matplotlib.pyplot as plt\n",
    "\n",
    "from sklearn.linear_model import LinearRegression\n",
    "from sklearn.model_selection import train_test_split\n",
    "from sklearn.metrics import mean_squared_error\n",
    "from sklearn.metrics import mean_absolute_error\n",
    "from sklearn.metrics import r2_score\n",
    "\n",
    "from sklearn.preprocessing import StandardScaler\n",
    "import seaborn as sns\n",
    "\n",
    "import warnings\n",
    "warnings.filterwarnings(\"ignore\")"
   ]
  },
  {
   "cell_type": "markdown",
   "metadata": {},
   "source": [
    "### Reading the data"
   ]
  },
  {
   "cell_type": "code",
   "execution_count": 7,
   "metadata": {
    "colab": {
     "base_uri": "https://localhost:8080/",
     "height": 850
    },
    "id": "8yG57U1hUQni",
    "outputId": "b8b84fdf-aa10-4292-fc01-700c379da3f7"
   },
   "outputs": [
    {
     "data": {
      "text/html": [
       "<div>\n",
       "<style scoped>\n",
       "    .dataframe tbody tr th:only-of-type {\n",
       "        vertical-align: middle;\n",
       "    }\n",
       "\n",
       "    .dataframe tbody tr th {\n",
       "        vertical-align: top;\n",
       "    }\n",
       "\n",
       "    .dataframe thead th {\n",
       "        text-align: right;\n",
       "    }\n",
       "</style>\n",
       "<table border=\"1\" class=\"dataframe\">\n",
       "  <thead>\n",
       "    <tr style=\"text-align: right;\">\n",
       "      <th></th>\n",
       "      <th>DATE</th>\n",
       "      <th>MONTH</th>\n",
       "      <th>cloud_cover</th>\n",
       "      <th>humidity</th>\n",
       "      <th>pressure</th>\n",
       "      <th>global_radiation</th>\n",
       "      <th>precipitation</th>\n",
       "      <th>sunshine</th>\n",
       "      <th>temperature</th>\n",
       "    </tr>\n",
       "  </thead>\n",
       "  <tbody>\n",
       "    <tr>\n",
       "      <th>0</th>\n",
       "      <td>20000101</td>\n",
       "      <td>1</td>\n",
       "      <td>8</td>\n",
       "      <td>0.89</td>\n",
       "      <td>1.0286</td>\n",
       "      <td>0.20</td>\n",
       "      <td>0.03</td>\n",
       "      <td>0.0</td>\n",
       "      <td>2.9</td>\n",
       "    </tr>\n",
       "    <tr>\n",
       "      <th>1</th>\n",
       "      <td>20000102</td>\n",
       "      <td>1</td>\n",
       "      <td>8</td>\n",
       "      <td>0.87</td>\n",
       "      <td>1.0318</td>\n",
       "      <td>0.25</td>\n",
       "      <td>0.00</td>\n",
       "      <td>0.0</td>\n",
       "      <td>3.6</td>\n",
       "    </tr>\n",
       "    <tr>\n",
       "      <th>2</th>\n",
       "      <td>20000103</td>\n",
       "      <td>1</td>\n",
       "      <td>5</td>\n",
       "      <td>0.81</td>\n",
       "      <td>1.0314</td>\n",
       "      <td>0.50</td>\n",
       "      <td>0.00</td>\n",
       "      <td>3.7</td>\n",
       "      <td>2.2</td>\n",
       "    </tr>\n",
       "    <tr>\n",
       "      <th>3</th>\n",
       "      <td>20000104</td>\n",
       "      <td>1</td>\n",
       "      <td>7</td>\n",
       "      <td>0.79</td>\n",
       "      <td>1.0262</td>\n",
       "      <td>0.63</td>\n",
       "      <td>0.35</td>\n",
       "      <td>6.9</td>\n",
       "      <td>3.9</td>\n",
       "    </tr>\n",
       "    <tr>\n",
       "      <th>4</th>\n",
       "      <td>20000105</td>\n",
       "      <td>1</td>\n",
       "      <td>5</td>\n",
       "      <td>0.90</td>\n",
       "      <td>1.0246</td>\n",
       "      <td>0.51</td>\n",
       "      <td>0.07</td>\n",
       "      <td>3.7</td>\n",
       "      <td>6.0</td>\n",
       "    </tr>\n",
       "    <tr>\n",
       "      <th>...</th>\n",
       "      <td>...</td>\n",
       "      <td>...</td>\n",
       "      <td>...</td>\n",
       "      <td>...</td>\n",
       "      <td>...</td>\n",
       "      <td>...</td>\n",
       "      <td>...</td>\n",
       "      <td>...</td>\n",
       "      <td>...</td>\n",
       "    </tr>\n",
       "    <tr>\n",
       "      <th>3649</th>\n",
       "      <td>20091228</td>\n",
       "      <td>12</td>\n",
       "      <td>7</td>\n",
       "      <td>0.82</td>\n",
       "      <td>1.0084</td>\n",
       "      <td>0.28</td>\n",
       "      <td>0.42</td>\n",
       "      <td>0.3</td>\n",
       "      <td>3.2</td>\n",
       "    </tr>\n",
       "    <tr>\n",
       "      <th>3650</th>\n",
       "      <td>20091229</td>\n",
       "      <td>12</td>\n",
       "      <td>7</td>\n",
       "      <td>0.92</td>\n",
       "      <td>1.0028</td>\n",
       "      <td>0.22</td>\n",
       "      <td>1.68</td>\n",
       "      <td>0.2</td>\n",
       "      <td>4.5</td>\n",
       "    </tr>\n",
       "    <tr>\n",
       "      <th>3651</th>\n",
       "      <td>20091230</td>\n",
       "      <td>12</td>\n",
       "      <td>8</td>\n",
       "      <td>0.92</td>\n",
       "      <td>0.9979</td>\n",
       "      <td>0.07</td>\n",
       "      <td>1.54</td>\n",
       "      <td>0.0</td>\n",
       "      <td>8.5</td>\n",
       "    </tr>\n",
       "    <tr>\n",
       "      <th>3652</th>\n",
       "      <td>20091231</td>\n",
       "      <td>12</td>\n",
       "      <td>7</td>\n",
       "      <td>0.93</td>\n",
       "      <td>0.9958</td>\n",
       "      <td>0.17</td>\n",
       "      <td>0.57</td>\n",
       "      <td>0.1</td>\n",
       "      <td>6.6</td>\n",
       "    </tr>\n",
       "    <tr>\n",
       "      <th>3653</th>\n",
       "      <td>20100101</td>\n",
       "      <td>1</td>\n",
       "      <td>8</td>\n",
       "      <td>0.93</td>\n",
       "      <td>0.9965</td>\n",
       "      <td>0.08</td>\n",
       "      <td>0.56</td>\n",
       "      <td>0.0</td>\n",
       "      <td>2.9</td>\n",
       "    </tr>\n",
       "  </tbody>\n",
       "</table>\n",
       "<p>3654 rows × 9 columns</p>\n",
       "</div>"
      ],
      "text/plain": [
       "          DATE  MONTH  cloud_cover  humidity  pressure  global_radiation  \\\n",
       "0     20000101      1            8      0.89    1.0286              0.20   \n",
       "1     20000102      1            8      0.87    1.0318              0.25   \n",
       "2     20000103      1            5      0.81    1.0314              0.50   \n",
       "3     20000104      1            7      0.79    1.0262              0.63   \n",
       "4     20000105      1            5      0.90    1.0246              0.51   \n",
       "...        ...    ...          ...       ...       ...               ...   \n",
       "3649  20091228     12            7      0.82    1.0084              0.28   \n",
       "3650  20091229     12            7      0.92    1.0028              0.22   \n",
       "3651  20091230     12            8      0.92    0.9979              0.07   \n",
       "3652  20091231     12            7      0.93    0.9958              0.17   \n",
       "3653  20100101      1            8      0.93    0.9965              0.08   \n",
       "\n",
       "      precipitation  sunshine  temperature  \n",
       "0              0.03       0.0          2.9  \n",
       "1              0.00       0.0          3.6  \n",
       "2              0.00       3.7          2.2  \n",
       "3              0.35       6.9          3.9  \n",
       "4              0.07       3.7          6.0  \n",
       "...             ...       ...          ...  \n",
       "3649           0.42       0.3          3.2  \n",
       "3650           1.68       0.2          4.5  \n",
       "3651           1.54       0.0          8.5  \n",
       "3652           0.57       0.1          6.6  \n",
       "3653           0.56       0.0          2.9  \n",
       "\n",
       "[3654 rows x 9 columns]"
      ]
     },
     "execution_count": 7,
     "metadata": {},
     "output_type": "execute_result"
    }
   ],
   "source": [
    "weather_df=pd.read_csv('DS1_C9_S3_Concept_BASEL_Weather_Data.csv')\n",
    "weather_df"
   ]
  },
  {
   "cell_type": "markdown",
   "metadata": {},
   "source": [
    "### Understanding Data"
   ]
  },
  {
   "cell_type": "code",
   "execution_count": 9,
   "metadata": {},
   "outputs": [
    {
     "name": "stdout",
     "output_type": "stream",
     "text": [
      "<class 'pandas.core.frame.DataFrame'>\n",
      "RangeIndex: 3654 entries, 0 to 3653\n",
      "Data columns (total 9 columns):\n",
      " #   Column            Non-Null Count  Dtype  \n",
      "---  ------            --------------  -----  \n",
      " 0   DATE              3654 non-null   int64  \n",
      " 1   MONTH             3654 non-null   int64  \n",
      " 2   cloud_cover       3654 non-null   int64  \n",
      " 3   humidity          3654 non-null   float64\n",
      " 4   pressure          3654 non-null   float64\n",
      " 5   global_radiation  3654 non-null   float64\n",
      " 6   precipitation     3654 non-null   float64\n",
      " 7   sunshine          3654 non-null   float64\n",
      " 8   temperature       3654 non-null   float64\n",
      "dtypes: float64(6), int64(3)\n",
      "memory usage: 257.1 KB\n"
     ]
    }
   ],
   "source": [
    "weather_df.info()"
   ]
  },
  {
   "cell_type": "code",
   "execution_count": 10,
   "metadata": {},
   "outputs": [
    {
     "data": {
      "text/plain": [
       "DATE                0\n",
       "MONTH               0\n",
       "cloud_cover         0\n",
       "humidity            0\n",
       "pressure            0\n",
       "global_radiation    0\n",
       "precipitation       0\n",
       "sunshine            0\n",
       "temperature         0\n",
       "dtype: int64"
      ]
     },
     "execution_count": 10,
     "metadata": {},
     "output_type": "execute_result"
    }
   ],
   "source": [
    "weather_df.isnull().sum()"
   ]
  },
  {
   "cell_type": "code",
   "execution_count": 11,
   "metadata": {},
   "outputs": [
    {
     "data": {
      "text/html": [
       "<div>\n",
       "<style scoped>\n",
       "    .dataframe tbody tr th:only-of-type {\n",
       "        vertical-align: middle;\n",
       "    }\n",
       "\n",
       "    .dataframe tbody tr th {\n",
       "        vertical-align: top;\n",
       "    }\n",
       "\n",
       "    .dataframe thead th {\n",
       "        text-align: right;\n",
       "    }\n",
       "</style>\n",
       "<table border=\"1\" class=\"dataframe\">\n",
       "  <thead>\n",
       "    <tr style=\"text-align: right;\">\n",
       "      <th></th>\n",
       "      <th>DATE</th>\n",
       "      <th>MONTH</th>\n",
       "      <th>cloud_cover</th>\n",
       "      <th>humidity</th>\n",
       "      <th>pressure</th>\n",
       "      <th>global_radiation</th>\n",
       "      <th>precipitation</th>\n",
       "      <th>sunshine</th>\n",
       "      <th>temperature</th>\n",
       "    </tr>\n",
       "  </thead>\n",
       "  <tbody>\n",
       "    <tr>\n",
       "      <th>0</th>\n",
       "      <td>20240426</td>\n",
       "      <td>4</td>\n",
       "      <td>9</td>\n",
       "      <td>0.77</td>\n",
       "      <td>1.007</td>\n",
       "      <td>0.1</td>\n",
       "      <td>0.08</td>\n",
       "      <td>4.2</td>\n",
       "      <td>9</td>\n",
       "    </tr>\n",
       "  </tbody>\n",
       "</table>\n",
       "</div>"
      ],
      "text/plain": [
       "       DATE  MONTH  cloud_cover  humidity  pressure  global_radiation  \\\n",
       "0  20240426      4            9      0.77     1.007               0.1   \n",
       "\n",
       "   precipitation  sunshine  temperature  \n",
       "0           0.08       4.2            9  "
      ]
     },
     "execution_count": 11,
     "metadata": {},
     "output_type": "execute_result"
    }
   ],
   "source": [
    "new=pd.read_csv('DS1_C9_S3_Concept_New_Data.csv')\n",
    "new"
   ]
  },
  {
   "cell_type": "markdown",
   "metadata": {},
   "source": [
    "### Variables"
   ]
  },
  {
   "cell_type": "markdown",
   "metadata": {},
   "source": [
    "Dependent Variable: temperature\n",
    "\n",
    "Independent Variables: humidity, pressure, cloud_cover, global_radiation, precipitation, sunshine"
   ]
  },
  {
   "cell_type": "markdown",
   "metadata": {},
   "source": [
    "### Performing data preparation"
   ]
  },
  {
   "cell_type": "code",
   "execution_count": 15,
   "metadata": {},
   "outputs": [
    {
     "data": {
      "text/html": [
       "<div>\n",
       "<style scoped>\n",
       "    .dataframe tbody tr th:only-of-type {\n",
       "        vertical-align: middle;\n",
       "    }\n",
       "\n",
       "    .dataframe tbody tr th {\n",
       "        vertical-align: top;\n",
       "    }\n",
       "\n",
       "    .dataframe thead th {\n",
       "        text-align: right;\n",
       "    }\n",
       "</style>\n",
       "<table border=\"1\" class=\"dataframe\">\n",
       "  <thead>\n",
       "    <tr style=\"text-align: right;\">\n",
       "      <th></th>\n",
       "      <th>cloud_cover</th>\n",
       "      <th>humidity</th>\n",
       "      <th>pressure</th>\n",
       "      <th>global_radiation</th>\n",
       "      <th>precipitation</th>\n",
       "      <th>sunshine</th>\n",
       "      <th>temperature</th>\n",
       "    </tr>\n",
       "  </thead>\n",
       "  <tbody>\n",
       "    <tr>\n",
       "      <th>0</th>\n",
       "      <td>8</td>\n",
       "      <td>0.89</td>\n",
       "      <td>1.0286</td>\n",
       "      <td>0.20</td>\n",
       "      <td>0.03</td>\n",
       "      <td>0.0</td>\n",
       "      <td>2.9</td>\n",
       "    </tr>\n",
       "    <tr>\n",
       "      <th>1</th>\n",
       "      <td>8</td>\n",
       "      <td>0.87</td>\n",
       "      <td>1.0318</td>\n",
       "      <td>0.25</td>\n",
       "      <td>0.00</td>\n",
       "      <td>0.0</td>\n",
       "      <td>3.6</td>\n",
       "    </tr>\n",
       "    <tr>\n",
       "      <th>2</th>\n",
       "      <td>5</td>\n",
       "      <td>0.81</td>\n",
       "      <td>1.0314</td>\n",
       "      <td>0.50</td>\n",
       "      <td>0.00</td>\n",
       "      <td>3.7</td>\n",
       "      <td>2.2</td>\n",
       "    </tr>\n",
       "    <tr>\n",
       "      <th>3</th>\n",
       "      <td>7</td>\n",
       "      <td>0.79</td>\n",
       "      <td>1.0262</td>\n",
       "      <td>0.63</td>\n",
       "      <td>0.35</td>\n",
       "      <td>6.9</td>\n",
       "      <td>3.9</td>\n",
       "    </tr>\n",
       "    <tr>\n",
       "      <th>4</th>\n",
       "      <td>5</td>\n",
       "      <td>0.90</td>\n",
       "      <td>1.0246</td>\n",
       "      <td>0.51</td>\n",
       "      <td>0.07</td>\n",
       "      <td>3.7</td>\n",
       "      <td>6.0</td>\n",
       "    </tr>\n",
       "    <tr>\n",
       "      <th>...</th>\n",
       "      <td>...</td>\n",
       "      <td>...</td>\n",
       "      <td>...</td>\n",
       "      <td>...</td>\n",
       "      <td>...</td>\n",
       "      <td>...</td>\n",
       "      <td>...</td>\n",
       "    </tr>\n",
       "    <tr>\n",
       "      <th>3649</th>\n",
       "      <td>7</td>\n",
       "      <td>0.82</td>\n",
       "      <td>1.0084</td>\n",
       "      <td>0.28</td>\n",
       "      <td>0.42</td>\n",
       "      <td>0.3</td>\n",
       "      <td>3.2</td>\n",
       "    </tr>\n",
       "    <tr>\n",
       "      <th>3650</th>\n",
       "      <td>7</td>\n",
       "      <td>0.92</td>\n",
       "      <td>1.0028</td>\n",
       "      <td>0.22</td>\n",
       "      <td>1.68</td>\n",
       "      <td>0.2</td>\n",
       "      <td>4.5</td>\n",
       "    </tr>\n",
       "    <tr>\n",
       "      <th>3651</th>\n",
       "      <td>8</td>\n",
       "      <td>0.92</td>\n",
       "      <td>0.9979</td>\n",
       "      <td>0.07</td>\n",
       "      <td>1.54</td>\n",
       "      <td>0.0</td>\n",
       "      <td>8.5</td>\n",
       "    </tr>\n",
       "    <tr>\n",
       "      <th>3652</th>\n",
       "      <td>7</td>\n",
       "      <td>0.93</td>\n",
       "      <td>0.9958</td>\n",
       "      <td>0.17</td>\n",
       "      <td>0.57</td>\n",
       "      <td>0.1</td>\n",
       "      <td>6.6</td>\n",
       "    </tr>\n",
       "    <tr>\n",
       "      <th>3653</th>\n",
       "      <td>8</td>\n",
       "      <td>0.93</td>\n",
       "      <td>0.9965</td>\n",
       "      <td>0.08</td>\n",
       "      <td>0.56</td>\n",
       "      <td>0.0</td>\n",
       "      <td>2.9</td>\n",
       "    </tr>\n",
       "  </tbody>\n",
       "</table>\n",
       "<p>3654 rows × 7 columns</p>\n",
       "</div>"
      ],
      "text/plain": [
       "      cloud_cover  humidity  pressure  global_radiation  precipitation  \\\n",
       "0               8      0.89    1.0286              0.20           0.03   \n",
       "1               8      0.87    1.0318              0.25           0.00   \n",
       "2               5      0.81    1.0314              0.50           0.00   \n",
       "3               7      0.79    1.0262              0.63           0.35   \n",
       "4               5      0.90    1.0246              0.51           0.07   \n",
       "...           ...       ...       ...               ...            ...   \n",
       "3649            7      0.82    1.0084              0.28           0.42   \n",
       "3650            7      0.92    1.0028              0.22           1.68   \n",
       "3651            8      0.92    0.9979              0.07           1.54   \n",
       "3652            7      0.93    0.9958              0.17           0.57   \n",
       "3653            8      0.93    0.9965              0.08           0.56   \n",
       "\n",
       "      sunshine  temperature  \n",
       "0          0.0          2.9  \n",
       "1          0.0          3.6  \n",
       "2          3.7          2.2  \n",
       "3          6.9          3.9  \n",
       "4          3.7          6.0  \n",
       "...        ...          ...  \n",
       "3649       0.3          3.2  \n",
       "3650       0.2          4.5  \n",
       "3651       0.0          8.5  \n",
       "3652       0.1          6.6  \n",
       "3653       0.0          2.9  \n",
       "\n",
       "[3654 rows x 7 columns]"
      ]
     },
     "execution_count": 15,
     "metadata": {},
     "output_type": "execute_result"
    }
   ],
   "source": [
    "# removing first two columns from the data\n",
    "weather_df=weather_df.drop(['DATE','MONTH'],axis=1)\n",
    "weather_df"
   ]
  },
  {
   "cell_type": "markdown",
   "metadata": {},
   "source": [
    "### 1. Missing Value Treatment"
   ]
  },
  {
   "cell_type": "code",
   "execution_count": 17,
   "metadata": {},
   "outputs": [
    {
     "data": {
      "text/plain": [
       "cloud_cover         0\n",
       "humidity            0\n",
       "pressure            0\n",
       "global_radiation    0\n",
       "precipitation       0\n",
       "sunshine            0\n",
       "temperature         0\n",
       "dtype: int64"
      ]
     },
     "execution_count": 17,
     "metadata": {},
     "output_type": "execute_result"
    }
   ],
   "source": [
    "weather_df.isnull().sum()"
   ]
  },
  {
   "cell_type": "markdown",
   "metadata": {},
   "source": [
    "### 2. Outlier Treatment"
   ]
  },
  {
   "cell_type": "code",
   "execution_count": 19,
   "metadata": {},
   "outputs": [
    {
     "data": {
      "text/html": [
       "<div>\n",
       "<style scoped>\n",
       "    .dataframe tbody tr th:only-of-type {\n",
       "        vertical-align: middle;\n",
       "    }\n",
       "\n",
       "    .dataframe tbody tr th {\n",
       "        vertical-align: top;\n",
       "    }\n",
       "\n",
       "    .dataframe thead th {\n",
       "        text-align: right;\n",
       "    }\n",
       "</style>\n",
       "<table border=\"1\" class=\"dataframe\">\n",
       "  <thead>\n",
       "    <tr style=\"text-align: right;\">\n",
       "      <th></th>\n",
       "      <th>Columns</th>\n",
       "      <th>Max</th>\n",
       "      <th>Min</th>\n",
       "      <th>Range</th>\n",
       "      <th>Q1</th>\n",
       "      <th>Q3</th>\n",
       "      <th>IQR</th>\n",
       "      <th>UF</th>\n",
       "      <th>LF</th>\n",
       "      <th>Outliers</th>\n",
       "    </tr>\n",
       "  </thead>\n",
       "  <tbody>\n",
       "    <tr>\n",
       "      <th>0</th>\n",
       "      <td>cloud_cover</td>\n",
       "      <td>8.0000</td>\n",
       "      <td>0.0000</td>\n",
       "      <td>8.0000</td>\n",
       "      <td>4.0000</td>\n",
       "      <td>7.0000</td>\n",
       "      <td>3.0000</td>\n",
       "      <td>11.5000</td>\n",
       "      <td>-0.5000</td>\n",
       "      <td>[[], []]</td>\n",
       "    </tr>\n",
       "    <tr>\n",
       "      <th>1</th>\n",
       "      <td>humidity</td>\n",
       "      <td>0.9800</td>\n",
       "      <td>0.3800</td>\n",
       "      <td>0.6000</td>\n",
       "      <td>0.6700</td>\n",
       "      <td>0.8300</td>\n",
       "      <td>0.1600</td>\n",
       "      <td>1.0700</td>\n",
       "      <td>0.4300</td>\n",
       "      <td>[[], [0.38, 0.42, 0.4, 0.42, 0.42, 0.42, 0.43,...</td>\n",
       "    </tr>\n",
       "    <tr>\n",
       "      <th>2</th>\n",
       "      <td>pressure</td>\n",
       "      <td>1.0408</td>\n",
       "      <td>0.9856</td>\n",
       "      <td>0.0552</td>\n",
       "      <td>1.0133</td>\n",
       "      <td>1.0227</td>\n",
       "      <td>0.0094</td>\n",
       "      <td>1.0368</td>\n",
       "      <td>0.9992</td>\n",
       "      <td>[[1.0373, 1.0391, 1.0391, 1.0368, 1.0387, 1.03...</td>\n",
       "    </tr>\n",
       "    <tr>\n",
       "      <th>3</th>\n",
       "      <td>global_radiation</td>\n",
       "      <td>3.5500</td>\n",
       "      <td>0.0500</td>\n",
       "      <td>3.5000</td>\n",
       "      <td>0.5300</td>\n",
       "      <td>2.0600</td>\n",
       "      <td>1.5300</td>\n",
       "      <td>4.3550</td>\n",
       "      <td>-1.7650</td>\n",
       "      <td>[[], []]</td>\n",
       "    </tr>\n",
       "    <tr>\n",
       "      <th>4</th>\n",
       "      <td>precipitation</td>\n",
       "      <td>7.5700</td>\n",
       "      <td>0.0000</td>\n",
       "      <td>7.5700</td>\n",
       "      <td>0.0000</td>\n",
       "      <td>0.2100</td>\n",
       "      <td>0.2100</td>\n",
       "      <td>0.5250</td>\n",
       "      <td>-0.3150</td>\n",
       "      <td>[[0.65, 0.99, 1.27, 1.22, 0.9, 0.53, 0.56, 0.5...</td>\n",
       "    </tr>\n",
       "    <tr>\n",
       "      <th>5</th>\n",
       "      <td>sunshine</td>\n",
       "      <td>15.3000</td>\n",
       "      <td>0.0000</td>\n",
       "      <td>15.3000</td>\n",
       "      <td>0.5000</td>\n",
       "      <td>8.0000</td>\n",
       "      <td>7.5000</td>\n",
       "      <td>19.2500</td>\n",
       "      <td>-10.7500</td>\n",
       "      <td>[[], []]</td>\n",
       "    </tr>\n",
       "    <tr>\n",
       "      <th>6</th>\n",
       "      <td>temperature</td>\n",
       "      <td>29.0000</td>\n",
       "      <td>-9.3000</td>\n",
       "      <td>38.3000</td>\n",
       "      <td>5.3000</td>\n",
       "      <td>16.9000</td>\n",
       "      <td>11.6000</td>\n",
       "      <td>34.3000</td>\n",
       "      <td>-12.1000</td>\n",
       "      <td>[[], []]</td>\n",
       "    </tr>\n",
       "  </tbody>\n",
       "</table>\n",
       "</div>"
      ],
      "text/plain": [
       "            Columns      Max     Min    Range      Q1       Q3      IQR  \\\n",
       "0       cloud_cover   8.0000  0.0000   8.0000  4.0000   7.0000   3.0000   \n",
       "1          humidity   0.9800  0.3800   0.6000  0.6700   0.8300   0.1600   \n",
       "2          pressure   1.0408  0.9856   0.0552  1.0133   1.0227   0.0094   \n",
       "3  global_radiation   3.5500  0.0500   3.5000  0.5300   2.0600   1.5300   \n",
       "4     precipitation   7.5700  0.0000   7.5700  0.0000   0.2100   0.2100   \n",
       "5          sunshine  15.3000  0.0000  15.3000  0.5000   8.0000   7.5000   \n",
       "6       temperature  29.0000 -9.3000  38.3000  5.3000  16.9000  11.6000   \n",
       "\n",
       "        UF       LF                                           Outliers  \n",
       "0  11.5000  -0.5000                                           [[], []]  \n",
       "1   1.0700   0.4300  [[], [0.38, 0.42, 0.4, 0.42, 0.42, 0.42, 0.43,...  \n",
       "2   1.0368   0.9992  [[1.0373, 1.0391, 1.0391, 1.0368, 1.0387, 1.03...  \n",
       "3   4.3550  -1.7650                                           [[], []]  \n",
       "4   0.5250  -0.3150  [[0.65, 0.99, 1.27, 1.22, 0.9, 0.53, 0.56, 0.5...  \n",
       "5  19.2500 -10.7500                                           [[], []]  \n",
       "6  34.3000 -12.1000                                           [[], []]  "
      ]
     },
     "execution_count": 19,
     "metadata": {},
     "output_type": "execute_result"
    }
   ],
   "source": [
    "# Outlier Treatment\n",
    "data=[]\n",
    "for col in weather_df:\n",
    "    lo=[]\n",
    "    uo=[]\n",
    "    column_df=pd.Series(weather_df[col])\n",
    "    Max=max(column_df)\n",
    "    Min=min(column_df)\n",
    "    Range=Max-Min\n",
    "    Q1=column_df.quantile(0.25)\n",
    "    Q3=column_df.quantile(0.75)\n",
    "    IQR=Q3-Q1\n",
    "    UF=Q3+1.5*IQR\n",
    "    LF=Q1-1.5*IQR\n",
    "    for z in weather_df[col]:\n",
    "        if z>UF:\n",
    "            uo.append(z)\n",
    "        elif z<LF:\n",
    "            lo.append(z)\n",
    "    data.append((col,Max,Min,Range,Q1,Q3,IQR,UF,LF,[uo,lo]))\n",
    "columns_names=[\"Columns\",\"Max\",\"Min\",\"Range\",\"Q1\",\"Q3\",\"IQR\",\"UF\",\"LF\",\"Outliers\"]\n",
    "datas=pd.DataFrame(data,columns=columns_names)\n",
    "datas"
   ]
  },
  {
   "cell_type": "code",
   "execution_count": 20,
   "metadata": {},
   "outputs": [
    {
     "data": {
      "image/png": "[encoded data removed]",
      "text/plain": [
       "<Figure size 1000x600 with 1 Axes>"
      ]
     },
     "metadata": {},
     "output_type": "display_data"
    }
   ],
   "source": [
    "sns.boxplot(data=weather_df)\n",
    "plt.gcf().set_size_inches(10,6)  #gcf-get current figure\n",
    "plt.show()"
   ]
  },
  {
   "cell_type": "code",
   "execution_count": 21,
   "metadata": {},
   "outputs": [],
   "source": [
    "def iqr_winsorisation(df,thresh=1.5):\n",
    "    df_out=df.copy()\n",
    "    col_to_treat=df_out.columns\n",
    "    for col in col_to_treat:\n",
    "        q1=df_out[col].quantile(0.25)\n",
    "        q3=df_out[col].quantile(0.75)\n",
    "        IQR = q3-q1\n",
    "        low_f=q1-thresh*IQR\n",
    "        upp_f=q3+thresh*IQR\n",
    "        # winsoe=rize outliers\n",
    "        df_out.loc[df_out[col]<low_f,col]=low_f\n",
    "        df_out.loc[df_out[col]>upp_f,col]=upp_f\n",
    "    return df_out"
   ]
  },
  {
   "cell_type": "code",
   "execution_count": 22,
   "metadata": {
    "scrolled": true
   },
   "outputs": [
    {
     "name": "stdout",
     "output_type": "stream",
     "text": [
      "      cloud_cover  humidity  pressure  global_radiation  precipitation  \\\n",
      "0             8.0      0.89    1.0286              0.20          0.030   \n",
      "1             8.0      0.87    1.0318              0.25          0.000   \n",
      "2             5.0      0.81    1.0314              0.50          0.000   \n",
      "3             7.0      0.79    1.0262              0.63          0.350   \n",
      "4             5.0      0.90    1.0246              0.51          0.070   \n",
      "...           ...       ...       ...               ...            ...   \n",
      "3649          7.0      0.82    1.0084              0.28          0.420   \n",
      "3650          7.0      0.92    1.0028              0.22          0.525   \n",
      "3651          8.0      0.92    0.9992              0.07          0.525   \n",
      "3652          7.0      0.93    0.9992              0.17          0.525   \n",
      "3653          8.0      0.93    0.9992              0.08          0.525   \n",
      "\n",
      "      sunshine  temperature  \n",
      "0          0.0          2.9  \n",
      "1          0.0          3.6  \n",
      "2          3.7          2.2  \n",
      "3          6.9          3.9  \n",
      "4          3.7          6.0  \n",
      "...        ...          ...  \n",
      "3649       0.3          3.2  \n",
      "3650       0.2          4.5  \n",
      "3651       0.0          8.5  \n",
      "3652       0.1          6.6  \n",
      "3653       0.0          2.9  \n",
      "\n",
      "[3654 rows x 7 columns]\n"
     ]
    }
   ],
   "source": [
    "df = pd.DataFrame(weather_df)\n",
    "#perform the ouliers treatement on all columns\n",
    "weather_treated_df =  iqr_winsorisation(df.copy())\n",
    "print(weather_treated_df)\n",
    "\n",
    "\n",
    "# this code define the function that performs iqr based winsorization on a dataframe\n",
    "# it identifies the outliers and replace the outiers with nearest fence value(lower or upper based on calculated iqr under specifeid threshold)"
   ]
  },
  {
   "cell_type": "code",
   "execution_count": 23,
   "metadata": {},
   "outputs": [
    {
     "name": "stdout",
     "output_type": "stream",
     "text": [
      "      cloud_cover  humidity  pressure  global_radiation  precipitation  \\\n",
      "0             8.0      0.89    1.0286              0.20          0.030   \n",
      "1             8.0      0.87    1.0318              0.25          0.000   \n",
      "2             5.0      0.81    1.0314              0.50          0.000   \n",
      "3             7.0      0.79    1.0262              0.63          0.350   \n",
      "4             5.0      0.90    1.0246              0.51          0.070   \n",
      "...           ...       ...       ...               ...            ...   \n",
      "3649          7.0      0.82    1.0084              0.28          0.420   \n",
      "3650          7.0      0.92    1.0028              0.22          0.525   \n",
      "3651          8.0      0.92    0.9992              0.07          0.525   \n",
      "3652          7.0      0.93    0.9992              0.17          0.525   \n",
      "3653          8.0      0.93    0.9992              0.08          0.525   \n",
      "\n",
      "      sunshine  temperature  \n",
      "0          0.0          2.9  \n",
      "1          0.0          3.6  \n",
      "2          3.7          2.2  \n",
      "3          6.9          3.9  \n",
      "4          3.7          6.0  \n",
      "...        ...          ...  \n",
      "3649       0.3          3.2  \n",
      "3650       0.2          4.5  \n",
      "3651       0.0          8.5  \n",
      "3652       0.1          6.6  \n",
      "3653       0.0          2.9  \n",
      "\n",
      "[3654 rows x 7 columns]\n"
     ]
    }
   ],
   "source": [
    "df = pd.DataFrame(weather_df)\n",
    "#perform the ouliers treatement on all columns\n",
    "weather_treated_df =  iqr_winsorisation(df.copy())\n",
    "print(weather_treated_df)\n",
    "\n",
    "\n",
    "# this code define the function that performs iqr based winsorization on a dataframe\n",
    "# it identifies the outliers and replace the outiers with nearest fence value(lower or upper based on calculated iqr under specifeid threshold)"
   ]
  },
  {
   "cell_type": "code",
   "execution_count": 24,
   "metadata": {},
   "outputs": [
    {
     "data": {
      "image/png": "[encoded data removed]",
      "text/plain": [
       "<Figure size 1000x600 with 1 Axes>"
      ]
     },
     "metadata": {},
     "output_type": "display_data"
    }
   ],
   "source": [
    "sns.boxplot(data=weather_treated_df)\n",
    "plt.gcf().set_size_inches(10,6)  #gcf-get current figure\n",
    "plt.show()"
   ]
  },
  {
   "cell_type": "markdown",
   "metadata": {},
   "source": [
    "### 3. Data Scaling"
   ]
  },
  {
   "cell_type": "code",
   "execution_count": 26,
   "metadata": {},
   "outputs": [
    {
     "data": {
      "text/html": [
       "<div>\n",
       "<style scoped>\n",
       "    .dataframe tbody tr th:only-of-type {\n",
       "        vertical-align: middle;\n",
       "    }\n",
       "\n",
       "    .dataframe tbody tr th {\n",
       "        vertical-align: top;\n",
       "    }\n",
       "\n",
       "    .dataframe thead th {\n",
       "        text-align: right;\n",
       "    }\n",
       "</style>\n",
       "<table border=\"1\" class=\"dataframe\">\n",
       "  <thead>\n",
       "    <tr style=\"text-align: right;\">\n",
       "      <th></th>\n",
       "      <th>DATE</th>\n",
       "      <th>MONTH</th>\n",
       "      <th>cloud_cover</th>\n",
       "      <th>humidity</th>\n",
       "      <th>pressure</th>\n",
       "      <th>global_radiation</th>\n",
       "      <th>precipitation</th>\n",
       "      <th>sunshine</th>\n",
       "      <th>temperature</th>\n",
       "    </tr>\n",
       "  </thead>\n",
       "  <tbody>\n",
       "    <tr>\n",
       "      <th>0</th>\n",
       "      <td>20240426</td>\n",
       "      <td>4</td>\n",
       "      <td>9</td>\n",
       "      <td>0.77</td>\n",
       "      <td>1.007</td>\n",
       "      <td>0.1</td>\n",
       "      <td>0.08</td>\n",
       "      <td>4.2</td>\n",
       "      <td>9</td>\n",
       "    </tr>\n",
       "  </tbody>\n",
       "</table>\n",
       "</div>"
      ],
      "text/plain": [
       "       DATE  MONTH  cloud_cover  humidity  pressure  global_radiation  \\\n",
       "0  20240426      4            9      0.77     1.007               0.1   \n",
       "\n",
       "   precipitation  sunshine  temperature  \n",
       "0           0.08       4.2            9  "
      ]
     },
     "execution_count": 26,
     "metadata": {},
     "output_type": "execute_result"
    }
   ],
   "source": [
    "# new data to predict using model\n",
    "new_data=pd.read_csv('DS1_C9_S3_Concept_New_Data.csv')\n",
    "new_data"
   ]
  },
  {
   "cell_type": "code",
   "execution_count": 27,
   "metadata": {},
   "outputs": [
    {
     "data": {
      "text/html": [
       "<div>\n",
       "<style scoped>\n",
       "    .dataframe tbody tr th:only-of-type {\n",
       "        vertical-align: middle;\n",
       "    }\n",
       "\n",
       "    .dataframe tbody tr th {\n",
       "        vertical-align: top;\n",
       "    }\n",
       "\n",
       "    .dataframe thead th {\n",
       "        text-align: right;\n",
       "    }\n",
       "</style>\n",
       "<table border=\"1\" class=\"dataframe\">\n",
       "  <thead>\n",
       "    <tr style=\"text-align: right;\">\n",
       "      <th></th>\n",
       "      <th>cloud_cover</th>\n",
       "      <th>humidity</th>\n",
       "      <th>pressure</th>\n",
       "      <th>global_radiation</th>\n",
       "      <th>precipitation</th>\n",
       "      <th>sunshine</th>\n",
       "      <th>temperature</th>\n",
       "    </tr>\n",
       "  </thead>\n",
       "  <tbody>\n",
       "    <tr>\n",
       "      <th>0</th>\n",
       "      <td>9</td>\n",
       "      <td>0.77</td>\n",
       "      <td>1.007</td>\n",
       "      <td>0.1</td>\n",
       "      <td>0.08</td>\n",
       "      <td>4.2</td>\n",
       "      <td>9</td>\n",
       "    </tr>\n",
       "  </tbody>\n",
       "</table>\n",
       "</div>"
      ],
      "text/plain": [
       "   cloud_cover  humidity  pressure  global_radiation  precipitation  sunshine  \\\n",
       "0            9      0.77     1.007               0.1           0.08       4.2   \n",
       "\n",
       "   temperature  \n",
       "0            9  "
      ]
     },
     "execution_count": 27,
     "metadata": {},
     "output_type": "execute_result"
    }
   ],
   "source": [
    "new_data=new_data.drop(['DATE','MONTH'],axis=1)\n",
    "new_data"
   ]
  },
  {
   "cell_type": "code",
   "execution_count": 28,
   "metadata": {},
   "outputs": [
    {
     "data": {
      "text/html": [
       "<div>\n",
       "<style scoped>\n",
       "    .dataframe tbody tr th:only-of-type {\n",
       "        vertical-align: middle;\n",
       "    }\n",
       "\n",
       "    .dataframe tbody tr th {\n",
       "        vertical-align: top;\n",
       "    }\n",
       "\n",
       "    .dataframe thead th {\n",
       "        text-align: right;\n",
       "    }\n",
       "</style>\n",
       "<table border=\"1\" class=\"dataframe\">\n",
       "  <thead>\n",
       "    <tr style=\"text-align: right;\">\n",
       "      <th></th>\n",
       "      <th>cloud_cover</th>\n",
       "      <th>humidity</th>\n",
       "      <th>pressure</th>\n",
       "      <th>global_radiation</th>\n",
       "      <th>precipitation</th>\n",
       "      <th>sunshine</th>\n",
       "      <th>temperature</th>\n",
       "    </tr>\n",
       "  </thead>\n",
       "  <tbody>\n",
       "    <tr>\n",
       "      <th>0</th>\n",
       "      <td>9.0</td>\n",
       "      <td>0.77</td>\n",
       "      <td>1.0070</td>\n",
       "      <td>0.10</td>\n",
       "      <td>0.080</td>\n",
       "      <td>4.2</td>\n",
       "      <td>9.0</td>\n",
       "    </tr>\n",
       "    <tr>\n",
       "      <th>1</th>\n",
       "      <td>8.0</td>\n",
       "      <td>0.89</td>\n",
       "      <td>1.0286</td>\n",
       "      <td>0.20</td>\n",
       "      <td>0.030</td>\n",
       "      <td>0.0</td>\n",
       "      <td>2.9</td>\n",
       "    </tr>\n",
       "    <tr>\n",
       "      <th>2</th>\n",
       "      <td>8.0</td>\n",
       "      <td>0.87</td>\n",
       "      <td>1.0318</td>\n",
       "      <td>0.25</td>\n",
       "      <td>0.000</td>\n",
       "      <td>0.0</td>\n",
       "      <td>3.6</td>\n",
       "    </tr>\n",
       "    <tr>\n",
       "      <th>3</th>\n",
       "      <td>5.0</td>\n",
       "      <td>0.81</td>\n",
       "      <td>1.0314</td>\n",
       "      <td>0.50</td>\n",
       "      <td>0.000</td>\n",
       "      <td>3.7</td>\n",
       "      <td>2.2</td>\n",
       "    </tr>\n",
       "    <tr>\n",
       "      <th>4</th>\n",
       "      <td>7.0</td>\n",
       "      <td>0.79</td>\n",
       "      <td>1.0262</td>\n",
       "      <td>0.63</td>\n",
       "      <td>0.350</td>\n",
       "      <td>6.9</td>\n",
       "      <td>3.9</td>\n",
       "    </tr>\n",
       "    <tr>\n",
       "      <th>...</th>\n",
       "      <td>...</td>\n",
       "      <td>...</td>\n",
       "      <td>...</td>\n",
       "      <td>...</td>\n",
       "      <td>...</td>\n",
       "      <td>...</td>\n",
       "      <td>...</td>\n",
       "    </tr>\n",
       "    <tr>\n",
       "      <th>3650</th>\n",
       "      <td>7.0</td>\n",
       "      <td>0.82</td>\n",
       "      <td>1.0084</td>\n",
       "      <td>0.28</td>\n",
       "      <td>0.420</td>\n",
       "      <td>0.3</td>\n",
       "      <td>3.2</td>\n",
       "    </tr>\n",
       "    <tr>\n",
       "      <th>3651</th>\n",
       "      <td>7.0</td>\n",
       "      <td>0.92</td>\n",
       "      <td>1.0028</td>\n",
       "      <td>0.22</td>\n",
       "      <td>0.525</td>\n",
       "      <td>0.2</td>\n",
       "      <td>4.5</td>\n",
       "    </tr>\n",
       "    <tr>\n",
       "      <th>3652</th>\n",
       "      <td>8.0</td>\n",
       "      <td>0.92</td>\n",
       "      <td>0.9992</td>\n",
       "      <td>0.07</td>\n",
       "      <td>0.525</td>\n",
       "      <td>0.0</td>\n",
       "      <td>8.5</td>\n",
       "    </tr>\n",
       "    <tr>\n",
       "      <th>3653</th>\n",
       "      <td>7.0</td>\n",
       "      <td>0.93</td>\n",
       "      <td>0.9992</td>\n",
       "      <td>0.17</td>\n",
       "      <td>0.525</td>\n",
       "      <td>0.1</td>\n",
       "      <td>6.6</td>\n",
       "    </tr>\n",
       "    <tr>\n",
       "      <th>3654</th>\n",
       "      <td>8.0</td>\n",
       "      <td>0.93</td>\n",
       "      <td>0.9992</td>\n",
       "      <td>0.08</td>\n",
       "      <td>0.525</td>\n",
       "      <td>0.0</td>\n",
       "      <td>2.9</td>\n",
       "    </tr>\n",
       "  </tbody>\n",
       "</table>\n",
       "<p>3655 rows × 7 columns</p>\n",
       "</div>"
      ],
      "text/plain": [
       "      cloud_cover  humidity  pressure  global_radiation  precipitation  \\\n",
       "0             9.0      0.77    1.0070              0.10          0.080   \n",
       "1             8.0      0.89    1.0286              0.20          0.030   \n",
       "2             8.0      0.87    1.0318              0.25          0.000   \n",
       "3             5.0      0.81    1.0314              0.50          0.000   \n",
       "4             7.0      0.79    1.0262              0.63          0.350   \n",
       "...           ...       ...       ...               ...            ...   \n",
       "3650          7.0      0.82    1.0084              0.28          0.420   \n",
       "3651          7.0      0.92    1.0028              0.22          0.525   \n",
       "3652          8.0      0.92    0.9992              0.07          0.525   \n",
       "3653          7.0      0.93    0.9992              0.17          0.525   \n",
       "3654          8.0      0.93    0.9992              0.08          0.525   \n",
       "\n",
       "      sunshine  temperature  \n",
       "0          4.2          9.0  \n",
       "1          0.0          2.9  \n",
       "2          0.0          3.6  \n",
       "3          3.7          2.2  \n",
       "4          6.9          3.9  \n",
       "...        ...          ...  \n",
       "3650       0.3          3.2  \n",
       "3651       0.2          4.5  \n",
       "3652       0.0          8.5  \n",
       "3653       0.1          6.6  \n",
       "3654       0.0          2.9  \n",
       "\n",
       "[3655 rows x 7 columns]"
      ]
     },
     "execution_count": 28,
     "metadata": {},
     "output_type": "execute_result"
    }
   ],
   "source": [
    "# Append the new row to the original DataFrame\n",
    "weather_treated_df=pd.concat([new_data,weather_treated_df],ignore_index=True)\n",
    "weather_treated_df"
   ]
  },
  {
   "cell_type": "code",
   "execution_count": 29,
   "metadata": {},
   "outputs": [
    {
     "data": {
      "text/html": [
       "<div>\n",
       "<style scoped>\n",
       "    .dataframe tbody tr th:only-of-type {\n",
       "        vertical-align: middle;\n",
       "    }\n",
       "\n",
       "    .dataframe tbody tr th {\n",
       "        vertical-align: top;\n",
       "    }\n",
       "\n",
       "    .dataframe thead th {\n",
       "        text-align: right;\n",
       "    }\n",
       "</style>\n",
       "<table border=\"1\" class=\"dataframe\">\n",
       "  <thead>\n",
       "    <tr style=\"text-align: right;\">\n",
       "      <th></th>\n",
       "      <th>cloud_cover</th>\n",
       "      <th>humidity</th>\n",
       "      <th>pressure</th>\n",
       "      <th>global_radiation</th>\n",
       "      <th>precipitation</th>\n",
       "      <th>sunshine</th>\n",
       "      <th>temperature</th>\n",
       "    </tr>\n",
       "  </thead>\n",
       "  <tbody>\n",
       "    <tr>\n",
       "      <th>0</th>\n",
       "      <td>1.539625</td>\n",
       "      <td>0.230806</td>\n",
       "      <td>-1.409233</td>\n",
       "      <td>-1.315114</td>\n",
       "      <td>-0.252337</td>\n",
       "      <td>-0.106508</td>\n",
       "      <td>-0.272804</td>\n",
       "    </tr>\n",
       "    <tr>\n",
       "      <th>1</th>\n",
       "      <td>1.109631</td>\n",
       "      <td>1.346062</td>\n",
       "      <td>1.377856</td>\n",
       "      <td>-1.208198</td>\n",
       "      <td>-0.504881</td>\n",
       "      <td>-1.076724</td>\n",
       "      <td>-1.095705</td>\n",
       "    </tr>\n",
       "    <tr>\n",
       "      <th>2</th>\n",
       "      <td>1.109631</td>\n",
       "      <td>1.160186</td>\n",
       "      <td>1.790758</td>\n",
       "      <td>-1.154740</td>\n",
       "      <td>-0.656407</td>\n",
       "      <td>-1.076724</td>\n",
       "      <td>-1.001274</td>\n",
       "    </tr>\n",
       "    <tr>\n",
       "      <th>3</th>\n",
       "      <td>-0.180350</td>\n",
       "      <td>0.602558</td>\n",
       "      <td>1.739146</td>\n",
       "      <td>-0.887450</td>\n",
       "      <td>-0.656407</td>\n",
       "      <td>-0.222010</td>\n",
       "      <td>-1.190136</td>\n",
       "    </tr>\n",
       "    <tr>\n",
       "      <th>4</th>\n",
       "      <td>0.679637</td>\n",
       "      <td>0.416682</td>\n",
       "      <td>1.068180</td>\n",
       "      <td>-0.748459</td>\n",
       "      <td>1.111401</td>\n",
       "      <td>0.517202</td>\n",
       "      <td>-0.960803</td>\n",
       "    </tr>\n",
       "    <tr>\n",
       "      <th>...</th>\n",
       "      <td>...</td>\n",
       "      <td>...</td>\n",
       "      <td>...</td>\n",
       "      <td>...</td>\n",
       "      <td>...</td>\n",
       "      <td>...</td>\n",
       "      <td>...</td>\n",
       "    </tr>\n",
       "    <tr>\n",
       "      <th>3650</th>\n",
       "      <td>0.679637</td>\n",
       "      <td>0.695496</td>\n",
       "      <td>-1.228589</td>\n",
       "      <td>-1.122665</td>\n",
       "      <td>1.464963</td>\n",
       "      <td>-1.007423</td>\n",
       "      <td>-1.055235</td>\n",
       "    </tr>\n",
       "    <tr>\n",
       "      <th>3651</th>\n",
       "      <td>0.679637</td>\n",
       "      <td>1.624876</td>\n",
       "      <td>-1.951167</td>\n",
       "      <td>-1.186815</td>\n",
       "      <td>1.995305</td>\n",
       "      <td>-1.030523</td>\n",
       "      <td>-0.879862</td>\n",
       "    </tr>\n",
       "    <tr>\n",
       "      <th>3652</th>\n",
       "      <td>1.109631</td>\n",
       "      <td>1.624876</td>\n",
       "      <td>-2.415682</td>\n",
       "      <td>-1.347189</td>\n",
       "      <td>1.995305</td>\n",
       "      <td>-1.076724</td>\n",
       "      <td>-0.340255</td>\n",
       "    </tr>\n",
       "    <tr>\n",
       "      <th>3653</th>\n",
       "      <td>0.679637</td>\n",
       "      <td>1.717814</td>\n",
       "      <td>-2.415682</td>\n",
       "      <td>-1.240273</td>\n",
       "      <td>1.995305</td>\n",
       "      <td>-1.053624</td>\n",
       "      <td>-0.596569</td>\n",
       "    </tr>\n",
       "    <tr>\n",
       "      <th>3654</th>\n",
       "      <td>1.109631</td>\n",
       "      <td>1.717814</td>\n",
       "      <td>-2.415682</td>\n",
       "      <td>-1.336497</td>\n",
       "      <td>1.995305</td>\n",
       "      <td>-1.076724</td>\n",
       "      <td>-1.095705</td>\n",
       "    </tr>\n",
       "  </tbody>\n",
       "</table>\n",
       "<p>3655 rows × 7 columns</p>\n",
       "</div>"
      ],
      "text/plain": [
       "      cloud_cover  humidity  pressure  global_radiation  precipitation  \\\n",
       "0        1.539625  0.230806 -1.409233         -1.315114      -0.252337   \n",
       "1        1.109631  1.346062  1.377856         -1.208198      -0.504881   \n",
       "2        1.109631  1.160186  1.790758         -1.154740      -0.656407   \n",
       "3       -0.180350  0.602558  1.739146         -0.887450      -0.656407   \n",
       "4        0.679637  0.416682  1.068180         -0.748459       1.111401   \n",
       "...           ...       ...       ...               ...            ...   \n",
       "3650     0.679637  0.695496 -1.228589         -1.122665       1.464963   \n",
       "3651     0.679637  1.624876 -1.951167         -1.186815       1.995305   \n",
       "3652     1.109631  1.624876 -2.415682         -1.347189       1.995305   \n",
       "3653     0.679637  1.717814 -2.415682         -1.240273       1.995305   \n",
       "3654     1.109631  1.717814 -2.415682         -1.336497       1.995305   \n",
       "\n",
       "      sunshine  temperature  \n",
       "0    -0.106508    -0.272804  \n",
       "1    -1.076724    -1.095705  \n",
       "2    -1.076724    -1.001274  \n",
       "3    -0.222010    -1.190136  \n",
       "4     0.517202    -0.960803  \n",
       "...        ...          ...  \n",
       "3650 -1.007423    -1.055235  \n",
       "3651 -1.030523    -0.879862  \n",
       "3652 -1.076724    -0.340255  \n",
       "3653 -1.053624    -0.596569  \n",
       "3654 -1.076724    -1.095705  \n",
       "\n",
       "[3655 rows x 7 columns]"
      ]
     },
     "execution_count": 29,
     "metadata": {},
     "output_type": "execute_result"
    }
   ],
   "source": [
    "# Scaling data\n",
    "cols = weather_treated_df.columns\n",
    "scaler = StandardScaler()\n",
    "df_scaled = scaler.fit_transform(weather_treated_df)\n",
    "\n",
    "df_scaled = pd.DataFrame(df_scaled, columns = cols)\n",
    "df_scaled"
   ]
  },
  {
   "cell_type": "markdown",
   "metadata": {},
   "source": [
    "### Extract out the new data from the origial data after scalling, which will be used for prediction"
   ]
  },
  {
   "cell_type": "code",
   "execution_count": 31,
   "metadata": {},
   "outputs": [
    {
     "data": {
      "text/plain": [
       "cloud_cover         1.109631\n",
       "humidity            1.717814\n",
       "pressure           -2.415682\n",
       "global_radiation   -1.336497\n",
       "precipitation       1.995305\n",
       "sunshine           -1.076724\n",
       "temperature        -1.095705\n",
       "Name: 3654, dtype: float64"
      ]
     },
     "execution_count": 31,
     "metadata": {},
     "output_type": "execute_result"
    }
   ],
   "source": [
    "# Extract the last row index\n",
    "last_row_index=len(df_scaled)-1\n",
    "\n",
    "\n",
    "# Extract the last row using iloc and store in a new DataFrame\n",
    "new_data=df_scaled.iloc[last_row_index]\n",
    "new_data\n",
    "# Reshape the extracted Series into a DataFrame (optional)\n"
   ]
  },
  {
   "cell_type": "code",
   "execution_count": 32,
   "metadata": {},
   "outputs": [
    {
     "data": {
      "text/html": [
       "<div>\n",
       "<style scoped>\n",
       "    .dataframe tbody tr th:only-of-type {\n",
       "        vertical-align: middle;\n",
       "    }\n",
       "\n",
       "    .dataframe tbody tr th {\n",
       "        vertical-align: top;\n",
       "    }\n",
       "\n",
       "    .dataframe thead th {\n",
       "        text-align: right;\n",
       "    }\n",
       "</style>\n",
       "<table border=\"1\" class=\"dataframe\">\n",
       "  <thead>\n",
       "    <tr style=\"text-align: right;\">\n",
       "      <th></th>\n",
       "      <th>cloud_cover</th>\n",
       "      <th>humidity</th>\n",
       "      <th>pressure</th>\n",
       "      <th>global_radiation</th>\n",
       "      <th>precipitation</th>\n",
       "      <th>sunshine</th>\n",
       "      <th>temperature</th>\n",
       "    </tr>\n",
       "  </thead>\n",
       "  <tbody>\n",
       "    <tr>\n",
       "      <th>3654</th>\n",
       "      <td>1.109631</td>\n",
       "      <td>1.717814</td>\n",
       "      <td>-2.415682</td>\n",
       "      <td>-1.336497</td>\n",
       "      <td>1.995305</td>\n",
       "      <td>-1.076724</td>\n",
       "      <td>-1.095705</td>\n",
       "    </tr>\n",
       "  </tbody>\n",
       "</table>\n",
       "</div>"
      ],
      "text/plain": [
       "      cloud_cover  humidity  pressure  global_radiation  precipitation  \\\n",
       "3654     1.109631  1.717814 -2.415682         -1.336497       1.995305   \n",
       "\n",
       "      sunshine  temperature  \n",
       "3654 -1.076724    -1.095705  "
      ]
     },
     "execution_count": 32,
     "metadata": {},
     "output_type": "execute_result"
    }
   ],
   "source": [
    "#Extract original data except the new data\n",
    "# Reshape the extracted Series into a DataFrame (optional)\n",
    "new_data_df = new_data.to_frame().transpose()\n",
    "new_data_df"
   ]
  },
  {
   "cell_type": "code",
   "execution_count": 33,
   "metadata": {},
   "outputs": [
    {
     "data": {
      "text/html": [
       "<div>\n",
       "<style scoped>\n",
       "    .dataframe tbody tr th:only-of-type {\n",
       "        vertical-align: middle;\n",
       "    }\n",
       "\n",
       "    .dataframe tbody tr th {\n",
       "        vertical-align: top;\n",
       "    }\n",
       "\n",
       "    .dataframe thead th {\n",
       "        text-align: right;\n",
       "    }\n",
       "</style>\n",
       "<table border=\"1\" class=\"dataframe\">\n",
       "  <thead>\n",
       "    <tr style=\"text-align: right;\">\n",
       "      <th></th>\n",
       "      <th>cloud_cover</th>\n",
       "      <th>humidity</th>\n",
       "      <th>pressure</th>\n",
       "      <th>global_radiation</th>\n",
       "      <th>precipitation</th>\n",
       "      <th>sunshine</th>\n",
       "      <th>temperature</th>\n",
       "    </tr>\n",
       "  </thead>\n",
       "  <tbody>\n",
       "    <tr>\n",
       "      <th>0</th>\n",
       "      <td>1.539625</td>\n",
       "      <td>0.230806</td>\n",
       "      <td>-1.409233</td>\n",
       "      <td>-1.315114</td>\n",
       "      <td>-0.252337</td>\n",
       "      <td>-0.106508</td>\n",
       "      <td>-0.272804</td>\n",
       "    </tr>\n",
       "    <tr>\n",
       "      <th>1</th>\n",
       "      <td>1.109631</td>\n",
       "      <td>1.346062</td>\n",
       "      <td>1.377856</td>\n",
       "      <td>-1.208198</td>\n",
       "      <td>-0.504881</td>\n",
       "      <td>-1.076724</td>\n",
       "      <td>-1.095705</td>\n",
       "    </tr>\n",
       "    <tr>\n",
       "      <th>2</th>\n",
       "      <td>1.109631</td>\n",
       "      <td>1.160186</td>\n",
       "      <td>1.790758</td>\n",
       "      <td>-1.154740</td>\n",
       "      <td>-0.656407</td>\n",
       "      <td>-1.076724</td>\n",
       "      <td>-1.001274</td>\n",
       "    </tr>\n",
       "    <tr>\n",
       "      <th>3</th>\n",
       "      <td>-0.180350</td>\n",
       "      <td>0.602558</td>\n",
       "      <td>1.739146</td>\n",
       "      <td>-0.887450</td>\n",
       "      <td>-0.656407</td>\n",
       "      <td>-0.222010</td>\n",
       "      <td>-1.190136</td>\n",
       "    </tr>\n",
       "    <tr>\n",
       "      <th>4</th>\n",
       "      <td>0.679637</td>\n",
       "      <td>0.416682</td>\n",
       "      <td>1.068180</td>\n",
       "      <td>-0.748459</td>\n",
       "      <td>1.111401</td>\n",
       "      <td>0.517202</td>\n",
       "      <td>-0.960803</td>\n",
       "    </tr>\n",
       "    <tr>\n",
       "      <th>...</th>\n",
       "      <td>...</td>\n",
       "      <td>...</td>\n",
       "      <td>...</td>\n",
       "      <td>...</td>\n",
       "      <td>...</td>\n",
       "      <td>...</td>\n",
       "      <td>...</td>\n",
       "    </tr>\n",
       "    <tr>\n",
       "      <th>3649</th>\n",
       "      <td>0.679637</td>\n",
       "      <td>0.509620</td>\n",
       "      <td>-0.789880</td>\n",
       "      <td>-1.026441</td>\n",
       "      <td>0.252751</td>\n",
       "      <td>-0.545415</td>\n",
       "      <td>-1.352019</td>\n",
       "    </tr>\n",
       "    <tr>\n",
       "      <th>3650</th>\n",
       "      <td>0.679637</td>\n",
       "      <td>0.695496</td>\n",
       "      <td>-1.228589</td>\n",
       "      <td>-1.122665</td>\n",
       "      <td>1.464963</td>\n",
       "      <td>-1.007423</td>\n",
       "      <td>-1.055235</td>\n",
       "    </tr>\n",
       "    <tr>\n",
       "      <th>3651</th>\n",
       "      <td>0.679637</td>\n",
       "      <td>1.624876</td>\n",
       "      <td>-1.951167</td>\n",
       "      <td>-1.186815</td>\n",
       "      <td>1.995305</td>\n",
       "      <td>-1.030523</td>\n",
       "      <td>-0.879862</td>\n",
       "    </tr>\n",
       "    <tr>\n",
       "      <th>3652</th>\n",
       "      <td>1.109631</td>\n",
       "      <td>1.624876</td>\n",
       "      <td>-2.415682</td>\n",
       "      <td>-1.347189</td>\n",
       "      <td>1.995305</td>\n",
       "      <td>-1.076724</td>\n",
       "      <td>-0.340255</td>\n",
       "    </tr>\n",
       "    <tr>\n",
       "      <th>3653</th>\n",
       "      <td>0.679637</td>\n",
       "      <td>1.717814</td>\n",
       "      <td>-2.415682</td>\n",
       "      <td>-1.240273</td>\n",
       "      <td>1.995305</td>\n",
       "      <td>-1.053624</td>\n",
       "      <td>-0.596569</td>\n",
       "    </tr>\n",
       "  </tbody>\n",
       "</table>\n",
       "<p>3654 rows × 7 columns</p>\n",
       "</div>"
      ],
      "text/plain": [
       "      cloud_cover  humidity  pressure  global_radiation  precipitation  \\\n",
       "0        1.539625  0.230806 -1.409233         -1.315114      -0.252337   \n",
       "1        1.109631  1.346062  1.377856         -1.208198      -0.504881   \n",
       "2        1.109631  1.160186  1.790758         -1.154740      -0.656407   \n",
       "3       -0.180350  0.602558  1.739146         -0.887450      -0.656407   \n",
       "4        0.679637  0.416682  1.068180         -0.748459       1.111401   \n",
       "...           ...       ...       ...               ...            ...   \n",
       "3649     0.679637  0.509620 -0.789880         -1.026441       0.252751   \n",
       "3650     0.679637  0.695496 -1.228589         -1.122665       1.464963   \n",
       "3651     0.679637  1.624876 -1.951167         -1.186815       1.995305   \n",
       "3652     1.109631  1.624876 -2.415682         -1.347189       1.995305   \n",
       "3653     0.679637  1.717814 -2.415682         -1.240273       1.995305   \n",
       "\n",
       "      sunshine  temperature  \n",
       "0    -0.106508    -0.272804  \n",
       "1    -1.076724    -1.095705  \n",
       "2    -1.076724    -1.001274  \n",
       "3    -0.222010    -1.190136  \n",
       "4     0.517202    -0.960803  \n",
       "...        ...          ...  \n",
       "3649 -0.545415    -1.352019  \n",
       "3650 -1.007423    -1.055235  \n",
       "3651 -1.030523    -0.879862  \n",
       "3652 -1.076724    -0.340255  \n",
       "3653 -1.053624    -0.596569  \n",
       "\n",
       "[3654 rows x 7 columns]"
      ]
     },
     "execution_count": 33,
     "metadata": {},
     "output_type": "execute_result"
    }
   ],
   "source": [
    "df_scaled=df_scaled.iloc[:-1]\n",
    "df_scaled"
   ]
  },
  {
   "cell_type": "markdown",
   "metadata": {},
   "source": [
    "### 4. Feature Selection through Multicolinearity checking"
   ]
  },
  {
   "cell_type": "markdown",
   "metadata": {},
   "source": [
    "### Checking multicollinearity using heatmap and by removing features (independent variables) that are highly correlated with each other.\n",
    "\n",
    "### Which value should represent high multicollinearity? \n",
    "\n",
    "In data science industry (depending on business strategy), the mostly used cutoff value ranges from 0.7 to 0.8.   \n",
    "For example, if the cutoff value is 0.7 which means if two features have a correlation value of 0.7 or above, one of the features will be ignored.\n",
    "\n",
    "The next question is, which feature should be ignored or selected out of the two highly correlated features?   \n",
    "Answer: The feature that has high correlation with the dependent variable should be selected.   \n"
   ]
  },
  {
   "cell_type": "code",
   "execution_count": 36,
   "metadata": {},
   "outputs": [
    {
     "data": {
      "text/html": [
       "<div>\n",
       "<style scoped>\n",
       "    .dataframe tbody tr th:only-of-type {\n",
       "        vertical-align: middle;\n",
       "    }\n",
       "\n",
       "    .dataframe tbody tr th {\n",
       "        vertical-align: top;\n",
       "    }\n",
       "\n",
       "    .dataframe thead th {\n",
       "        text-align: right;\n",
       "    }\n",
       "</style>\n",
       "<table border=\"1\" class=\"dataframe\">\n",
       "  <thead>\n",
       "    <tr style=\"text-align: right;\">\n",
       "      <th></th>\n",
       "      <th>cloud_cover</th>\n",
       "      <th>humidity</th>\n",
       "      <th>pressure</th>\n",
       "      <th>global_radiation</th>\n",
       "      <th>precipitation</th>\n",
       "      <th>sunshine</th>\n",
       "      <th>temperature</th>\n",
       "    </tr>\n",
       "  </thead>\n",
       "  <tbody>\n",
       "    <tr>\n",
       "      <th>cloud_cover</th>\n",
       "      <td>True</td>\n",
       "      <td>False</td>\n",
       "      <td>False</td>\n",
       "      <td>False</td>\n",
       "      <td>False</td>\n",
       "      <td>True</td>\n",
       "      <td>False</td>\n",
       "    </tr>\n",
       "    <tr>\n",
       "      <th>humidity</th>\n",
       "      <td>False</td>\n",
       "      <td>True</td>\n",
       "      <td>False</td>\n",
       "      <td>False</td>\n",
       "      <td>False</td>\n",
       "      <td>False</td>\n",
       "      <td>False</td>\n",
       "    </tr>\n",
       "    <tr>\n",
       "      <th>pressure</th>\n",
       "      <td>False</td>\n",
       "      <td>False</td>\n",
       "      <td>True</td>\n",
       "      <td>False</td>\n",
       "      <td>False</td>\n",
       "      <td>False</td>\n",
       "      <td>False</td>\n",
       "    </tr>\n",
       "    <tr>\n",
       "      <th>global_radiation</th>\n",
       "      <td>False</td>\n",
       "      <td>False</td>\n",
       "      <td>False</td>\n",
       "      <td>True</td>\n",
       "      <td>False</td>\n",
       "      <td>True</td>\n",
       "      <td>True</td>\n",
       "    </tr>\n",
       "    <tr>\n",
       "      <th>precipitation</th>\n",
       "      <td>False</td>\n",
       "      <td>False</td>\n",
       "      <td>False</td>\n",
       "      <td>False</td>\n",
       "      <td>True</td>\n",
       "      <td>False</td>\n",
       "      <td>False</td>\n",
       "    </tr>\n",
       "    <tr>\n",
       "      <th>sunshine</th>\n",
       "      <td>True</td>\n",
       "      <td>False</td>\n",
       "      <td>False</td>\n",
       "      <td>True</td>\n",
       "      <td>False</td>\n",
       "      <td>True</td>\n",
       "      <td>False</td>\n",
       "    </tr>\n",
       "    <tr>\n",
       "      <th>temperature</th>\n",
       "      <td>False</td>\n",
       "      <td>False</td>\n",
       "      <td>False</td>\n",
       "      <td>True</td>\n",
       "      <td>False</td>\n",
       "      <td>False</td>\n",
       "      <td>True</td>\n",
       "    </tr>\n",
       "  </tbody>\n",
       "</table>\n",
       "</div>"
      ],
      "text/plain": [
       "                  cloud_cover  humidity  pressure  global_radiation  \\\n",
       "cloud_cover              True     False     False             False   \n",
       "humidity                False      True     False             False   \n",
       "pressure                False     False      True             False   \n",
       "global_radiation        False     False     False              True   \n",
       "precipitation           False     False     False             False   \n",
       "sunshine                 True     False     False              True   \n",
       "temperature             False     False     False              True   \n",
       "\n",
       "                  precipitation  sunshine  temperature  \n",
       "cloud_cover               False      True        False  \n",
       "humidity                  False     False        False  \n",
       "pressure                  False     False        False  \n",
       "global_radiation          False      True         True  \n",
       "precipitation              True     False        False  \n",
       "sunshine                  False      True        False  \n",
       "temperature               False     False         True  "
      ]
     },
     "execution_count": 36,
     "metadata": {},
     "output_type": "execute_result"
    }
   ],
   "source": [
    "# Selecting the cutoff value as 0.7\n",
    "abs(df_scaled.corr())>=0.7"
   ]
  },
  {
   "cell_type": "code",
   "execution_count": 37,
   "metadata": {},
   "outputs": [
    {
     "data": {
      "text/plain": [
       "<Axes: >"
      ]
     },
     "execution_count": 37,
     "metadata": {},
     "output_type": "execute_result"
    },
    {
     "data": {
      "image/png": "[encoded data removed]",
      "text/plain": [
       "<Figure size 640x480 with 2 Axes>"
      ]
     },
     "metadata": {},
     "output_type": "display_data"
    }
   ],
   "source": [
    "sns.heatmap(df_scaled.corr(),annot=True)"
   ]
  },
  {
   "cell_type": "markdown",
   "metadata": {},
   "source": [
    "#### Checking multicollinearity for the given dataset "
   ]
  },
  {
   "cell_type": "code",
   "execution_count": 39,
   "metadata": {},
   "outputs": [],
   "source": [
    "# Plotting heatmap\n",
    "# correlation absolute value of global radiation with sunshine variable to eachother are high greater than 0.70 and cloud cover correlation value with the sunshine is also greater than 0.7 , so dropping sunshine variable\n"
   ]
  },
  {
   "cell_type": "markdown",
   "metadata": {},
   "source": [
    "Interpretation: "
   ]
  },
  {
   "cell_type": "markdown",
   "metadata": {},
   "source": [
    "### Dropping this variable and selecting the rest of the variables to build models."
   ]
  },
  {
   "cell_type": "code",
   "execution_count": 42,
   "metadata": {},
   "outputs": [
    {
     "data": {
      "text/html": [
       "<div>\n",
       "<style scoped>\n",
       "    .dataframe tbody tr th:only-of-type {\n",
       "        vertical-align: middle;\n",
       "    }\n",
       "\n",
       "    .dataframe tbody tr th {\n",
       "        vertical-align: top;\n",
       "    }\n",
       "\n",
       "    .dataframe thead th {\n",
       "        text-align: right;\n",
       "    }\n",
       "</style>\n",
       "<table border=\"1\" class=\"dataframe\">\n",
       "  <thead>\n",
       "    <tr style=\"text-align: right;\">\n",
       "      <th></th>\n",
       "      <th>cloud_cover</th>\n",
       "      <th>humidity</th>\n",
       "      <th>pressure</th>\n",
       "      <th>global_radiation</th>\n",
       "      <th>precipitation</th>\n",
       "      <th>temperature</th>\n",
       "    </tr>\n",
       "  </thead>\n",
       "  <tbody>\n",
       "    <tr>\n",
       "      <th>0</th>\n",
       "      <td>1.539625</td>\n",
       "      <td>0.230806</td>\n",
       "      <td>-1.409233</td>\n",
       "      <td>-1.315114</td>\n",
       "      <td>-0.252337</td>\n",
       "      <td>-0.272804</td>\n",
       "    </tr>\n",
       "    <tr>\n",
       "      <th>1</th>\n",
       "      <td>1.109631</td>\n",
       "      <td>1.346062</td>\n",
       "      <td>1.377856</td>\n",
       "      <td>-1.208198</td>\n",
       "      <td>-0.504881</td>\n",
       "      <td>-1.095705</td>\n",
       "    </tr>\n",
       "    <tr>\n",
       "      <th>2</th>\n",
       "      <td>1.109631</td>\n",
       "      <td>1.160186</td>\n",
       "      <td>1.790758</td>\n",
       "      <td>-1.154740</td>\n",
       "      <td>-0.656407</td>\n",
       "      <td>-1.001274</td>\n",
       "    </tr>\n",
       "    <tr>\n",
       "      <th>3</th>\n",
       "      <td>-0.180350</td>\n",
       "      <td>0.602558</td>\n",
       "      <td>1.739146</td>\n",
       "      <td>-0.887450</td>\n",
       "      <td>-0.656407</td>\n",
       "      <td>-1.190136</td>\n",
       "    </tr>\n",
       "    <tr>\n",
       "      <th>4</th>\n",
       "      <td>0.679637</td>\n",
       "      <td>0.416682</td>\n",
       "      <td>1.068180</td>\n",
       "      <td>-0.748459</td>\n",
       "      <td>1.111401</td>\n",
       "      <td>-0.960803</td>\n",
       "    </tr>\n",
       "    <tr>\n",
       "      <th>...</th>\n",
       "      <td>...</td>\n",
       "      <td>...</td>\n",
       "      <td>...</td>\n",
       "      <td>...</td>\n",
       "      <td>...</td>\n",
       "      <td>...</td>\n",
       "    </tr>\n",
       "    <tr>\n",
       "      <th>3649</th>\n",
       "      <td>0.679637</td>\n",
       "      <td>0.509620</td>\n",
       "      <td>-0.789880</td>\n",
       "      <td>-1.026441</td>\n",
       "      <td>0.252751</td>\n",
       "      <td>-1.352019</td>\n",
       "    </tr>\n",
       "    <tr>\n",
       "      <th>3650</th>\n",
       "      <td>0.679637</td>\n",
       "      <td>0.695496</td>\n",
       "      <td>-1.228589</td>\n",
       "      <td>-1.122665</td>\n",
       "      <td>1.464963</td>\n",
       "      <td>-1.055235</td>\n",
       "    </tr>\n",
       "    <tr>\n",
       "      <th>3651</th>\n",
       "      <td>0.679637</td>\n",
       "      <td>1.624876</td>\n",
       "      <td>-1.951167</td>\n",
       "      <td>-1.186815</td>\n",
       "      <td>1.995305</td>\n",
       "      <td>-0.879862</td>\n",
       "    </tr>\n",
       "    <tr>\n",
       "      <th>3652</th>\n",
       "      <td>1.109631</td>\n",
       "      <td>1.624876</td>\n",
       "      <td>-2.415682</td>\n",
       "      <td>-1.347189</td>\n",
       "      <td>1.995305</td>\n",
       "      <td>-0.340255</td>\n",
       "    </tr>\n",
       "    <tr>\n",
       "      <th>3653</th>\n",
       "      <td>0.679637</td>\n",
       "      <td>1.717814</td>\n",
       "      <td>-2.415682</td>\n",
       "      <td>-1.240273</td>\n",
       "      <td>1.995305</td>\n",
       "      <td>-0.596569</td>\n",
       "    </tr>\n",
       "  </tbody>\n",
       "</table>\n",
       "<p>3654 rows × 6 columns</p>\n",
       "</div>"
      ],
      "text/plain": [
       "      cloud_cover  humidity  pressure  global_radiation  precipitation  \\\n",
       "0        1.539625  0.230806 -1.409233         -1.315114      -0.252337   \n",
       "1        1.109631  1.346062  1.377856         -1.208198      -0.504881   \n",
       "2        1.109631  1.160186  1.790758         -1.154740      -0.656407   \n",
       "3       -0.180350  0.602558  1.739146         -0.887450      -0.656407   \n",
       "4        0.679637  0.416682  1.068180         -0.748459       1.111401   \n",
       "...           ...       ...       ...               ...            ...   \n",
       "3649     0.679637  0.509620 -0.789880         -1.026441       0.252751   \n",
       "3650     0.679637  0.695496 -1.228589         -1.122665       1.464963   \n",
       "3651     0.679637  1.624876 -1.951167         -1.186815       1.995305   \n",
       "3652     1.109631  1.624876 -2.415682         -1.347189       1.995305   \n",
       "3653     0.679637  1.717814 -2.415682         -1.240273       1.995305   \n",
       "\n",
       "      temperature  \n",
       "0       -0.272804  \n",
       "1       -1.095705  \n",
       "2       -1.001274  \n",
       "3       -1.190136  \n",
       "4       -0.960803  \n",
       "...           ...  \n",
       "3649    -1.352019  \n",
       "3650    -1.055235  \n",
       "3651    -0.879862  \n",
       "3652    -0.340255  \n",
       "3653    -0.596569  \n",
       "\n",
       "[3654 rows x 6 columns]"
      ]
     },
     "execution_count": 42,
     "metadata": {},
     "output_type": "execute_result"
    }
   ],
   "source": [
    "df_scaled_selected=df_scaled.drop('sunshine',axis=1)\n",
    "df_scaled_selected"
   ]
  },
  {
   "cell_type": "markdown",
   "metadata": {},
   "source": [
    "## Demo 3.2 : Multiple Linear Regression "
   ]
  },
  {
   "cell_type": "code",
   "execution_count": 44,
   "metadata": {},
   "outputs": [
    {
     "data": {
      "text/html": [
       "<div>\n",
       "<style scoped>\n",
       "    .dataframe tbody tr th:only-of-type {\n",
       "        vertical-align: middle;\n",
       "    }\n",
       "\n",
       "    .dataframe tbody tr th {\n",
       "        vertical-align: top;\n",
       "    }\n",
       "\n",
       "    .dataframe thead th {\n",
       "        text-align: right;\n",
       "    }\n",
       "</style>\n",
       "<table border=\"1\" class=\"dataframe\">\n",
       "  <thead>\n",
       "    <tr style=\"text-align: right;\">\n",
       "      <th></th>\n",
       "      <th>temperature</th>\n",
       "    </tr>\n",
       "  </thead>\n",
       "  <tbody>\n",
       "    <tr>\n",
       "      <th>temperature</th>\n",
       "      <td>1.000000</td>\n",
       "    </tr>\n",
       "    <tr>\n",
       "      <th>global_radiation</th>\n",
       "      <td>0.708199</td>\n",
       "    </tr>\n",
       "    <tr>\n",
       "      <th>precipitation</th>\n",
       "      <td>0.043665</td>\n",
       "    </tr>\n",
       "    <tr>\n",
       "      <th>cloud_cover</th>\n",
       "      <td>-0.187047</td>\n",
       "    </tr>\n",
       "    <tr>\n",
       "      <th>pressure</th>\n",
       "      <td>-0.229251</td>\n",
       "    </tr>\n",
       "    <tr>\n",
       "      <th>humidity</th>\n",
       "      <td>-0.376294</td>\n",
       "    </tr>\n",
       "  </tbody>\n",
       "</table>\n",
       "</div>"
      ],
      "text/plain": [
       "                  temperature\n",
       "temperature          1.000000\n",
       "global_radiation     0.708199\n",
       "precipitation        0.043665\n",
       "cloud_cover         -0.187047\n",
       "pressure            -0.229251\n",
       "humidity            -0.376294"
      ]
     },
     "execution_count": 44,
     "metadata": {},
     "output_type": "execute_result"
    }
   ],
   "source": [
    "# To show the correlation values from most negatively correlated to the most positively correlated.\n",
    "sorted_corr=df_scaled_selected.corr()[['temperature']].sort_values('temperature',ascending=False)\n",
    "sorted_corr"
   ]
  },
  {
   "cell_type": "markdown",
   "metadata": {},
   "source": [
    "## 1.  One feature: 'global_radiation' \n",
    "### It has the highest correlation value with the dependent variable.\n",
    "#### Data Splitting, training, and predicting the model\n"
   ]
  },
  {
   "cell_type": "code",
   "execution_count": 46,
   "metadata": {},
   "outputs": [],
   "source": [
    "X1=np.array(df_scaled_selected['global_radiation']).reshape(-1,1)\n",
    "\n",
    "y=np.array(df_scaled_selected['temperature'])"
   ]
  },
  {
   "cell_type": "code",
   "execution_count": 87,
   "metadata": {},
   "outputs": [
    {
     "data": {
      "text/plain": [
       "array([-0.75479651,  1.42548868, -0.06386106, ...,  0.17412781,\n",
       "        0.21251311, -0.45539115])"
      ]
     },
     "execution_count": 87,
     "metadata": {},
     "output_type": "execute_result"
    }
   ],
   "source": [
    "X_train1, X_test, y_train1, y_test1 = train_test_split(X1,y, test_size = 0.3, random_state = 200)\n",
    "s_model1 = LinearRegression().fit(X_train1, y_train1)\n",
    "s_r_sq1 = s_model1.score(X_train1,y_train1)\n",
    "y_pred1 = s_model1.predict(X_test)\n",
    "y_pred1\n",
    "# print('intercept:',s_model1.intercept_)\n",
    "# print('slope:',s_model1.coef_)"
   ]
  },
  {
   "cell_type": "markdown",
   "metadata": {},
   "source": [
    "#### Evaluating the model performance"
   ]
  },
  {
   "cell_type": "code",
   "execution_count": 49,
   "metadata": {},
   "outputs": [
    {
     "name": "stdout",
     "output_type": "stream",
     "text": [
      "MSE: 0.5010679782623538\n",
      "MAE: 0.5815758242046911\n",
      "RMSE: 0.7078615530330447\n",
      "R2: 0.4988459098481737\n"
     ]
    }
   ],
   "source": [
    "# Calculating MSE, MAE, RMSE, R-Square\n",
    "MSE1= mean_squared_error(y_test1,y_pred1)\n",
    "print('MSE:',MSE1)\n",
    "MAE1= mean_absolute_error(y_test1,y_pred1)\n",
    "print('MAE:',MAE1)\n",
    "RMSE1= mean_squared_error(y_test1,y_pred1,squared=False)\n",
    "print('RMSE:',RMSE1)\n",
    "R2_1 = r2_score(y_test1,y_pred1)\n",
    "print('R2:',R2_1)"
   ]
  },
  {
   "cell_type": "markdown",
   "metadata": {},
   "source": [
    "## 2. Two features: 'global_radiation' and 'humidity'"
   ]
  },
  {
   "cell_type": "code",
   "execution_count": 51,
   "metadata": {
    "id": "KhvKYRZ6ZFEa"
   },
   "outputs": [],
   "source": [
    "# Two features\n",
    "\n",
    "X2=np.array(df_scaled_selected[['global_radiation','humidity']]).reshape(-1,2)\n",
    "\n",
    "y=np.array(df_scaled_selected['temperature'])"
   ]
  },
  {
   "cell_type": "markdown",
   "metadata": {},
   "source": [
    "#### Splitting data and training model"
   ]
  },
  {
   "cell_type": "code",
   "execution_count": 53,
   "metadata": {},
   "outputs": [
    {
     "name": "stdout",
     "output_type": "stream",
     "text": [
      "y_pred2 [-0.89223987  1.36001068  0.02251962 ...  0.26770263  0.05039558\n",
      " -0.32996006]\n",
      "0.010791095909078117\n",
      "[0.85307135 0.20206305]\n"
     ]
    }
   ],
   "source": [
    "X_train2, X_test2, y_train2, y_test2 = train_test_split(X2,y, test_size = 0.3, random_state = 200)\n",
    "mult_model = LinearRegression().fit(X_train2, y_train2)\n",
    "y_pred2=mult_model.predict(X_test2)\n",
    "print('y_pred2',y_pred2)\n",
    "\n",
    "print(mult_model.intercept_)\n",
    "print(mult_model.coef_)"
   ]
  },
  {
   "cell_type": "markdown",
   "metadata": {},
   "source": [
    "#### Evaluating the model performance"
   ]
  },
  {
   "cell_type": "code",
   "execution_count": 55,
   "metadata": {},
   "outputs": [
    {
     "name": "stdout",
     "output_type": "stream",
     "text": [
      "MSE: 0.4731224543407359\n",
      "MAE: 0.5593656720951091\n",
      "RMSE: 0.687838974136197\n",
      "R2: 0.5267962363953265\n"
     ]
    }
   ],
   "source": [
    "\n",
    "MSE2= mean_squared_error(y_test2,y_pred2)\n",
    "print('MSE:',MSE2)\n",
    "MAE2= mean_absolute_error(y_test2,y_pred2)\n",
    "print('MAE:',MAE2)\n",
    "RMSE2= mean_squared_error(y_test2,y_pred2,squared=False)\n",
    "print('RMSE:',RMSE2)\n",
    "R2_2 = r2_score(y_test2,y_pred2)\n",
    "print('R2:',R2_2)\n"
   ]
  },
  {
   "cell_type": "markdown",
   "metadata": {},
   "source": [
    "### Interpretation:\n",
    "by adding the humidity feature R2 has been increased which means the model is improving"
   ]
  },
  {
   "cell_type": "markdown",
   "metadata": {},
   "source": [
    "## 3. Three features: 'global_radiation', 'humidity', and 'pressure'"
   ]
  },
  {
   "cell_type": "code",
   "execution_count": 58,
   "metadata": {
    "id": "KhvKYRZ6ZFEa"
   },
   "outputs": [],
   "source": [
    "# Three features\n",
    "X3=np.array(df_scaled_selected[['global_radiation','humidity','pressure']]).reshape(-1,3)\n",
    "y=np.array(df_scaled_selected['temperature'])\n"
   ]
  },
  {
   "cell_type": "markdown",
   "metadata": {},
   "source": [
    "#### Splitting data and training model"
   ]
  },
  {
   "cell_type": "code",
   "execution_count": 60,
   "metadata": {},
   "outputs": [
    {
     "name": "stdout",
     "output_type": "stream",
     "text": [
      "y_pred3 [-0.51381582  1.12184197  0.1300673  ...  0.35204918  0.02858611\n",
      " -0.25945366]\n",
      "0.00979591356353422\n",
      "[ 0.84548811  0.19327065 -0.21624531]\n"
     ]
    }
   ],
   "source": [
    "X_train3, X_test3, y_train3, y_test3 = train_test_split(X3,y,test_size = 0.3, random_state = 200)\n",
    "mult_model_2= LinearRegression().fit(X_train3, y_train3)\n",
    "y_pred3=mult_model_2.predict(X_test3)\n",
    "print('y_pred3',y_pred3)\n",
    "\n",
    "print(mult_model_2.intercept_)\n",
    "print(mult_model_2.coef_)"
   ]
  },
  {
   "cell_type": "markdown",
   "metadata": {},
   "source": [
    "#### Evaluating the model performance"
   ]
  },
  {
   "cell_type": "code",
   "execution_count": 62,
   "metadata": {},
   "outputs": [
    {
     "name": "stdout",
     "output_type": "stream",
     "text": [
      "MSE3: 0.4331016769957153\n",
      "MAE3: 0.5252331888319391\n",
      "RMSE3: 0.6581046094624435\n",
      "R2_3: 0.5668238915790933\n"
     ]
    }
   ],
   "source": [
    "\n",
    "MSE3= mean_squared_error(y_test3,y_pred3)\n",
    "print('MSE3:',MSE3)\n",
    "MAE3= mean_absolute_error(y_test3,y_pred3)\n",
    "print('MAE3:',MAE3)\n",
    "RMSE3= mean_squared_error(y_test3,y_pred3,squared=False)\n",
    "print('RMSE3:',RMSE3)\n",
    "R2_3 = r2_score(y_test3,y_pred3)\n",
    "print('R2_3:',R2_3)\n"
   ]
  },
  {
   "cell_type": "markdown",
   "metadata": {},
   "source": [
    "### Interpretation:\n"
   ]
  },
  {
   "cell_type": "markdown",
   "metadata": {},
   "source": [
    "### 4. Four features: 'global_radiation', 'humidity', 'pressure', and 'cloud_cover'"
   ]
  },
  {
   "cell_type": "code",
   "execution_count": 65,
   "metadata": {},
   "outputs": [],
   "source": [
    "# Three features\n",
    "\n",
    "X4=np.array(df_scaled_selected[['global_radiation','humidity','pressure','cloud_cover']]).reshape(-1,4)\n",
    "y=np.array(df_scaled_selected['temperature'])\n"
   ]
  },
  {
   "cell_type": "code",
   "execution_count": 66,
   "metadata": {},
   "outputs": [
    {
     "name": "stdout",
     "output_type": "stream",
     "text": [
      "y_pred3 [-0.4921757   1.23532906 -0.20611371 ...  0.50149278 -0.15428475\n",
      " -0.13169002]\n",
      "0.005648988986832488\n",
      "[ 0.96365224  0.15213182 -0.14392938  0.25078784]\n"
     ]
    }
   ],
   "source": [
    "X_train4, X_test4, y_train4, y_test4 = train_test_split(X4,y,test_size = 0.3, random_state = 200)\n",
    "mult_model_3= LinearRegression().fit(X_train4, y_train4)\n",
    "y_pred4=mult_model_3.predict(X_test4)\n",
    "print('y_pred3',y_pred4)\n",
    "\n",
    "print(mult_model_3.intercept_)\n",
    "print(mult_model_3.coef_)"
   ]
  },
  {
   "cell_type": "code",
   "execution_count": 67,
   "metadata": {},
   "outputs": [
    {
     "name": "stdout",
     "output_type": "stream",
     "text": [
      "MSE3: 0.39614875853678055\n",
      "MAE3: 0.5033102922283074\n",
      "RMSE3: 0.6294034942203456\n",
      "R2_3: 0.6037831606446684\n"
     ]
    }
   ],
   "source": [
    "\n",
    "MSE4= mean_squared_error(y_test4,y_pred4)\n",
    "print('MSE3:',MSE4)\n",
    "MAE4= mean_absolute_error(y_test4,y_pred4)\n",
    "print('MAE3:',MAE4)\n",
    "RMSE4= mean_squared_error(y_test4,y_pred4,squared=False)\n",
    "print('RMSE3:',RMSE4)\n",
    "R2_4 = r2_score(y_test4,y_pred4)\n",
    "print('R2_3:',R2_4)\n"
   ]
  },
  {
   "cell_type": "markdown",
   "metadata": {},
   "source": [
    "### Interpretation\n"
   ]
  },
  {
   "cell_type": "markdown",
   "metadata": {},
   "source": []
  },
  {
   "cell_type": "markdown",
   "metadata": {},
   "source": [
    "### Assumption to check model's homoscedasticity"
   ]
  },
  {
   "cell_type": "code",
   "execution_count": 71,
   "metadata": {},
   "outputs": [],
   "source": [
    "def calculate_residuals(model,feature,label):\n",
    "    prediction=model.predict(feature)\n",
    "    df_result=pd.DataFrame({'actual':label,'predicted':prediction})\n",
    "    df_result['residual']=abs(df_result['actual'])-abs(df_result['predicted'])\n",
    "    return df_result"
   ]
  },
  {
   "cell_type": "code",
   "execution_count": 72,
   "metadata": {},
   "outputs": [],
   "source": [
    "def homoscedasticity(model,feature,label):\n",
    "    df_result=calculate_residuals(model,feature,label)\n",
    "    plt.subplots(figsize=(12,10))\n",
    "    ax=plt.subplot(111) #to remove spines\n",
    "    plt.scatter(x=df_result.index,y=df_result.residual,color=\"green\",alpha=0.5) \n",
    "    plt.plot(np.repeat(0,df_result.index.max()),color=\"brown\",linestyle=\"--\")\n",
    "    plt.title(\"Residual Plot\")\n",
    "    plt.xlabel(\"Index\")\n",
    "    plt.ylabel(\"Residuals\")\n",
    "    plt.show()"
   ]
  },
  {
   "cell_type": "code",
   "execution_count": 73,
   "metadata": {},
   "outputs": [
    {
     "data": {
      "image/png": "[encoded data removed]",
      "text/plain": [
       "<Figure size 1200x1000 with 1 Axes>"
      ]
     },
     "metadata": {},
     "output_type": "display_data"
    }
   ],
   "source": [
    "homoscedasticity(mult_model_3,X_test4,y_test4)"
   ]
  },
  {
   "cell_type": "markdown",
   "metadata": {},
   "source": [
    "# Interpretation: \n",
    "we observe a fairly even spread of residuals both above and below the zero line across all indices so there is some evidence of homoscedasticity"
   ]
  },
  {
   "cell_type": "code",
   "execution_count": 75,
   "metadata": {},
   "outputs": [
    {
     "data": {
      "image/png": "[encoded data removed]",
      "text/plain": [
       "<Figure size 640x480 with 1 Axes>"
      ]
     },
     "metadata": {},
     "output_type": "display_data"
    }
   ],
   "source": [
    "# Code to Error Normality curve\n",
    "df_result=calculate_residuals(mult_model_3,X_test4,y_test4)\n",
    "plt.hist(df_result.residual,bins=30,label='error distribution',alpha=0.6,density=True)\n",
    "plt.xlabel('error value')\n",
    "plt.ylabel('probability dendity')\n",
    "plt.title('error distribution')\n",
    "plt.grid(True)\n",
    "plt.legend()\n",
    "plt.show()"
   ]
  },
  {
   "cell_type": "markdown",
   "metadata": {},
   "source": [
    "# Interpretation: \n",
    "so error distribution curve show normality in nature"
   ]
  },
  {
   "cell_type": "markdown",
   "metadata": {},
   "source": [
    "### Predicting new data"
   ]
  },
  {
   "cell_type": "code",
   "execution_count": 78,
   "metadata": {},
   "outputs": [
    {
     "data": {
      "text/plain": [
       "array([[-1.33649694,  1.71781357, -2.41568241,  1.10963081]])"
      ]
     },
     "execution_count": 78,
     "metadata": {},
     "output_type": "execute_result"
    }
   ],
   "source": [
    "# Reshape the new data into a 2D array for prediction\n",
    "new_data_array=np.reshape(new_data[['global_radiation','humidity','pressure','cloud_cover']],(1,-1))\n",
    "new_data_array"
   ]
  },
  {
   "cell_type": "code",
   "execution_count": 79,
   "metadata": {},
   "outputs": [
    {
     "data": {
      "text/plain": [
       "array([-0.39496559])"
      ]
     },
     "execution_count": 79,
     "metadata": {},
     "output_type": "execute_result"
    }
   ],
   "source": [
    "# Predict the target value for the new data\n",
    "predicted_value=mult_model_3.predict(new_data_array)\n",
    "predicted_value\n",
    "# Print the predicted value\n"
   ]
  },
  {
   "cell_type": "code",
   "execution_count": 80,
   "metadata": {},
   "outputs": [],
   "source": [
    "# Original value of the new data\n"
   ]
  },
  {
   "cell_type": "markdown",
   "metadata": {},
   "source": [
    "### Interpretation:\n",
    "\n"
   ]
  },
  {
   "cell_type": "code",
   "execution_count": 82,
   "metadata": {},
   "outputs": [
    {
     "data": {
      "text/html": [
       "<div>\n",
       "<style scoped>\n",
       "    .dataframe tbody tr th:only-of-type {\n",
       "        vertical-align: middle;\n",
       "    }\n",
       "\n",
       "    .dataframe tbody tr th {\n",
       "        vertical-align: top;\n",
       "    }\n",
       "\n",
       "    .dataframe thead th {\n",
       "        text-align: right;\n",
       "    }\n",
       "</style>\n",
       "<table border=\"1\" class=\"dataframe\">\n",
       "  <thead>\n",
       "    <tr style=\"text-align: right;\">\n",
       "      <th></th>\n",
       "      <th>cloud_cover</th>\n",
       "      <th>humidity</th>\n",
       "      <th>pressure</th>\n",
       "      <th>global_radiation</th>\n",
       "      <th>precipitation</th>\n",
       "      <th>sunshine</th>\n",
       "      <th>temperature</th>\n",
       "    </tr>\n",
       "  </thead>\n",
       "  <tbody>\n",
       "    <tr>\n",
       "      <th>3654</th>\n",
       "      <td>1.109631</td>\n",
       "      <td>1.717814</td>\n",
       "      <td>-2.415682</td>\n",
       "      <td>-1.336497</td>\n",
       "      <td>1.995305</td>\n",
       "      <td>-1.076724</td>\n",
       "      <td>-1.095705</td>\n",
       "    </tr>\n",
       "  </tbody>\n",
       "</table>\n",
       "</div>"
      ],
      "text/plain": [
       "      cloud_cover  humidity  pressure  global_radiation  precipitation  \\\n",
       "3654     1.109631  1.717814 -2.415682         -1.336497       1.995305   \n",
       "\n",
       "      sunshine  temperature  \n",
       "3654 -1.076724    -1.095705  "
      ]
     },
     "execution_count": 82,
     "metadata": {},
     "output_type": "execute_result"
    }
   ],
   "source": [
    "new_data.to_frame().transpose()"
   ]
  },
  {
   "cell_type": "markdown",
   "metadata": {},
   "source": [
    "# moderate error with imporvemnet over single variable :\n",
    " MSE=0.396 this value indicates lower error comapre to previous model you have shared assumping 0.5.\n",
    " a lower MSE suggest a model makes prediction tat are closes to the actual temperatur on avg.\n",
    "\n",
    " MAE=0.50 similar to mse this lower then a potential prevous mae  indicating reduction in the avg abs value b/w predicted and actual temp\n",
    "\n",
    " RMSE=0.629 it is lower than the possible prvious value of 0.70 signifiying decrease in the avg magnitude of the errors in the temperature\n"
   ]
  },
  {
   "cell_type": "markdown",
   "metadata": {},
   "source": [
    "# IMPOROVED CORRELATION\n",
    "r2_score=0.60 this value is higher than the potential prevoius r2_score of 0.49 suggesting a significant improvement and R2_score of 0.60 indicates that the model explained around 60% of variablity in temperature based on global radiation ,humidity,pressure and clod cover.\n",
    "this represents a stonger coreelation b/w these combined factors and temperature comapred using gobal radition alone"
   ]
  },
  {
   "cell_type": "markdown",
   "metadata": {},
   "source": [
    "# OVERALL Interpretation\n",
    "this multiple linear regression model shows better performance model comapared to potential single varibale model using only global radition\n",
    "the errors (MSE,MAE,RMSE) have decreased indicating the more acurate prediction on a average .\n",
    "the r2_score value have increased significantly suggesting that the             cloudcover together explain a large portion together\n",
    "\n",
    " in conclusion this multiple linear reg model demontste the clear improvement prediction  in temparture         captured large portion of the influence factors comapred to a potential singl variable \n",
    "\n"
   ]
  },
  {
   "cell_type": "code",
   "execution_count": 86,
   "metadata": {},
   "outputs": [
    {
     "ename": "NameError",
     "evalue": "name 'x1' is not defined",
     "output_type": "error",
     "traceback": [
      "\u001b[1;31m---------------------------------------------------------------------------\u001b[0m",
      "\u001b[1;31mNameError\u001b[0m                                 Traceback (most recent call last)",
      "Cell \u001b[1;32mIn[86], line 1\u001b[0m\n\u001b[1;32m----> 1\u001b[0m y\u001b[38;5;241m=\u001b[39m\u001b[38;5;241m0.0056\u001b[39m\u001b[38;5;241m+\u001b[39m\u001b[38;5;241m0.96\u001b[39m\u001b[38;5;241m*\u001b[39mx1\u001b[38;5;241m+\u001b[39m\u001b[38;5;241m1.5\u001b[39m\u001b[38;5;241m*\u001b[39mx2\u001b[38;5;241m-\u001b[39m\u001b[38;5;241m0.14\u001b[39m\u001b[38;5;241m*\u001b[39mx3\u001b[38;5;241m+\u001b[39m\u001b[38;5;241m0.25\u001b[39m\u001b[38;5;241m*\u001b[39mx4\n",
      "\u001b[1;31mNameError\u001b[0m: name 'x1' is not defined"
     ]
    }
   ],
   "source": [
    "y=0.0056+0.96*x1+1.5*x2-0.14*x3+0.25*x4"
   ]
  },
  {
   "cell_type": "code",
   "execution_count": null,
   "metadata": {},
   "outputs": [],
   "source": [
    "# .values->this extract the values from selected column as numpy array \n",
    "# -reshaape(-1,2) this reshape the  array into the format whwere each row represnt the data points with two values globalradition and humidity.\n",
    "# the -1 tells numpy to figure out the based on the number of row based on number of elements in the array"
   ]
  },
  {
   "cell_type": "code",
   "execution_count": null,
   "metadata": {},
   "outputs": [],
   "source": [
    "# visualize the data\n",
    "\n",
    "X_2=df_scaled_selected[['global_radiation','humidity']].values.reshape(-1,2)  \n",
    "Y=df_scaled_selected['temperature']\n",
    "x=X_2[:,0] #this extracts the first column\n",
    "y=X_2[:,1]\n",
    "z=Y\n",
    "\n",
    "fig=plt.figure(figsize=(16,12))\n",
    "ax=plt.axes(projection='3d')\n",
    "# ax.grid(b=True)\n",
    "\n",
    "ax.scatter3D(x,y,z)\n",
    "ax.set_xlabel('global_radiation',fontweight='bold')\n",
    "ax.set_ylabel('humidity',fontweight='bold')\n",
    "ax.set_zlabel('temperature',fontweight='bold')"
   ]
  },
  {
   "cell_type": "code",
   "execution_count": null,
   "metadata": {},
   "outputs": [],
   "source": [
    "from mpl_toolkits.mplot3d import Axes3D\n"
   ]
  },
  {
   "cell_type": "code",
   "execution_count": null,
   "metadata": {},
   "outputs": [],
   "source": [
    "X_2=df_scaled_selected[['global_radiation','humidity']].values.reshape(-1,2)  \n",
    "Y=df_scaled_selected['temperature']\n",
    "x=X_2[:,0] #this extracts the first column\n",
    "y=X_2[:,1]\n",
    "z=Y\n",
    "\n",
    "x1_line=np.arange(min(x),max(x),0.1) #creates an array of evently spaces values b/w the min and max value of x(global radition) with size of step size 0.1\n",
    "                                    #this is used to plot regression line\n",
    "x2_line=np.array([mult_model_3.coef_[0]*val+(mult_model_3.intercept_+mult_model_3.coef_[1]*np.mean(y))for val in x1_line])\n",
    "y_line=mult_model_3.coef_[0]*x1_line+mult_model_3.coef_[1]*x2_line+mult_model_3.intercept_\n",
    "# taking the amt of gr(x1_line) and * by how much gr affect the temperature\n",
    "# we are adding by taking the amount of humidity (x2_line) and  * by how much humidity affect the temperature\n",
    "# adding the base temperature\n",
    "\n",
    "fig=plt.figure(figsize=(16,12))\n",
    "ax=fig.add_subplot(111,projection='3d')\n",
    "# ax.grid(b=True)\n",
    "\n",
    "ax.scatter3D(x,y,z,label='datapoints',c='orange')\n",
    "# plot regression line\n",
    "ax.plot(x1_line,x2_line,y_line,label='Regression line',c='b')\n",
    "# set label and title \n",
    "ax.set_xlabel('global_radiation',fontweight='bold')\n",
    "ax.set_ylabel('humidity',fontweight='bold')\n",
    "ax.set_zlabel('temperature',fontweight='bold')\n",
    "ax.set_title(\"linear regression with 3D data\")\n",
    "ax.legend()\n",
    "plt.show()"
   ]
  },
  {
   "cell_type": "code",
   "execution_count": null,
   "metadata": {},
   "outputs": [],
   "source": [
    "# mult_model2.coef_[0] : this extracts the coeeficient of the first independent variable(gr) from the trained linear regression model(mult_model2)\n",
    "# *val: this represents each individual value in the x1_line array which cntains the range of values of gr\n",
    "# this extract the intercept from the trained model\n",
    "# mult_model2.coef_[1] = this extracts the coeeficient of the first independent variable(humidity) from the trained linear regression model(mult_model2)\n",
    "# np.mean(y): calculating the mean of the humidity value\n",
    "#for loop: this line calculates the corresponding x2 line values based on the following \n",
    "#it iterates through each val in the x1_line array \n",
    "#for each val, it calculates the value for x2_line using the equation \n",
    "#x2_line _value = (coeff of gr * val)+(intercept term + coeff of humidity * mean of humidity)\n",
    "#this calculation determines the relationship b/w gr(x1_line) and humidity (x2_line) based on the trained linear regression model\n",
    "#y_line: this calculates the predicted value y(temp) for the regression line based on the calculated x1_line and x2_line"
   ]
  }
 ],
 "metadata": {
  "colab": {
   "collapsed_sections": [],
   "name": "DS2_C05_S2_Linear_Regression_Concept_Solution.ipynb",
   "provenance": []
  },
  "kernelspec": {
   "display_name": "Python 3 (ipykernel)",
   "language": "python",
   "name": "python3"
  },
  "language_info": {
   "codemirror_mode": {
    "name": "ipython",
    "version": 3
   },
   "file_extension": ".py",
   "mimetype": "text/x-python",
   "name": "python",
   "nbconvert_exporter": "python",
   "pygments_lexer": "ipython3",
   "version": "3.12.7"
  }
 },
 "nbformat": 4,
 "nbformat_minor": 4
}
